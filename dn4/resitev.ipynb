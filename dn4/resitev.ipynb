{
 "cells": [
  {
   "cell_type": "code",
   "execution_count": 1,
   "metadata": {},
   "outputs": [],
   "source": [
    "import numpy as np\n",
    "import pandas as pd\n",
    "from matplotlib import pyplot as plt\n",
    "\n",
    "data = pd.read_csv(\"DN4_1_podatki.csv\")\n",
    "X = data.drop(\"Q\", axis=1)\n",
    "y = data[\"Q\"]"
   ]
  },
  {
   "cell_type": "code",
   "execution_count": 2,
   "metadata": {},
   "outputs": [
    {
     "data": {
      "text/html": [
       "<div>\n",
       "<style scoped>\n",
       "    .dataframe tbody tr th:only-of-type {\n",
       "        vertical-align: middle;\n",
       "    }\n",
       "\n",
       "    .dataframe tbody tr th {\n",
       "        vertical-align: top;\n",
       "    }\n",
       "\n",
       "    .dataframe thead th {\n",
       "        text-align: right;\n",
       "    }\n",
       "</style>\n",
       "<table border=\"1\" class=\"dataframe\">\n",
       "  <thead>\n",
       "    <tr style=\"text-align: right;\">\n",
       "      <th></th>\n",
       "      <th>Q</th>\n",
       "      <th>Tw</th>\n",
       "      <th>Ta</th>\n",
       "      <th>theta</th>\n",
       "      <th>eta</th>\n",
       "    </tr>\n",
       "  </thead>\n",
       "  <tbody>\n",
       "    <tr>\n",
       "      <th>0</th>\n",
       "      <td>1.711929</td>\n",
       "      <td>53.005339</td>\n",
       "      <td>10.788147</td>\n",
       "      <td>0.321921</td>\n",
       "      <td>0.349083</td>\n",
       "    </tr>\n",
       "    <tr>\n",
       "      <th>1</th>\n",
       "      <td>0.067135</td>\n",
       "      <td>20.761340</td>\n",
       "      <td>12.225502</td>\n",
       "      <td>2.705824</td>\n",
       "      <td>0.821069</td>\n",
       "    </tr>\n",
       "    <tr>\n",
       "      <th>2</th>\n",
       "      <td>0.034759</td>\n",
       "      <td>39.546739</td>\n",
       "      <td>35.892183</td>\n",
       "      <td>1.873776</td>\n",
       "      <td>0.756082</td>\n",
       "    </tr>\n",
       "    <tr>\n",
       "      <th>3</th>\n",
       "      <td>0.417783</td>\n",
       "      <td>33.972185</td>\n",
       "      <td>21.385801</td>\n",
       "      <td>2.089589</td>\n",
       "      <td>0.516134</td>\n",
       "    </tr>\n",
       "    <tr>\n",
       "      <th>4</th>\n",
       "      <td>1.667614</td>\n",
       "      <td>50.092173</td>\n",
       "      <td>15.254621</td>\n",
       "      <td>0.328350</td>\n",
       "      <td>0.083327</td>\n",
       "    </tr>\n",
       "    <tr>\n",
       "      <th>...</th>\n",
       "      <td>...</td>\n",
       "      <td>...</td>\n",
       "      <td>...</td>\n",
       "      <td>...</td>\n",
       "      <td>...</td>\n",
       "    </tr>\n",
       "    <tr>\n",
       "      <th>495</th>\n",
       "      <td>1.327393</td>\n",
       "      <td>54.081114</td>\n",
       "      <td>30.039247</td>\n",
       "      <td>1.153132</td>\n",
       "      <td>0.708757</td>\n",
       "    </tr>\n",
       "    <tr>\n",
       "      <th>496</th>\n",
       "      <td>0.053967</td>\n",
       "      <td>42.933431</td>\n",
       "      <td>39.799381</td>\n",
       "      <td>1.572222</td>\n",
       "      <td>0.022975</td>\n",
       "    </tr>\n",
       "    <tr>\n",
       "      <th>497</th>\n",
       "      <td>0.707523</td>\n",
       "      <td>47.145488</td>\n",
       "      <td>30.707064</td>\n",
       "      <td>2.093919</td>\n",
       "      <td>0.684035</td>\n",
       "    </tr>\n",
       "    <tr>\n",
       "      <th>498</th>\n",
       "      <td>0.062350</td>\n",
       "      <td>39.405105</td>\n",
       "      <td>32.647363</td>\n",
       "      <td>0.311168</td>\n",
       "      <td>0.053085</td>\n",
       "    </tr>\n",
       "    <tr>\n",
       "      <th>499</th>\n",
       "      <td>0.011049</td>\n",
       "      <td>47.549837</td>\n",
       "      <td>45.866743</td>\n",
       "      <td>2.258284</td>\n",
       "      <td>0.139831</td>\n",
       "    </tr>\n",
       "  </tbody>\n",
       "</table>\n",
       "<p>500 rows × 5 columns</p>\n",
       "</div>"
      ],
      "text/plain": [
       "            Q         Tw         Ta     theta       eta\n",
       "0    1.711929  53.005339  10.788147  0.321921  0.349083\n",
       "1    0.067135  20.761340  12.225502  2.705824  0.821069\n",
       "2    0.034759  39.546739  35.892183  1.873776  0.756082\n",
       "3    0.417783  33.972185  21.385801  2.089589  0.516134\n",
       "4    1.667614  50.092173  15.254621  0.328350  0.083327\n",
       "..        ...        ...        ...       ...       ...\n",
       "495  1.327393  54.081114  30.039247  1.153132  0.708757\n",
       "496  0.053967  42.933431  39.799381  1.572222  0.022975\n",
       "497  0.707523  47.145488  30.707064  2.093919  0.684035\n",
       "498  0.062350  39.405105  32.647363  0.311168  0.053085\n",
       "499  0.011049  47.549837  45.866743  2.258284  0.139831\n",
       "\n",
       "[500 rows x 5 columns]"
      ]
     },
     "execution_count": 2,
     "metadata": {},
     "output_type": "execute_result"
    }
   ],
   "source": [
    "data"
   ]
  },
  {
   "attachments": {},
   "cell_type": "markdown",
   "metadata": {},
   "source": [
    "The best equation from the hall of fame is `(square(((2.5343432 - eta) * (Tw - Ta)) * 0.027452817) * sin(theta))`. We attempt to fine tune the coefficients using linear regression\n",
    "\n",
    "The expression expanded is `0.000753657 η^2 Tw^2 sin(θ) - 0.00382005 η Tw^2 sin(θ) + 0.00484066 Tw^2 sin(θ) - 0.00150731 η^2 Tw Ta sin(θ) + 0.0076401 η Tw Ta sin(θ) - 0.00968132 Tw Ta sin(θ) + 0.000753657 η^2 Ta^2 sin(θ) - 0.00382005 η Ta^2 sin(θ) + 0.00484066 Ta^2 sin(θ)`\n",
    "\n",
    "With the coefficients as parameters this can be written as `x1 η^2 u^2 sin(θ) + x2 η u^2 sin(θ) + x3 u^2 sin(θ) + x4 η^2 u v sin(θ) + x5 η u v sin(θ) + x6 u v sin(θ) + x7 η^2 v^2 sin(θ) + x8 η v^2 sin(θ) + x9 v^2 sin(θ) = Q`\n"
   ]
  },
  {
   "cell_type": "code",
   "execution_count": 3,
   "metadata": {},
   "outputs": [],
   "source": [
    "old_coef = [0.00484066, -0.00382005, 0.00075365, -0.00968132, 0.0076401, -0.00150731, 0.00484066, -0.00382005, 0.000753657]"
   ]
  },
  {
   "cell_type": "code",
   "execution_count": 4,
   "metadata": {},
   "outputs": [],
   "source": [
    "from math import sin\n",
    "def add_mult(table, a, b):\n",
    "    table[a+b] = table[a].to_numpy()*table[b].to_numpy()\n",
    "    return table\n",
    "mod = X\n",
    "mod[\"sin(theta)\"] = mod[\"theta\"].apply(lambda x : sin(x))\n",
    "mod = add_mult(mod, \"Ta\", \"sin(theta)\")\n",
    "mod = add_mult(mod, \"Tw\", \"sin(theta)\")\n",
    "mod = add_mult(mod, \"Ta\", \"Tasin(theta)\") # v² sin\n",
    "mod = add_mult(mod, \"eta\", \"TaTasin(theta)\") # η v² sin\n",
    "mod = add_mult(mod, \"eta\", \"etaTaTasin(theta)\") # η² v² sin\n",
    "mod = add_mult(mod, \"Tw\", \"Tasin(theta)\") # u v sin\n",
    "mod = add_mult(mod, \"eta\", \"TwTasin(theta)\") # η uv sin\n",
    "mod = add_mult(mod, \"eta\", \"etaTwTasin(theta)\") # η² uv sin\n",
    "mod = add_mult(mod, \"Tw\", \"Twsin(theta)\") # u² sin\n",
    "mod = add_mult(mod, \"eta\", \"TwTwsin(theta)\") # η u² sin\n",
    "mod = add_mult(mod, \"eta\", \"etaTwTwsin(theta)\") # η² u² sin\n",
    "mod = mod.drop(\"Twsin(theta)\", axis=1)\n",
    "mod = mod.drop(\"Tasin(theta)\", axis=1)\n",
    "mod = mod.drop(\"Ta\", axis=1)\n",
    "mod = mod.drop(\"Tw\", axis=1)\n",
    "mod = mod.drop(\"theta\", axis=1)\n",
    "mod = mod.drop(\"eta\", axis=1)\n",
    "mod = mod.drop(\"sin(theta)\", axis=1)"
   ]
  },
  {
   "cell_type": "code",
   "execution_count": 5,
   "metadata": {},
   "outputs": [
    {
     "data": {
      "text/html": [
       "<div>\n",
       "<style scoped>\n",
       "    .dataframe tbody tr th:only-of-type {\n",
       "        vertical-align: middle;\n",
       "    }\n",
       "\n",
       "    .dataframe tbody tr th {\n",
       "        vertical-align: top;\n",
       "    }\n",
       "\n",
       "    .dataframe thead th {\n",
       "        text-align: right;\n",
       "    }\n",
       "</style>\n",
       "<table border=\"1\" class=\"dataframe\">\n",
       "  <thead>\n",
       "    <tr style=\"text-align: right;\">\n",
       "      <th></th>\n",
       "      <th>TaTasin(theta)</th>\n",
       "      <th>etaTaTasin(theta)</th>\n",
       "      <th>etaetaTaTasin(theta)</th>\n",
       "      <th>TwTasin(theta)</th>\n",
       "      <th>etaTwTasin(theta)</th>\n",
       "      <th>etaetaTwTasin(theta)</th>\n",
       "      <th>TwTwsin(theta)</th>\n",
       "      <th>etaTwTwsin(theta)</th>\n",
       "      <th>etaetaTwTwsin(theta)</th>\n",
       "    </tr>\n",
       "  </thead>\n",
       "  <tbody>\n",
       "    <tr>\n",
       "      <th>0</th>\n",
       "      <td>36.822727</td>\n",
       "      <td>12.854201</td>\n",
       "      <td>4.487188</td>\n",
       "      <td>180.920879</td>\n",
       "      <td>63.156470</td>\n",
       "      <td>22.046873</td>\n",
       "      <td>888.917459</td>\n",
       "      <td>310.306301</td>\n",
       "      <td>108.322769</td>\n",
       "    </tr>\n",
       "    <tr>\n",
       "      <th>1</th>\n",
       "      <td>63.089390</td>\n",
       "      <td>51.800720</td>\n",
       "      <td>42.531947</td>\n",
       "      <td>107.138365</td>\n",
       "      <td>87.967952</td>\n",
       "      <td>72.227727</td>\n",
       "      <td>181.942307</td>\n",
       "      <td>149.387123</td>\n",
       "      <td>122.657083</td>\n",
       "    </tr>\n",
       "    <tr>\n",
       "      <th>2</th>\n",
       "      <td>1229.571065</td>\n",
       "      <td>929.656027</td>\n",
       "      <td>702.895792</td>\n",
       "      <td>1354.766478</td>\n",
       "      <td>1024.313972</td>\n",
       "      <td>774.464920</td>\n",
       "      <td>1492.709339</td>\n",
       "      <td>1128.610027</td>\n",
       "      <td>853.321246</td>\n",
       "    </tr>\n",
       "    <tr>\n",
       "      <th>3</th>\n",
       "      <td>397.173293</td>\n",
       "      <td>204.994509</td>\n",
       "      <td>105.804568</td>\n",
       "      <td>630.925392</td>\n",
       "      <td>325.641838</td>\n",
       "      <td>168.074717</td>\n",
       "      <td>1002.249792</td>\n",
       "      <td>517.294864</td>\n",
       "      <td>266.993296</td>\n",
       "    </tr>\n",
       "    <tr>\n",
       "      <th>4</th>\n",
       "      <td>75.042673</td>\n",
       "      <td>6.253083</td>\n",
       "      <td>0.521051</td>\n",
       "      <td>246.420442</td>\n",
       "      <td>20.533484</td>\n",
       "      <td>1.710994</td>\n",
       "      <td>809.180059</td>\n",
       "      <td>67.426572</td>\n",
       "      <td>5.618456</td>\n",
       "    </tr>\n",
       "    <tr>\n",
       "      <th>...</th>\n",
       "      <td>...</td>\n",
       "      <td>...</td>\n",
       "      <td>...</td>\n",
       "      <td>...</td>\n",
       "      <td>...</td>\n",
       "      <td>...</td>\n",
       "      <td>...</td>\n",
       "      <td>...</td>\n",
       "      <td>...</td>\n",
       "    </tr>\n",
       "    <tr>\n",
       "      <th>495</th>\n",
       "      <td>824.788795</td>\n",
       "      <td>584.574770</td>\n",
       "      <td>414.321416</td>\n",
       "      <td>1484.907262</td>\n",
       "      <td>1052.438304</td>\n",
       "      <td>745.922936</td>\n",
       "      <td>2673.350546</td>\n",
       "      <td>1894.755711</td>\n",
       "      <td>1342.921230</td>\n",
       "    </tr>\n",
       "    <tr>\n",
       "      <th>496</th>\n",
       "      <td>1583.989108</td>\n",
       "      <td>36.392109</td>\n",
       "      <td>0.836108</td>\n",
       "      <td>1708.722240</td>\n",
       "      <td>39.257849</td>\n",
       "      <td>0.901948</td>\n",
       "      <td>1843.277634</td>\n",
       "      <td>42.349256</td>\n",
       "      <td>0.972973</td>\n",
       "    </tr>\n",
       "    <tr>\n",
       "      <th>497</th>\n",
       "      <td>816.820208</td>\n",
       "      <td>558.733378</td>\n",
       "      <td>382.193026</td>\n",
       "      <td>1254.088850</td>\n",
       "      <td>857.840308</td>\n",
       "      <td>586.792550</td>\n",
       "      <td>1925.440664</td>\n",
       "      <td>1317.068254</td>\n",
       "      <td>900.920406</td>\n",
       "    </tr>\n",
       "    <tr>\n",
       "      <th>498</th>\n",
       "      <td>326.332155</td>\n",
       "      <td>17.323183</td>\n",
       "      <td>0.919593</td>\n",
       "      <td>393.880298</td>\n",
       "      <td>20.908943</td>\n",
       "      <td>1.109941</td>\n",
       "      <td>475.410367</td>\n",
       "      <td>25.236927</td>\n",
       "      <td>1.339690</td>\n",
       "    </tr>\n",
       "    <tr>\n",
       "      <th>499</th>\n",
       "      <td>1625.873712</td>\n",
       "      <td>227.347314</td>\n",
       "      <td>31.790170</td>\n",
       "      <td>1685.535636</td>\n",
       "      <td>235.689892</td>\n",
       "      <td>32.956719</td>\n",
       "      <td>1747.386871</td>\n",
       "      <td>244.338603</td>\n",
       "      <td>34.166076</td>\n",
       "    </tr>\n",
       "  </tbody>\n",
       "</table>\n",
       "<p>500 rows × 9 columns</p>\n",
       "</div>"
      ],
      "text/plain": [
       "     TaTasin(theta)  etaTaTasin(theta)  etaetaTaTasin(theta)  TwTasin(theta)   \n",
       "0         36.822727          12.854201              4.487188      180.920879  \\\n",
       "1         63.089390          51.800720             42.531947      107.138365   \n",
       "2       1229.571065         929.656027            702.895792     1354.766478   \n",
       "3        397.173293         204.994509            105.804568      630.925392   \n",
       "4         75.042673           6.253083              0.521051      246.420442   \n",
       "..              ...                ...                   ...             ...   \n",
       "495      824.788795         584.574770            414.321416     1484.907262   \n",
       "496     1583.989108          36.392109              0.836108     1708.722240   \n",
       "497      816.820208         558.733378            382.193026     1254.088850   \n",
       "498      326.332155          17.323183              0.919593      393.880298   \n",
       "499     1625.873712         227.347314             31.790170     1685.535636   \n",
       "\n",
       "     etaTwTasin(theta)  etaetaTwTasin(theta)  TwTwsin(theta)   \n",
       "0            63.156470             22.046873      888.917459  \\\n",
       "1            87.967952             72.227727      181.942307   \n",
       "2          1024.313972            774.464920     1492.709339   \n",
       "3           325.641838            168.074717     1002.249792   \n",
       "4            20.533484              1.710994      809.180059   \n",
       "..                 ...                   ...             ...   \n",
       "495        1052.438304            745.922936     2673.350546   \n",
       "496          39.257849              0.901948     1843.277634   \n",
       "497         857.840308            586.792550     1925.440664   \n",
       "498          20.908943              1.109941      475.410367   \n",
       "499         235.689892             32.956719     1747.386871   \n",
       "\n",
       "     etaTwTwsin(theta)  etaetaTwTwsin(theta)  \n",
       "0           310.306301            108.322769  \n",
       "1           149.387123            122.657083  \n",
       "2          1128.610027            853.321246  \n",
       "3           517.294864            266.993296  \n",
       "4            67.426572              5.618456  \n",
       "..                 ...                   ...  \n",
       "495        1894.755711           1342.921230  \n",
       "496          42.349256              0.972973  \n",
       "497        1317.068254            900.920406  \n",
       "498          25.236927              1.339690  \n",
       "499         244.338603             34.166076  \n",
       "\n",
       "[500 rows x 9 columns]"
      ]
     },
     "execution_count": 5,
     "metadata": {},
     "output_type": "execute_result"
    }
   ],
   "source": [
    "mod"
   ]
  },
  {
   "cell_type": "code",
   "execution_count": 6,
   "metadata": {},
   "outputs": [
    {
     "data": {
      "text/plain": [
       "'+0.0046TaTasin(theta)-0.0024etaTaTasin(theta)-0.0006etaetaTaTasin(theta)-0.0094TwTasin(theta)+0.0059etaTwTasin(theta)+0.0001etaetaTwTasin(theta)+0.0048TwTwsin(theta)-0.0034etaTwTwsin(theta)+0.0004etaetaTwTwsin(theta)'"
      ]
     },
     "execution_count": 6,
     "metadata": {},
     "output_type": "execute_result"
    }
   ],
   "source": [
    "def to_signed_str(number):\n",
    "    if number < 0:\n",
    "        return f\"{number:.4f}\"\n",
    "    else:\n",
    "        return f\"{number:+.4f}\"\n",
    "    \n",
    "\n",
    "def linearna_regresija(X, y, meja=1e-2):\n",
    "    names = list(X.columns.values)\n",
    "    X = X.to_numpy()\n",
    "    y = y.to_numpy()\n",
    "    \n",
    "    A = np.dot(X.transpose(), X)\n",
    "    lhs = np.dot(X.transpose(), y)\n",
    "    b = np.linalg.solve(A, lhs)\n",
    "    b = map(to_signed_str, list(b))\n",
    "\n",
    "    eq = np.array(list(zip(b, names))).flatten()\n",
    "    return ''.join(eq)\n",
    "linearna_regresija(mod, y)"
   ]
  },
  {
   "cell_type": "code",
   "execution_count": 7,
   "metadata": {},
   "outputs": [],
   "source": [
    "def linearna_regresija_eval(X, y):\n",
    "    # Least squares Xb = y\n",
    "    # returns Xb\n",
    "    X = X.to_numpy()\n",
    "    y = y.to_numpy()\n",
    "    \n",
    "    A = np.dot(X.transpose(), X)\n",
    "    lhs = np.dot(X.transpose(), y)\n",
    "    b = np.linalg.solve(A, lhs)\n",
    "    return np.dot(X, b)\n",
    "\n",
    "new_y = linearna_regresija_eval(mod, y)\n",
    "old_y = np.dot(mod, old_coef)"
   ]
  },
  {
   "cell_type": "code",
   "execution_count": 8,
   "metadata": {},
   "outputs": [
    {
     "data": {
      "text/plain": [
       "(500,)"
      ]
     },
     "execution_count": 8,
     "metadata": {},
     "output_type": "execute_result"
    }
   ],
   "source": [
    "new_y.shape"
   ]
  },
  {
   "cell_type": "code",
   "execution_count": 9,
   "metadata": {},
   "outputs": [
    {
     "data": {
      "image/png": "[encoded data removed]",
      "text/plain": [
       "<Figure size 640x480 with 1 Axes>"
      ]
     },
     "metadata": {},
     "output_type": "display_data"
    }
   ],
   "source": [
    "plt.scatter(y, new_y)\n",
    "plt.xlabel('Truth')\n",
    "plt.ylabel('Prediction')\n",
    "plt.axline((0,0), (1,1), color=\"red\")\n",
    "plt.show()"
   ]
  },
  {
   "cell_type": "code",
   "execution_count": 10,
   "metadata": {},
   "outputs": [
    {
     "data": {
      "image/png": "[encoded data removed]",
      "text/plain": [
       "<Figure size 640x480 with 1 Axes>"
      ]
     },
     "metadata": {},
     "output_type": "display_data"
    }
   ],
   "source": [
    "plt.scatter(y, old_y)\n",
    "plt.xlabel('Truth')\n",
    "plt.ylabel('Prediction')\n",
    "plt.axline((0,0), (1,1), color=\"red\")\n",
    "plt.show()"
   ]
  },
  {
   "attachments": {},
   "cell_type": "markdown",
   "metadata": {},
   "source": [
    "Notice that both predictions predictions (genetic and linear regression) give nearly the same results. That loosly implies the coefficients given by PySR are good. We also look at some regularised techniques to avoid overfitting"
   ]
  },
  {
   "cell_type": "code",
   "execution_count": 11,
   "metadata": {},
   "outputs": [],
   "source": [
    "def ridge_regresija(X, y, lam=1, meja=1e-2):\n",
    "    X = X.to_numpy()\n",
    "    A = np.dot(X.transpose(), X)\n",
    "    A += lam*np.identity(len(A))\n",
    "    lhs = np.dot(X.transpose(), y)\n",
    "    b = np.linalg.solve(A, lhs)\n",
    "    return np.dot(X, b)\n",
    "\n",
    "from scipy.optimize import minimize\n",
    "\n",
    "def f(X, y, lam, x):\n",
    "    inner = np.dot(X, x) - y\n",
    "    v = inner * inner\n",
    "    return np.linalg.norm(v, 1) + lam* np.linalg.norm(x, 1)\n",
    "\n",
    "def lasso_regresija(X, y, lam=1, meja=1e-2):\n",
    "    X = X.to_numpy()\n",
    "    y = y.to_numpy()\n",
    "    partial = lambda x : f(X, y, lam, x)\n",
    "    x0 = np.zeros(np.shape(X)[1])\n",
    "    b = minimize(partial, x0)\n",
    "    b = b[\"x\"]\n",
    "    return np.dot(X, b)"
   ]
  },
  {
   "cell_type": "code",
   "execution_count": 12,
   "metadata": {},
   "outputs": [
    {
     "data": {
      "image/png": "[encoded data removed]",
      "text/plain": [
       "<Figure size 640x480 with 1 Axes>"
      ]
     },
     "metadata": {},
     "output_type": "display_data"
    }
   ],
   "source": [
    "lass_y = lasso_regresija(mod, y, lam=500)\n",
    "plt.scatter(y, lass_y)\n",
    "plt.xlabel('Truth')\n",
    "plt.ylabel('Prediction')\n",
    "plt.axline((0,0), (1,1), color=\"red\")\n",
    "plt.show()"
   ]
  },
  {
   "cell_type": "code",
   "execution_count": 13,
   "metadata": {},
   "outputs": [
    {
     "data": {
      "image/png": "[encoded data removed]",
      "text/plain": [
       "<Figure size 640x480 with 1 Axes>"
      ]
     },
     "metadata": {},
     "output_type": "display_data"
    }
   ],
   "source": [
    "ridge_y = lasso_regresija(mod, y, lam=500)\n",
    "plt.scatter(y, ridge_y)\n",
    "plt.xlabel('Truth')\n",
    "plt.ylabel('Prediction')\n",
    "plt.axline((0,0), (1,1), color=\"red\")\n",
    "plt.show()"
   ]
  },
  {
   "attachments": {},
   "cell_type": "markdown",
   "metadata": {},
   "source": [
    "# druga naloga"
   ]
  },
  {
   "cell_type": "code",
   "execution_count": 14,
   "metadata": {},
   "outputs": [],
   "source": [
    "from make_data import *\n",
    "\n",
    "@pandise\n",
    "def first(x1, x2, x3, x4, x5):\n",
    "    return x1 - 3*x2 - x3 -x5\n",
    "\n",
    "@pandise\n",
    "def second(x1, x2):\n",
    "    return x1**5 * x2**3\n",
    "\n",
    "@pandise\n",
    "def third(x1, x2):\n",
    "    return np.sin(x1) + np.sin(x2 / x1**2)\n",
    "\n"
   ]
  },
  {
   "cell_type": "code",
   "execution_count": 15,
   "metadata": {},
   "outputs": [],
   "source": [
    "eq1 = problem(first)\n",
    "eq1.make_data(500)"
   ]
  },
  {
   "cell_type": "code",
   "execution_count": 16,
   "metadata": {},
   "outputs": [
    {
     "data": {
      "text/html": [
       "<div>\n",
       "<style scoped>\n",
       "    .dataframe tbody tr th:only-of-type {\n",
       "        vertical-align: middle;\n",
       "    }\n",
       "\n",
       "    .dataframe tbody tr th {\n",
       "        vertical-align: top;\n",
       "    }\n",
       "\n",
       "    .dataframe thead th {\n",
       "        text-align: right;\n",
       "    }\n",
       "</style>\n",
       "<table border=\"1\" class=\"dataframe\">\n",
       "  <thead>\n",
       "    <tr style=\"text-align: right;\">\n",
       "      <th></th>\n",
       "      <th>a</th>\n",
       "      <th>b</th>\n",
       "      <th>c</th>\n",
       "      <th>d</th>\n",
       "      <th>e</th>\n",
       "      <th>y</th>\n",
       "    </tr>\n",
       "  </thead>\n",
       "  <tbody>\n",
       "    <tr>\n",
       "      <th>0</th>\n",
       "      <td>2.739234</td>\n",
       "      <td>0.236432</td>\n",
       "      <td>-4.767757</td>\n",
       "      <td>-8.287017</td>\n",
       "      <td>8.861122</td>\n",
       "      <td>-2.063429</td>\n",
       "    </tr>\n",
       "    <tr>\n",
       "      <th>1</th>\n",
       "      <td>-4.604266</td>\n",
       "      <td>9.009274</td>\n",
       "      <td>-4.030177</td>\n",
       "      <td>-5.263790</td>\n",
       "      <td>0.226551</td>\n",
       "      <td>-27.828461</td>\n",
       "    </tr>\n",
       "    <tr>\n",
       "      <th>2</th>\n",
       "      <td>-9.180530</td>\n",
       "      <td>-7.116808</td>\n",
       "      <td>6.284515</td>\n",
       "      <td>6.025489</td>\n",
       "      <td>9.524874</td>\n",
       "      <td>-3.639495</td>\n",
       "    </tr>\n",
       "    <tr>\n",
       "      <th>3</th>\n",
       "      <td>-9.669447</td>\n",
       "      <td>8.972989</td>\n",
       "      <td>-8.161681</td>\n",
       "      <td>1.643241</td>\n",
       "      <td>-8.383280</td>\n",
       "      <td>-20.043453</td>\n",
       "    </tr>\n",
       "    <tr>\n",
       "      <th>4</th>\n",
       "      <td>6.265405</td>\n",
       "      <td>-3.763371</td>\n",
       "      <td>2.002011</td>\n",
       "      <td>-8.117427</td>\n",
       "      <td>2.147117</td>\n",
       "      <td>13.406391</td>\n",
       "    </tr>\n",
       "    <tr>\n",
       "      <th>...</th>\n",
       "      <td>...</td>\n",
       "      <td>...</td>\n",
       "      <td>...</td>\n",
       "      <td>...</td>\n",
       "      <td>...</td>\n",
       "      <td>...</td>\n",
       "    </tr>\n",
       "    <tr>\n",
       "      <th>495</th>\n",
       "      <td>-2.343240</td>\n",
       "      <td>8.592165</td>\n",
       "      <td>0.832754</td>\n",
       "      <td>-8.794417</td>\n",
       "      <td>-6.929402</td>\n",
       "      <td>-22.023086</td>\n",
       "    </tr>\n",
       "    <tr>\n",
       "      <th>496</th>\n",
       "      <td>1.315478</td>\n",
       "      <td>7.469605</td>\n",
       "      <td>-8.084871</td>\n",
       "      <td>2.027062</td>\n",
       "      <td>7.900120</td>\n",
       "      <td>-20.908587</td>\n",
       "    </tr>\n",
       "    <tr>\n",
       "      <th>497</th>\n",
       "      <td>9.715393</td>\n",
       "      <td>-7.289580</td>\n",
       "      <td>6.230068</td>\n",
       "      <td>-7.727717</td>\n",
       "      <td>1.196898</td>\n",
       "      <td>24.157167</td>\n",
       "    </tr>\n",
       "    <tr>\n",
       "      <th>498</th>\n",
       "      <td>-1.439510</td>\n",
       "      <td>5.836002</td>\n",
       "      <td>-3.575664</td>\n",
       "      <td>3.380553</td>\n",
       "      <td>-6.033923</td>\n",
       "      <td>-9.337928</td>\n",
       "    </tr>\n",
       "    <tr>\n",
       "      <th>499</th>\n",
       "      <td>6.860294</td>\n",
       "      <td>3.506925</td>\n",
       "      <td>-4.240543</td>\n",
       "      <td>5.069089</td>\n",
       "      <td>6.198621</td>\n",
       "      <td>-5.618560</td>\n",
       "    </tr>\n",
       "  </tbody>\n",
       "</table>\n",
       "<p>500 rows × 6 columns</p>\n",
       "</div>"
      ],
      "text/plain": [
       "            a         b         c         d         e          y\n",
       "0    2.739234  0.236432 -4.767757 -8.287017  8.861122  -2.063429\n",
       "1   -4.604266  9.009274 -4.030177 -5.263790  0.226551 -27.828461\n",
       "2   -9.180530 -7.116808  6.284515  6.025489  9.524874  -3.639495\n",
       "3   -9.669447  8.972989 -8.161681  1.643241 -8.383280 -20.043453\n",
       "4    6.265405 -3.763371  2.002011 -8.117427  2.147117  13.406391\n",
       "..        ...       ...       ...       ...       ...        ...\n",
       "495 -2.343240  8.592165  0.832754 -8.794417 -6.929402 -22.023086\n",
       "496  1.315478  7.469605 -8.084871  2.027062  7.900120 -20.908587\n",
       "497  9.715393 -7.289580  6.230068 -7.727717  1.196898  24.157167\n",
       "498 -1.439510  5.836002 -3.575664  3.380553 -6.033923  -9.337928\n",
       "499  6.860294  3.506925 -4.240543  5.069089  6.198621  -5.618560\n",
       "\n",
       "[500 rows x 6 columns]"
      ]
     },
     "execution_count": 16,
     "metadata": {},
     "output_type": "execute_result"
    }
   ],
   "source": [
    "eq1.data"
   ]
  },
  {
   "cell_type": "code",
   "execution_count": null,
   "metadata": {},
   "outputs": [],
   "source": []
  },
  {
   "cell_type": "markdown",
   "metadata": {},
   "source": []
  },
  {
   "cell_type": "code",
   "execution_count": 17,
   "metadata": {},
   "outputs": [
    {
     "data": {
      "text/plain": [
       "(['a', 'b', 'c', 'd', 'e'], ['y'])"
      ]
     },
     "execution_count": 17,
     "metadata": {},
     "output_type": "execute_result"
    }
   ],
   "source": [
    "eq1.rhs, eq1.lhs"
   ]
  },
  {
   "cell_type": "code",
   "execution_count": 67,
   "metadata": {},
   "outputs": [
    {
     "data": {
      "text/plain": [
       "ModelBox: 1 models\n",
       "-> [-b + d], p = 5.486968449931417e-05, parse trees = 51, valid = True, error = 16.085174152348753, time = 0"
      ]
     },
     "execution_count": 67,
     "metadata": {},
     "output_type": "execute_result"
    }
   ],
   "source": [
    "import ProGED as pg\n",
    "\n",
    "np.random.seed(1)\n",
    "from sympy.core import evaluate\n",
    "\n",
    "gramatika = eq1.gen_grammar()\n",
    "generator = pg.GeneratorGrammar(gramatika)\n",
    "ED = pg.EqDisco(data=eq1.data, \n",
    "                lhs_vars=eq1.lhs,\n",
    "                rhs_vars=eq1.rhs,\n",
    "                generator=generator,\n",
    "                sample_size=500)\n",
    "ED.generate_models()\n",
    "ED.fit_models()\n",
    "ED.get_results()\n"
   ]
  },
  {
   "cell_type": "code",
   "execution_count": 56,
   "metadata": {},
   "outputs": [
    {
     "name": "stdout",
     "output_type": "stream",
     "text": [
      "[-b + d]\n"
     ]
    }
   ],
   "source": [
    "for x in ED.get_results():\n",
    "    print(x)"
   ]
  },
  {
   "cell_type": "code",
   "execution_count": 20,
   "metadata": {},
   "outputs": [
    {
     "data": {
      "text/plain": [
       "ModelBox: 131 models\n",
       "-> [b], p = 0.02251039148277985, parse trees = 50, valid = True, error = 24.90733996656612, time = 0\n",
       "-> [e], p = 0.01508916323731139, parse trees = 50, valid = True, error = 22.020392716091386, time = 0\n",
       "-> [c], p = 0.007959762231367174, parse trees = 50, valid = True, error = 22.031975974866647, time = 0\n",
       "-> [d], p = 0.015106640247929692, parse trees = 50, valid = True, error = 20.537746628605912, time = 0\n",
       "-> [e + d/c], p = 4.516023415581413e-08, parse trees = 50, valid = True, error = 24.01545496739164, time = 0\n",
       "-> [a], p = 0.01481481481729275, parse trees = 50, valid = True, error = 18.74129981914336, time = 0\n",
       "-> [2*d], p = 0.00010973936899862834, parse trees = 50, valid = True, error = 22.693424816245034, time = 0\n",
       "-> [-c*e + d**2], p = 2.7096140493488474e-08, parse trees = 50, valid = True, error = 58.7704234439826, time = 0\n",
       "-> [a**2*b], p = 3.6579789666209434e-06, parse trees = 50, valid = True, error = 272.487057227355, time = 0\n",
       "-> [a*d], p = 0.0004939084489153079, parse trees = 50, valid = True, error = 36.648875737713496, time = 0\n",
       "-> [sin(c*e)/d], p = 1.354807024674424e-07, parse trees = 50, valid = True, error = 19.940432387342497, time = 0\n",
       "-> [b*e], p = 0.0004938271604938273, parse trees = 50, valid = True, error = 40.18928088715566, time = 0\n",
       "-> [a*e/(b*d)], p = 8.128842148046538e-08, parse trees = 50, valid = True, error = 573.1086955994892, time = 0\n",
       "-> [a - b/e], p = 1.2193263222069813e-06, parse trees = 50, valid = True, error = 72.8911604514637, time = 0\n",
       "-> [d/e], p = 0.00017070568510897733, parse trees = 50, valid = True, error = 62.35671733976438, time = 0\n",
       "-> [d**2], p = 0.00032921810699588496, parse trees = 50, valid = True, error = 47.024343690861734, time = 0\n",
       "-> [b/e], p = 0.00032921810699588485, parse trees = 50, valid = True, error = 73.63802949308153, time = 0\n",
       "-> [a - d], p = 0.00010973936899862834, parse trees = 50, valid = True, error = 19.54836378292949, time = 0\n",
       "-> [c*d], p = 0.0003353147386069199, parse trees = 50, valid = True, error = 38.697634811195336, time = 0\n",
       "-> [a*b*c], p = 1.354807024674424e-07, parse trees = 50, valid = True, error = 197.45657941460658, time = 0\n",
       "-> [c + d/c], p = 1.2193263222069815e-06, parse trees = 50, valid = True, error = 23.972376070434585, time = 0\n",
       "-> [sin(d)], p = 0.0005486968449931421, parse trees = 50, valid = True, error = 19.85963199190864, time = 0\n",
       "-> [b/d], p = 0.00032921810699588496, parse trees = 50, valid = True, error = 27.484871567546833, time = 0\n",
       "-> [a*c/b], p = 3.6579789666209434e-06, parse trees = 50, valid = True, error = 84.65996438749568, time = 0\n",
       "-> [a*e/b], p = 3.6579789666209426e-06, parse trees = 50, valid = True, error = 159.21071833575047, time = 0\n",
       "-> [b*d + 2*b], p = 9.032046831162828e-09, parse trees = 50, valid = True, error = 43.822719135415646, time = 0\n",
       "-> [1/c], p = 3.6579789666209417e-06, parse trees = 50, valid = True, error = 19.818844392663497, time = 0\n",
       "-> [e**2/c], p = 3.6579789666209417e-06, parse trees = 50, valid = True, error = 57.12371596626941, time = 0\n",
       "-> [(a - c)/a], p = 4.516023415581415e-08, parse trees = 50, valid = True, error = 197.78014764353006, time = 0\n",
       "-> [a + sin(c + e)], p = 1.505341138527139e-08, parse trees = 50, valid = True, error = 18.770705537731093, time = 0\n",
       "-> [a/c], p = 0.00032921810699588496, parse trees = 50, valid = True, error = 20.712338683971577, time = 0\n",
       "-> [sin(b)], p = 0.0005486968449931421, parse trees = 50, valid = True, error = 19.87905046498304, time = 0\n",
       "-> [b/a**2], p = 3.6579789666209434e-06, parse trees = 50, valid = True, error = 856294.10916052, time = 0\n",
       "-> [c + 1], p = 1.2193263222069815e-06, parse trees = 50, valid = True, error = 22.026721468654262, time = 0\n",
       "-> [-c + e], p = 5.486968449931415e-05, parse trees = 50, valid = True, error = 21.470742325605144, time = 0\n",
       "-> [a - c*e + sin(a + sin(a))], p = 4.532103886684363e-17, parse trees = 50, valid = True, error = 38.22596778497096, time = 0\n",
       "-> [sin(sin(a*e**2*sin(c)/c))], p = 9.177510370535836e-14, parse trees = 50, valid = True, error = 19.806923050124208, time = 0\n",
       "-> [b**3], p = 3.6579789666209434e-06, parse trees = 50, valid = True, error = 387.4052691434661, time = 0\n",
       "-> [a*c], p = 0.00032921810699588496, parse trees = 50, valid = True, error = 39.24205758200176, time = 0\n",
       "-> [c/a], p = 0.00016460905349794248, parse trees = 50, valid = True, error = 195.5928670265908, time = 0\n",
       "-> [b*d*e], p = 1.354807024674424e-07, parse trees = 50, valid = True, error = 182.51120245630452, time = 0\n",
       "-> [2*c], p = 5.6901895036325805e-05, parse trees = 50, valid = True, error = 25.44275986055118, time = 0\n",
       "-> [-e + e/a], p = 1.219326322206981e-06, parse trees = 50, valid = True, error = 401.2070329935706, time = 0\n",
       "-> [d + sin(2*b)], p = 1.5053411385271392e-08, parse trees = 50, valid = True, error = 20.50744540197628, time = 0\n",
       "-> [a/d], p = 0.00032921810699588496, parse trees = 50, valid = True, error = 23.11239497849357, time = 0\n",
       "-> [sin(sin(e)/c)], p = 2.2580117077907087e-07, parse trees = 50, valid = True, error = 19.77369928170292, time = 0\n",
       "-> [c*sin(d)], p = 6.09663161103491e-06, parse trees = 50, valid = True, error = 20.255358017204557, time = 0\n",
       "-> [b + d/a], p = 1.2193263222069815e-06, parse trees = 50, valid = True, error = 306.19375730452356, time = 0\n",
       "-> [b/a], p = 0.0003353147386069199, parse trees = 50, valid = True, error = 466.2868421153052, time = 0\n",
       "-> [c*sin(d)/(d*sin(c))], p = 4.129879666741126e-12, parse trees = 50, valid = True, error = 44.82127848383427, time = 0\n",
       "-> [1/e], p = 3.6579789666209426e-06, parse trees = 50, valid = True, error = 24.711741321613875, time = 0\n",
       "-> [b*d], p = 0.0001707056851089774, parse trees = 50, valid = True, error = 37.62884856271633, time = 0\n",
       "-> [sin(d/c)], p = 2.2580117077907092e-07, parse trees = 50, valid = True, error = 19.802968487704945, time = 0\n",
       "-> [e/c], p = 0.00016460905349794243, parse trees = 50, valid = True, error = 20.962255040646298, time = 0\n",
       "-> [sin(e)], p = 0.0005486968449931419, parse trees = 50, valid = True, error = 19.77918960193714, time = 0\n",
       "-> [e/(b*d)], p = 3.6579789666209426e-06, parse trees = 50, valid = True, error = 220.4279002093695, time = 0\n",
       "-> [a**2], p = 0.00032921810699588496, parse trees = 50, valid = True, error = 48.36948136858641, time = 0\n",
       "-> [a*e + sin(d)], p = 4.516023415581416e-08, parse trees = 50, valid = True, error = 39.281092243889546, time = 0\n",
       "-> [d - e], p = 5.4869684499314156e-05, parse trees = 50, valid = True, error = 19.772782907721137, time = 0\n",
       "-> [a*e/c], p = 3.6579789666209426e-06, parse trees = 50, valid = True, error = 47.97747278966201, time = 0\n",
       "-> [a + c/e], p = 1.219326322206981e-06, parse trees = 50, valid = True, error = 61.934405706769724, time = 0\n",
       "-> [c - d], p = 5.486968449931417e-05, parse trees = 50, valid = True, error = 22.818707834589535, time = 0\n",
       "-> [-a/b + c + d], p = 9.032046831162828e-09, parse trees = 50, valid = True, error = 30.881526837689947, time = 0\n",
       "-> [-a + b/d**2 + c], p = 7.433783400134018e-12, parse trees = 50, valid = True, error = 775.2000180121588, time = 0\n",
       "-> [a/(b*d*sin(a*c + e))], p = 1.835502074107166e-14, parse trees = 50, valid = True, error = 101.85541799576096, time = 0\n",
       "-> [a*e**2], p = 3.6579789666209417e-06, parse trees = 50, valid = True, error = 255.30821584874562, time = 0\n",
       "-> [-b - c + e], p = 4.064421074023271e-07, parse trees = 50, valid = True, error = 17.267224602331872, time = 0\n",
       "-> [a*c/d**2], p = 8.128842148046541e-08, parse trees = 50, valid = True, error = 2287.4237542004753, time = 0\n",
       "-> [sin(c/d)/a], p = 5.017803795090466e-09, parse trees = 50, valid = True, error = 63.551654347967734, time = 0\n",
       "-> [sin(b/a)/e], p = 1.3548070246744244e-07, parse trees = 50, valid = True, error = 21.53984019685702, time = 0\n",
       "-> [a*e + b], p = 1.2193263222069813e-06, parse trees = 50, valid = True, error = 42.23846483486647, time = 0\n",
       "-> [sin(d + d/a)], p = 4.516023415581417e-08, parse trees = 50, valid = True, error = 19.849756544617247, time = 0\n",
       "-> [d/(a*c)], p = 3.6579789666209434e-06, parse trees = 50, valid = True, error = 133.7231219160266, time = 0\n",
       "-> [e/a], p = 0.00016460905349794243, parse trees = 50, valid = True, error = 400.97198121959246, time = 0\n",
       "-> [c/e], p = 0.00016460905349794243, parse trees = 50, valid = True, error = 62.51284560502511, time = 0\n",
       "-> [-c + d/a], p = 4.516023415581414e-08, parse trees = 50, valid = True, error = 305.37929761003704, time = 0\n",
       "-> [d/a], p = 0.0001707056851089774, parse trees = 50, valid = True, error = 305.5703717238869, time = 0\n",
       "-> [c - e/a], p = 1.672601265030154e-09, parse trees = 50, valid = True, error = 403.0943091872389, time = 0\n",
       "-> [sin(d)/c], p = 6.096631611034912e-06, parse trees = 50, valid = True, error = 19.727146067073676, time = 0\n",
       "-> [a*e], p = 0.0004938271604938273, parse trees = 50, valid = True, error = 39.2103387884573, time = 0\n",
       "-> [b*e/(a*c)], p = 8.12884214804654e-08, parse trees = 50, valid = True, error = 951.9389568156313, time = 0\n",
       "-> [c - e], p = 5.4869684499314156e-05, parse trees = 50, valid = True, error = 21.48182076050888, time = 0\n",
       "-> [a*c/d], p = 3.6579789666209434e-06, parse trees = 50, valid = True, error = 74.38792022421885, time = 0\n",
       "-> [a/e], p = 0.00032921810699588485, parse trees = 50, valid = True, error = 115.67877426178877, time = 0\n",
       "-> [e*sin(d)], p = 6.09663161103491e-06, parse trees = 50, valid = True, error = 20.44671680006937, time = 0\n",
       "-> [a*d/e], p = 1.354807024674424e-07, parse trees = 50, valid = True, error = 243.06699825869458, time = 0\n",
       "-> [c*sin(c)], p = 6.09663161103491e-06, parse trees = 50, valid = True, error = 20.078656455480367, time = 0\n",
       "-> [-b + d], p = 0.00010973936899862834, parse trees = 50, valid = True, error = 16.085174152348753, time = 0\n",
       "-> [b/c], p = 0.00016460905349794248, parse trees = 50, valid = True, error = 21.958817700339573, time = 0\n",
       "-> [d*e], p = 0.0004938271604938273, parse trees = 50, valid = True, error = 38.59069239737248, time = 0\n",
       "-> [c/d], p = 0.00016460905349794248, parse trees = 50, valid = True, error = 30.222181102852623, time = 0\n",
       "-> [sin(e)/b], p = 6.0966316110349086e-06, parse trees = 50, valid = True, error = 20.300283750590943, time = 0\n",
       "-> [-a*e + d], p = 1.2193263222069813e-06, parse trees = 50, valid = True, error = 38.37216100459765, time = 0\n",
       "-> [a*b], p = 6.096631611034909e-06, parse trees = 50, valid = True, error = 40.25654181294288, time = 0\n",
       "-> [a*sin(b) + b], p = 4.516023415581417e-08, parse trees = 50, valid = True, error = 25.19356564068031, time = 0\n",
       "-> [d + e**2], p = 1.219326322206981e-06, parse trees = 50, valid = True, error = 49.981276015361715, time = 0\n",
       "-> [b + d], p = 5.486968449931417e-05, parse trees = 50, valid = True, error = 25.506710610527243, time = 0\n",
       "-> [b + c], p = 5.486968449931417e-05, parse trees = 50, valid = True, error = 26.70512485038207, time = 0\n",
       "-> [c/b], p = 0.00016460905349794248, parse trees = 50, valid = True, error = 33.990984882408775, time = 0\n",
       "-> [c**2 - d], p = 1.2193263222069815e-06, parse trees = 50, valid = True, error = 48.38159207598384, time = 0\n",
       "-> [a/(b*e) + d*e], p = 8.259759333482239e-13, parse trees = 50, valid = True, error = 125.48856307677939, time = 0\n",
       "-> [c*e], p = 0.00032921810699588485, parse trees = 50, valid = True, error = 38.8281848159944, time = 0\n",
       "-> [e*sin(sin(d/c)/b)/(c*d)], p = 2.039446749007963e-15, parse trees = 50, valid = True, error = 20.541936345828052, time = 0\n",
       "-> [c**2], p = 0.00016460905349794248, parse trees = 50, valid = True, error = 47.78192996562638, time = 0\n",
       "-> [a + d], p = 5.486968449931417e-05, parse trees = 50, valid = True, error = 19.57058214192886, time = 0\n",
       "-> [a + c - d], p = 4.0644210740232725e-07, parse trees = 50, valid = True, error = 21.92082864136437, time = 0\n",
       "-> [a/d - b*c], p = 2.7096140493488477e-08, parse trees = 50, valid = True, error = 41.64542254259209, time = 0\n",
       "-> [sin(b/a)], p = 6.096631611034912e-06, parse trees = 50, valid = True, error = 19.875774858172544, time = 0\n",
       "-> [sin(c + sin(d))], p = 7.526705692635701e-08, parse trees = 50, valid = True, error = 19.811726863842114, time = 0\n",
       "-> [a - e], p = 5.4869684499314156e-05, parse trees = 50, valid = True, error = 18.045818731924594, time = 0\n",
       "-> [c - sin(b**2)], p = 4.516023415581417e-08, parse trees = 50, valid = True, error = 22.075176996515072, time = 0\n",
       "-> [a*b/sin(d)], p = 1.3548070246744246e-07, parse trees = 50, valid = True, error = 1722.9428829995134, time = 0\n",
       "-> [-b + e], p = 5.486968449931415e-05, parse trees = 50, valid = True, error = 17.98337297910749, time = 0\n",
       "-> [-a + d*sin(b)], p = 4.516023415581417e-08, parse trees = 50, valid = True, error = 22.855616678274128, time = 0\n",
       "-> [a + c], p = 5.486968449931417e-05, parse trees = 50, valid = True, error = 21.130303209743623, time = 0\n",
       "-> [-b*e/sin(e - sin(b/e))], p = 8.259759333482245e-13, parse trees = 50, valid = True, error = 34097.87803871293, time = 0\n",
       "-> [sin(b/c + c*d/b + c/b)], p = 1.3644724849409405e-25, parse trees = 50, valid = True, error = 19.80262228102306, time = 0\n",
       "-> [-b*c + e], p = 1.219326322206981e-06, parse trees = 50, valid = True, error = 40.99516639890523, time = 0\n",
       "-> [-b + e - 1/a], p = 7.433783400134015e-12, parse trees = 50, valid = True, error = 87.84413417038634, time = 0\n",
       "-> [sin(a)], p = 0.00027434842249657104, parse trees = 50, valid = True, error = 19.75152342392823, time = 0\n",
       "-> [-c + d], p = 5.486968449931417e-05, parse trees = 50, valid = True, error = 19.96497461972629, time = 0\n",
       "-> [a + 2*e + 1/(2*a)], p = 7.460253311414583e-21, parse trees = 50, valid = True, error = 47.94851390927043, time = 0\n",
       "-> [a*c**2*e], p = 8.128842148046538e-08, parse trees = 50, valid = True, error = 1531.4362820763615, time = 0\n",
       "-> [a*d*e**2], p = 8.128842148046538e-08, parse trees = 50, valid = True, error = 1380.9763544983014, time = 0\n",
       "-> [-c + e/d], p = 1.219326322206981e-06, parse trees = 50, valid = True, error = 32.20678442077414, time = 0\n",
       "-> [c + d], p = 5.486968449931417e-05, parse trees = 50, valid = True, error = 22.645001161747217, time = 0\n",
       "-> [b + c**2*e], p = 1.003560759018092e-09, parse trees = 50, valid = True, error = 261.415510412271, time = 0\n",
       "-> [a*b/e], p = 3.657978966620943e-06, parse trees = 50, valid = True, error = 425.1523712213478, time = 0\n",
       "-> [c - 1/a**2], p = 8.259759333482241e-13, parse trees = 50, valid = True, error = 151730.3912835289, time = 0\n",
       "-> [c*(a + b)], p = 4.516023415581415e-08, parse trees = 50, valid = True, error = 49.173789675467546, time = 0\n",
       "-> [sin(e)/c**2], p = 6.690405060120613e-11, parse trees = 50, valid = True, error = 29.858744102024332, time = 0"
      ]
     },
     "execution_count": 20,
     "metadata": {},
     "output_type": "execute_result"
    }
   ],
   "source": [
    "ED.models\n"
   ]
  },
  {
   "cell_type": "code",
   "execution_count": 25,
   "metadata": {},
   "outputs": [
    {
     "data": {
      "text/plain": [
       "'-b + d'"
      ]
     },
     "execution_count": 25,
     "metadata": {},
     "output_type": "execute_result"
    }
   ],
   "source": [
    "str(list(ED.get_results())[0])[1:-1]"
   ]
  },
  {
   "cell_type": "code",
   "execution_count": 29,
   "metadata": {},
   "outputs": [],
   "source": [
    "from nltk.parse import InsideChartParser\n",
    "gramatika = eq1.gen_grammar()\n",
    "generator = pg.GeneratorGrammar(gramatika)\n",
    "parser = InsideChartParser(generator.grammar)\n",
    "c = str(list(ED.get_results())[0])[1:-1]\n",
    "parse_trees = parser.parse(\"-a+b\")#c.replace(\" \", \"\"))\n",
    "for tree in parse_trees:\n",
    "    print(tree, tree.productions())"
   ]
  },
  {
   "cell_type": "code",
   "execution_count": 30,
   "metadata": {},
   "outputs": [
    {
     "name": "stdout",
     "output_type": "stream",
     "text": [
      "(E (E (F (T (V b)))) - (F (T (V a)))) (p=5.48697e-05) [E -> E '-' F, E -> F, F -> T, T -> V, V -> 'b', F -> T, T -> V, V -> 'a']\n"
     ]
    }
   ],
   "source": [
    "from nltk.parse import InsideChartParser\n",
    "gramatika = eq1.gen_grammar()\n",
    "generator = pg.GeneratorGrammar(gramatika)\n",
    "parser = InsideChartParser(generator.grammar)\n",
    "c = str(list(ED.get_results())[0])[1:-1]\n",
    "parse_trees = parser.parse(\"b-a\")#c.replace(\" \", \"\"))\n",
    "for tree in parse_trees:\n",
    "    print(tree, tree.productions())"
   ]
  },
  {
   "cell_type": "code",
   "execution_count": null,
   "metadata": {},
   "outputs": [
    {
     "data": {
      "text/plain": [
       "<Grammar with 14 productions>"
      ]
     },
     "execution_count": 53,
     "metadata": {},
     "output_type": "execute_result"
    }
   ],
   "source": [
    "parser.grammar()"
   ]
  },
  {
   "cell_type": "code",
   "execution_count": null,
   "metadata": {},
   "outputs": [
    {
     "ename": "ValueError",
     "evalue": "Grammar does not cover some of the input words: \"'{', 'x', '1', '}', 'x', '2'\".",
     "output_type": "error",
     "traceback": [
      "\u001b[0;31m---------------------------------------------------------------------------\u001b[0m",
      "\u001b[0;31mValueError\u001b[0m                                Traceback (most recent call last)",
      "Cell \u001b[0;32mIn[71], line 4\u001b[0m\n\u001b[1;32m      2\u001b[0m generator \u001b[39m=\u001b[39m pg\u001b[39m.\u001b[39mGeneratorGrammar(gramatika)\n\u001b[1;32m      3\u001b[0m p \u001b[39m=\u001b[39m InsideChartParser(generator\u001b[39m.\u001b[39mgrammar)\n\u001b[0;32m----> 4\u001b[0m parse_trees \u001b[39m=\u001b[39m p\u001b[39m.\u001b[39;49mparse(\u001b[39m\"\u001b[39;49m\u001b[39m{x1}\u001b[39;49;00m\u001b[39m+x2\u001b[39;49m\u001b[39m\"\u001b[39;49m)\n\u001b[1;32m      5\u001b[0m \u001b[39mfor\u001b[39;00m tree \u001b[39min\u001b[39;00m parse_trees:\n\u001b[1;32m      6\u001b[0m     \u001b[39mprint\u001b[39m(tree, tree\u001b[39m.\u001b[39mproductions())\n",
      "File \u001b[0;32m~/programming/nsu/dn4/.venv/lib/python3.11/site-packages/nltk/parse/pchart.py:222\u001b[0m, in \u001b[0;36mBottomUpProbabilisticChartParser.parse\u001b[0;34m(self, tokens)\u001b[0m\n\u001b[1;32m    221\u001b[0m \u001b[39mdef\u001b[39;00m \u001b[39mparse\u001b[39m(\u001b[39mself\u001b[39m, tokens):\n\u001b[0;32m--> 222\u001b[0m     \u001b[39mself\u001b[39;49m\u001b[39m.\u001b[39;49m_grammar\u001b[39m.\u001b[39;49mcheck_coverage(tokens)\n\u001b[1;32m    223\u001b[0m     chart \u001b[39m=\u001b[39m Chart(\u001b[39mlist\u001b[39m(tokens))\n\u001b[1;32m    224\u001b[0m     grammar \u001b[39m=\u001b[39m \u001b[39mself\u001b[39m\u001b[39m.\u001b[39m_grammar\n",
      "File \u001b[0;32m~/programming/nsu/dn4/.venv/lib/python3.11/site-packages/nltk/grammar.py:665\u001b[0m, in \u001b[0;36mCFG.check_coverage\u001b[0;34m(self, tokens)\u001b[0m\n\u001b[1;32m    663\u001b[0m \u001b[39mif\u001b[39;00m missing:\n\u001b[1;32m    664\u001b[0m     missing \u001b[39m=\u001b[39m \u001b[39m\"\u001b[39m\u001b[39m, \u001b[39m\u001b[39m\"\u001b[39m\u001b[39m.\u001b[39mjoin(\u001b[39mf\u001b[39m\u001b[39m\"\u001b[39m\u001b[39m{\u001b[39;00mw\u001b[39m!r}\u001b[39;00m\u001b[39m\"\u001b[39m \u001b[39mfor\u001b[39;00m w \u001b[39min\u001b[39;00m missing)\n\u001b[0;32m--> 665\u001b[0m     \u001b[39mraise\u001b[39;00m \u001b[39mValueError\u001b[39;00m(\n\u001b[1;32m    666\u001b[0m         \u001b[39m\"\u001b[39m\u001b[39mGrammar does not cover some of the \u001b[39m\u001b[39m\"\u001b[39m \u001b[39m\"\u001b[39m\u001b[39minput words: \u001b[39m\u001b[39m%r\u001b[39;00m\u001b[39m.\u001b[39m\u001b[39m\"\u001b[39m \u001b[39m%\u001b[39m missing\n\u001b[1;32m    667\u001b[0m     )\n",
      "\u001b[0;31mValueError\u001b[0m: Grammar does not cover some of the input words: \"'{', 'x', '1', '}', 'x', '2'\"."
     ]
    }
   ],
   "source": [
    "gramatika = \"E -> E '+' V [0.5] | V [0.5]\\nV -> 'x1' [0.5]| 'x2' [0.5]\"\n",
    "generator = pg.GeneratorGrammar(gramatika)\n",
    "p = InsideChartParser(generator.grammar)\n",
    "parse_trees = p.parse(\"x1+x2\")\n",
    "for tree in parse_trees:\n",
    "    print(tree, tree.productions())"
   ]
  },
  {
   "cell_type": "code",
   "execution_count": 34,
   "metadata": {},
   "outputs": [
    {
     "data": {
      "text/plain": [
       "['__call__',\n",
       " '__class__',\n",
       " '__delattr__',\n",
       " '__dir__',\n",
       " '__doc__',\n",
       " '__eq__',\n",
       " '__format__',\n",
       " '__func__',\n",
       " '__ge__',\n",
       " '__getattribute__',\n",
       " '__getstate__',\n",
       " '__gt__',\n",
       " '__hash__',\n",
       " '__init__',\n",
       " '__init_subclass__',\n",
       " '__le__',\n",
       " '__lt__',\n",
       " '__ne__',\n",
       " '__new__',\n",
       " '__reduce__',\n",
       " '__reduce_ex__',\n",
       " '__repr__',\n",
       " '__self__',\n",
       " '__setattr__',\n",
       " '__sizeof__',\n",
       " '__str__',\n",
       " '__subclasshook__']"
      ]
     },
     "execution_count": 34,
     "metadata": {},
     "output_type": "execute_result"
    }
   ],
   "source": [
    "dir(ED.get_results()[0].full_expr)"
   ]
  },
  {
   "cell_type": "code",
   "execution_count": 39,
   "metadata": {},
   "outputs": [
    {
     "data": {
      "text/plain": [
       "{'': [0.007407407407407411, 131],\n",
       " '2202': [0.007407407407407411, 52],\n",
       " '2201': [0.007407407407407411, 57],\n",
       " '2204': [0.007407407407407409, 71],\n",
       " '2203': [0.007407407407407411, 51],\n",
       " '2200': [0.007407407407407411, 62],\n",
       " '2102010404': [3.6579789666209417e-06, 1],\n",
       " '2212201': [0.00027434842249657093, 3],\n",
       " '2020003': [0.00016460905349794248, 3],\n",
       " '2020401': [0.00016460905349794243, 2],\n",
       " '2102030303': [3.6579789666209434e-06, 1],\n",
       " '2212212201': [1.0161052685058188e-05, 1],\n",
       " '2120103': [0.00016460905349794248, 2],\n",
       " '2010203000000': [8.128842148046541e-08, 1],\n",
       " '2212204': [0.0002743484224965708, 6],\n",
       " '2020302': [0.00016460905349794248, 1],\n",
       " '12200203': [5.486968449931417e-05, 1],\n",
       " '2222201': [0.00027434842249657104, 1],\n",
       " '2222203': [0.00027434842249657104, 2],\n",
       " '2020303': [0.00016460905349794248, 2],\n",
       " '2001120304030401': [1.8064093662325634e-09, 1],\n",
       " '2120003': [0.00016460905349794248, 1],\n",
       " '2212020302': [6.096631611034909e-06, 1],\n",
       " '2012010102': [3.6579789666209434e-06, 1],\n",
       " '2120304': [0.00016460905349794243, 1],\n",
       " '2020104': [0.00016460905349794243, 2],\n",
       " '2212203': [0.00027434842249657093, 1],\n",
       " '2020000': [0.00016460905349794248, 1],\n",
       " '2120100': [0.00016460905349794248, 1],\n",
       " '2222204': [0.00027434842249657093, 1],\n",
       " '2020300': [0.00016460905349794248, 4],\n",
       " '2102030404': [3.6579789666209417e-06, 1],\n",
       " '2212202': [0.00027434842249657093, 1],\n",
       " '2120112200': [6.096631611034909e-06, 1],\n",
       " '2120300': [0.00016460905349794248, 1],\n",
       " '2020004': [0.00016460905349794243, 1],\n",
       " '2020400': [0.00016460905349794243, 1],\n",
       " '02202202': [5.486968449931417e-05, 2],\n",
       " '2120004': [0.00016460905349794243, 2],\n",
       " '2020403': [0.00016460905349794243, 4],\n",
       " '2020304': [0.00016460905349794243, 1],\n",
       " '2120002': [0.00016460905349794248, 2],\n",
       " '02203203': [5.486968449931417e-05, 1],\n",
       " '2020402': [0.00016460905349794243, 2],\n",
       " '2102121020003001220003': [2.4779278000446723e-12, 1],\n",
       " '2020200': [0.00016460905349794248, 1],\n",
       " '2021220103': [6.0966316110349086e-06, 1],\n",
       " '2120104': [0.00016460905349794243, 1],\n",
       " '12203201': [5.486968449931417e-05, 1],\n",
       " '2212212203': [1.0161052685058188e-05, 1]}"
      ]
     },
     "execution_count": 39,
     "metadata": {},
     "output_type": "execute_result"
    }
   ],
   "source": [
    "ED.models[0].trees"
   ]
  },
  {
   "cell_type": "code",
   "execution_count": 53,
   "metadata": {},
   "outputs": [
    {
     "name": "stdout",
     "output_type": "stream",
     "text": [
      "[-b + d]\n"
     ]
    }
   ],
   "source": []
  },
  {
   "cell_type": "code",
   "execution_count": 41,
   "metadata": {},
   "outputs": [
    {
     "data": {
      "text/plain": [
       "\"E -> E '+' F [0.3333333333333333] | E '-' F [0.3333333333333333] | F [0.3333333333333334]\\nF -> F '*' T [0.3333333333333333] | F '/' T [0.3333333333333333] | T [0.3333333333333334]\\nT -> V [0.3333333333333333] | '(' E ')' [0.3333333333333333] | 'sin(' E ')' [0.3333333333333334]\\nV -> 'a' [0.2] | 'b' [0.2] | 'c' [0.2] | 'd' [0.2] | 'e' [0.19999999999999996]\""
      ]
     },
     "execution_count": 41,
     "metadata": {},
     "output_type": "execute_result"
    }
   ],
   "source": [
    "eq1.gen_grammar()"
   ]
  },
  {
   "cell_type": "code",
   "execution_count": 58,
   "metadata": {},
   "outputs": [
    {
     "data": {
      "text/plain": [
       "{'': [0.007407407407407411, 419],\n",
       " '2202': [0.007407407407407411, 156],\n",
       " '2201': [0.007407407407407411, 171],\n",
       " '2204': [0.007407407407407409, 213],\n",
       " '2203': [0.007407407407407411, 153],\n",
       " '2200': [0.007407407407407411, 186],\n",
       " '2102010404': [3.6579789666209417e-06, 1],\n",
       " '2212201': [0.00027434842249657093, 9],\n",
       " '2020003': [0.00016460905349794248, 9],\n",
       " '2020401': [0.00016460905349794243, 6],\n",
       " '2102030303': [3.6579789666209434e-06, 1],\n",
       " '2212212201': [1.0161052685058188e-05, 3],\n",
       " '2120103': [0.00016460905349794248, 6],\n",
       " '2010203000000': [8.128842148046541e-08, 1],\n",
       " '2212204': [0.0002743484224965708, 18],\n",
       " '2020302': [0.00016460905349794248, 3],\n",
       " '12200203': [5.486968449931417e-05, 3],\n",
       " '2222201': [0.00027434842249657104, 3],\n",
       " '2222203': [0.00027434842249657104, 6],\n",
       " '2020303': [0.00016460905349794248, 6],\n",
       " '2001120304030401': [1.8064093662325634e-09, 1],\n",
       " '2120003': [0.00016460905349794248, 3],\n",
       " '2212020302': [6.096631611034909e-06, 3],\n",
       " '2012010102': [3.6579789666209434e-06, 1],\n",
       " '2120304': [0.00016460905349794243, 3],\n",
       " '2020104': [0.00016460905349794243, 6],\n",
       " '2212203': [0.00027434842249657093, 3],\n",
       " '2020000': [0.00016460905349794248, 3],\n",
       " '2120100': [0.00016460905349794248, 3],\n",
       " '2222204': [0.00027434842249657093, 3],\n",
       " '2020300': [0.00016460905349794248, 12],\n",
       " '2102030404': [3.6579789666209417e-06, 1],\n",
       " '2212202': [0.00027434842249657093, 3],\n",
       " '2120112200': [6.096631611034909e-06, 3],\n",
       " '2120300': [0.00016460905349794248, 3],\n",
       " '2020004': [0.00016460905349794243, 3],\n",
       " '2020400': [0.00016460905349794243, 3],\n",
       " '02202202': [5.486968449931417e-05, 6],\n",
       " '2120004': [0.00016460905349794243, 6],\n",
       " '2020403': [0.00016460905349794243, 12],\n",
       " '2020304': [0.00016460905349794243, 3],\n",
       " '2120002': [0.00016460905349794248, 6],\n",
       " '02203203': [5.486968449931417e-05, 3],\n",
       " '2020402': [0.00016460905349794243, 6],\n",
       " '2102121020003001220003': [2.4779278000446723e-12, 1],\n",
       " '2020200': [0.00016460905349794248, 3],\n",
       " '2021220103': [6.0966316110349086e-06, 3],\n",
       " '2120104': [0.00016460905349794243, 3],\n",
       " '12203201': [5.486968449931417e-05, 3],\n",
       " '2212212203': [1.0161052685058188e-05, 3],\n",
       " '2120202': [0.00016460905349794248, 2]}"
      ]
     },
     "execution_count": 58,
     "metadata": {},
     "output_type": "execute_result"
    }
   ],
   "source": [
    "ED.get_results()[0].trees"
   ]
  },
  {
   "cell_type": "code",
   "execution_count": 59,
   "metadata": {},
   "outputs": [
    {
     "data": {
      "text/plain": [
       "(['c'],\n",
       " [E -> F [0.333333], F -> T [0.333333], T -> V [0.333333], V -> 'c' [0.2]],\n",
       " '')"
      ]
     },
     "execution_count": 59,
     "metadata": {},
     "output_type": "execute_result"
    }
   ],
   "source": [
    "generator.code_to_expression(\"2202\")"
   ]
  },
  {
   "cell_type": "code",
   "execution_count": 64,
   "metadata": {},
   "outputs": [
    {
     "data": {
      "text/plain": [
       "{'': [0.007407407407407411, 419],\n",
       " '2202': [0.007407407407407411, 156],\n",
       " '2201': [0.007407407407407411, 171],\n",
       " '2204': [0.007407407407407409, 213],\n",
       " '2203': [0.007407407407407411, 153],\n",
       " '2200': [0.007407407407407411, 186],\n",
       " '2102010404': [3.6579789666209417e-06, 1],\n",
       " '2212201': [0.00027434842249657093, 9],\n",
       " '2020003': [0.00016460905349794248, 9],\n",
       " '2020401': [0.00016460905349794243, 6],\n",
       " '2102030303': [3.6579789666209434e-06, 1],\n",
       " '2212212201': [1.0161052685058188e-05, 3],\n",
       " '2120103': [0.00016460905349794248, 6],\n",
       " '2010203000000': [8.128842148046541e-08, 1],\n",
       " '2212204': [0.0002743484224965708, 18],\n",
       " '2020302': [0.00016460905349794248, 3],\n",
       " '12200203': [5.486968449931417e-05, 3],\n",
       " '2222201': [0.00027434842249657104, 3],\n",
       " '2222203': [0.00027434842249657104, 6],\n",
       " '2020303': [0.00016460905349794248, 6],\n",
       " '2001120304030401': [1.8064093662325634e-09, 1],\n",
       " '2120003': [0.00016460905349794248, 3],\n",
       " '2212020302': [6.096631611034909e-06, 3],\n",
       " '2012010102': [3.6579789666209434e-06, 1],\n",
       " '2120304': [0.00016460905349794243, 3],\n",
       " '2020104': [0.00016460905349794243, 6],\n",
       " '2212203': [0.00027434842249657093, 3],\n",
       " '2020000': [0.00016460905349794248, 3],\n",
       " '2120100': [0.00016460905349794248, 3],\n",
       " '2222204': [0.00027434842249657093, 3],\n",
       " '2020300': [0.00016460905349794248, 12],\n",
       " '2102030404': [3.6579789666209417e-06, 1],\n",
       " '2212202': [0.00027434842249657093, 3],\n",
       " '2120112200': [6.096631611034909e-06, 3],\n",
       " '2120300': [0.00016460905349794248, 3],\n",
       " '2020004': [0.00016460905349794243, 3],\n",
       " '2020400': [0.00016460905349794243, 3],\n",
       " '02202202': [5.486968449931417e-05, 6],\n",
       " '2120004': [0.00016460905349794243, 6],\n",
       " '2020403': [0.00016460905349794243, 12],\n",
       " '2020304': [0.00016460905349794243, 3],\n",
       " '2120002': [0.00016460905349794248, 6],\n",
       " '02203203': [5.486968449931417e-05, 3],\n",
       " '2020402': [0.00016460905349794243, 6],\n",
       " '2102121020003001220003': [2.4779278000446723e-12, 1],\n",
       " '2020200': [0.00016460905349794248, 3],\n",
       " '2021220103': [6.0966316110349086e-06, 3],\n",
       " '2120104': [0.00016460905349794243, 3],\n",
       " '12203201': [5.486968449931417e-05, 3],\n",
       " '2212212203': [1.0161052685058188e-05, 3],\n",
       " '2120202': [0.00016460905349794248, 2]}"
      ]
     },
     "execution_count": 64,
     "metadata": {},
     "output_type": "execute_result"
    }
   ],
   "source": [
    "ED.models[4].trees"
   ]
  },
  {
   "cell_type": "code",
   "execution_count": 66,
   "metadata": {},
   "outputs": [
    {
     "data": {
      "text/plain": [
       "(144, 51)"
      ]
     },
     "execution_count": 66,
     "metadata": {},
     "output_type": "execute_result"
    }
   ],
   "source": [
    "len(ED.models), len(ED.models[0].trees)"
   ]
  },
  {
   "cell_type": "code",
   "execution_count": null,
   "metadata": {},
   "outputs": [],
   "source": []
  }
 ],
 "metadata": {
  "kernelspec": {
   "display_name": ".venv",
   "language": "python",
   "name": "python3"
  },
  "language_info": {
   "codemirror_mode": {
    "name": "ipython",
    "version": 3
   },
   "file_extension": ".py",
   "mimetype": "text/x-python",
   "name": "python",
   "nbconvert_exporter": "python",
   "pygments_lexer": "ipython3",
   "version": "3.11.3"
  },
  "orig_nbformat": 4
 },
 "nbformat": 4,
 "nbformat_minor": 2
}
