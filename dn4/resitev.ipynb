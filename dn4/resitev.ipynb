{
 "cells": [
  {
   "cell_type": "code",
   "execution_count": 1,
   "metadata": {},
   "outputs": [],
   "source": [
    "import numpy as np\n",
    "import pandas as pd\n",
    "\n",
    "data = pd.read_csv(\"DN4_1_podatki.csv\")\n",
    "X = data.drop(\"Q\", axis=1)\n",
    "y = data[[\"Q\"]]"
   ]
  },
  {
   "cell_type": "code",
   "execution_count": 2,
   "metadata": {},
   "outputs": [
    {
     "data": {
      "text/html": [
       "<div>\n",
       "<style scoped>\n",
       "    .dataframe tbody tr th:only-of-type {\n",
       "        vertical-align: middle;\n",
       "    }\n",
       "\n",
       "    .dataframe tbody tr th {\n",
       "        vertical-align: top;\n",
       "    }\n",
       "\n",
       "    .dataframe thead th {\n",
       "        text-align: right;\n",
       "    }\n",
       "</style>\n",
       "<table border=\"1\" class=\"dataframe\">\n",
       "  <thead>\n",
       "    <tr style=\"text-align: right;\">\n",
       "      <th></th>\n",
       "      <th>Q</th>\n",
       "      <th>Tw</th>\n",
       "      <th>Ta</th>\n",
       "      <th>theta</th>\n",
       "      <th>eta</th>\n",
       "    </tr>\n",
       "  </thead>\n",
       "  <tbody>\n",
       "    <tr>\n",
       "      <th>0</th>\n",
       "      <td>1.711929</td>\n",
       "      <td>53.005339</td>\n",
       "      <td>10.788147</td>\n",
       "      <td>0.321921</td>\n",
       "      <td>0.349083</td>\n",
       "    </tr>\n",
       "    <tr>\n",
       "      <th>1</th>\n",
       "      <td>0.067135</td>\n",
       "      <td>20.761340</td>\n",
       "      <td>12.225502</td>\n",
       "      <td>2.705824</td>\n",
       "      <td>0.821069</td>\n",
       "    </tr>\n",
       "    <tr>\n",
       "      <th>2</th>\n",
       "      <td>0.034759</td>\n",
       "      <td>39.546739</td>\n",
       "      <td>35.892183</td>\n",
       "      <td>1.873776</td>\n",
       "      <td>0.756082</td>\n",
       "    </tr>\n",
       "    <tr>\n",
       "      <th>3</th>\n",
       "      <td>0.417783</td>\n",
       "      <td>33.972185</td>\n",
       "      <td>21.385801</td>\n",
       "      <td>2.089589</td>\n",
       "      <td>0.516134</td>\n",
       "    </tr>\n",
       "    <tr>\n",
       "      <th>4</th>\n",
       "      <td>1.667614</td>\n",
       "      <td>50.092173</td>\n",
       "      <td>15.254621</td>\n",
       "      <td>0.328350</td>\n",
       "      <td>0.083327</td>\n",
       "    </tr>\n",
       "    <tr>\n",
       "      <th>...</th>\n",
       "      <td>...</td>\n",
       "      <td>...</td>\n",
       "      <td>...</td>\n",
       "      <td>...</td>\n",
       "      <td>...</td>\n",
       "    </tr>\n",
       "    <tr>\n",
       "      <th>495</th>\n",
       "      <td>1.327393</td>\n",
       "      <td>54.081114</td>\n",
       "      <td>30.039247</td>\n",
       "      <td>1.153132</td>\n",
       "      <td>0.708757</td>\n",
       "    </tr>\n",
       "    <tr>\n",
       "      <th>496</th>\n",
       "      <td>0.053967</td>\n",
       "      <td>42.933431</td>\n",
       "      <td>39.799381</td>\n",
       "      <td>1.572222</td>\n",
       "      <td>0.022975</td>\n",
       "    </tr>\n",
       "    <tr>\n",
       "      <th>497</th>\n",
       "      <td>0.707523</td>\n",
       "      <td>47.145488</td>\n",
       "      <td>30.707064</td>\n",
       "      <td>2.093919</td>\n",
       "      <td>0.684035</td>\n",
       "    </tr>\n",
       "    <tr>\n",
       "      <th>498</th>\n",
       "      <td>0.062350</td>\n",
       "      <td>39.405105</td>\n",
       "      <td>32.647363</td>\n",
       "      <td>0.311168</td>\n",
       "      <td>0.053085</td>\n",
       "    </tr>\n",
       "    <tr>\n",
       "      <th>499</th>\n",
       "      <td>0.011049</td>\n",
       "      <td>47.549837</td>\n",
       "      <td>45.866743</td>\n",
       "      <td>2.258284</td>\n",
       "      <td>0.139831</td>\n",
       "    </tr>\n",
       "  </tbody>\n",
       "</table>\n",
       "<p>500 rows × 5 columns</p>\n",
       "</div>"
      ],
      "text/plain": [
       "            Q         Tw         Ta     theta       eta\n",
       "0    1.711929  53.005339  10.788147  0.321921  0.349083\n",
       "1    0.067135  20.761340  12.225502  2.705824  0.821069\n",
       "2    0.034759  39.546739  35.892183  1.873776  0.756082\n",
       "3    0.417783  33.972185  21.385801  2.089589  0.516134\n",
       "4    1.667614  50.092173  15.254621  0.328350  0.083327\n",
       "..        ...        ...        ...       ...       ...\n",
       "495  1.327393  54.081114  30.039247  1.153132  0.708757\n",
       "496  0.053967  42.933431  39.799381  1.572222  0.022975\n",
       "497  0.707523  47.145488  30.707064  2.093919  0.684035\n",
       "498  0.062350  39.405105  32.647363  0.311168  0.053085\n",
       "499  0.011049  47.549837  45.866743  2.258284  0.139831\n",
       "\n",
       "[500 rows x 5 columns]"
      ]
     },
     "execution_count": 2,
     "metadata": {},
     "output_type": "execute_result"
    }
   ],
   "source": [
    "data"
   ]
  },
  {
   "cell_type": "code",
   "execution_count": 3,
   "metadata": {},
   "outputs": [],
   "source": [
    "from pysr import PySRRegressor\n",
    "\n"
   ]
  },
  {
   "cell_type": "code",
   "execution_count": 4,
   "metadata": {},
   "outputs": [
    {
     "name": "stderr",
     "output_type": "stream",
     "text": [
      "/home/user/programming/nsu/dn4/.venv/lib/python3.11/site-packages/pysr/sr.py:1296: UserWarning: Note: it looks like you are running in Jupyter. The progress bar will be turned off.\n",
      "  warnings.warn(\n",
      "/home/user/programming/nsu/dn4/.venv/lib/python3.11/site-packages/pysr/sr.py:1364: FutureWarning: Index.is_object is deprecated.Use pandas.api.types.is_object_dtype instead\n",
      "  if X.columns.is_object() and X.columns.str.contains(\" \").any():\n"
     ]
    }
   ],
   "source": [
    "model = PySRRegressor(\n",
    "    niterations=100,  # < Increase me for better results\n",
    "    #populations=30,\n",
    "    #population_size=50,\n",
    "    # ^ Slightly larger populations, for greater diversity.\n",
    "    binary_operators=[\"+\", \"-\", \"*\", \"/\"],\n",
    "    unary_operators=[\n",
    "        \"cos\",\n",
    "        \"sin\",\n",
    "    ],\n",
    "    #timeout_in_seconds=60,\n",
    "    #complexity_of_constants=0.2,\n",
    "    #weight_randomize=0.1,\n",
    "    #maxsize=30,\n",
    "    maxdepth=9,\n",
    "    procs=0,\n",
    "    multithreading=False,\n",
    "    random_state=0,\n",
    "    deterministic=True\n",
    ")\n",
    "\n",
    "model.fit(X,y)\n",
    "print(model.score(X,y))\n",
    "model.sympy()"
   ]
  },
  {
   "cell_type": "code",
   "execution_count": null,
   "metadata": {},
   "outputs": [
    {
     "data": {
      "text/plain": [
       "0.9567841076185941"
      ]
     },
     "execution_count": 7,
     "metadata": {},
     "output_type": "execute_result"
    }
   ],
   "source": []
  },
  {
   "attachments": {},
   "cell_type": "markdown",
   "metadata": {},
   "source": [
    "best 0.9874403551233546"
   ]
  },
  {
   "cell_type": "code",
   "execution_count": null,
   "metadata": {},
   "outputs": [],
   "source": []
  }
 ],
 "metadata": {
  "kernelspec": {
   "display_name": ".venv",
   "language": "python",
   "name": "python3"
  },
  "language_info": {
   "codemirror_mode": {
    "name": "ipython",
    "version": 3
   },
   "file_extension": ".py",
   "mimetype": "text/x-python",
   "name": "python",
   "nbconvert_exporter": "python",
   "pygments_lexer": "ipython3",
   "version": "3.11.3"
  },
  "orig_nbformat": 4
 },
 "nbformat": 4,
 "nbformat_minor": 2
}
