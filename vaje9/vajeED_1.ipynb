{
 "cells": [
  {
   "cell_type": "code",
   "execution_count": 2,
   "metadata": {},
   "outputs": [],
   "source": [
    "import numpy as np\n",
    "import pandas as pd\n",
    "\n",
    "from vajeED_1_podatki import *"
   ]
  },
  {
   "attachments": {},
   "cell_type": "markdown",
   "metadata": {},
   "source": [
    "# Odkrivanje enačb, vaje 1"
   ]
  },
  {
   "attachments": {},
   "cell_type": "markdown",
   "metadata": {},
   "source": [
    "# 1. del: linearna regresija\n",
    "\n",
    "Ena najpreprostejših in pogosto precej učinkovitih metod za odkrivanje enačb je redka linearna regresija. Omejena je na enačbe, linearne v parametrih, omogoča nam pa dodajanje členov s poljubnimi oblikami funkcij. Pri linearni regresiji iščemo model oblike $\\hat{y}_i = \\sum\\limits_{k=0}^K \\beta_k X_{ik}$, kjer je $\\vec{\\beta}$ vektor koeficientov, $X$ pa matrika podatkov. Če minimiziramo kvadratno napako $\\sum_i (\\hat{y}_i - y_i)^2$, se da izpeljati analitično rešitev za koeficiente:\n",
    "\n",
    "$$\\vec{\\beta} = (X^TX)^{-1}X^T \\vec{y}$$\n",
    "\n",
    "Pri uporabi linearne regresije za odkrivanje enačb so ključne dodatne spremenljivke, ki jih zgeneriramo. To so lahko višji redi spremenljivk, produkti spremenljivk, logaritmi, trigonometrične funkcije, itd. \n",
    "\n",
    "Za razliko od navadnega strojnega učenja nas pri odkrivanju enačb ne zanimajo preveč napovedi, temveč sam model - najboljša enačba, ki smo jo uspeli odkriti. Ker želimo čim bolj razumljive enačbe, je dobro iz končne enačbe odstraniti člene z zelo majhnimi koeficienti. Berljivost enačbe lahko dodatno izboljšamo tako, da v stringu vrednosti koeficientov zaokrožimo na manjše število decimalnih mest.\n",
    "\n",
    "1.1 Napiši funkcijo za linearno regresijo. Sprejme naj:\n",
    "- X: tabela z N vrsticami, ki ustrezajo N učnim primerom, ter K stolpci, ki ustrezajo K spremenljivkam (v splošnem bodo to originalne spremenljivke plus neko število dodatnih členov), imena stolpcev pa povejo, za kateri člen gre (np. \"log(x-y)\")\n",
    "- y: vektor z N vrednostmi, ki ustrezajo levi strani enačbe.\n",
    "- meja: opcijski argument, ki pove, pod katero vrednostjo koeficienta člen odstranimo iz enačbe.\n",
    "\n",
    "Funkcija naj vrne:\n",
    "- najdeno enačbo v obliki stringa (npr. \"0.32 x + 0.10 x**2 - 2.02 sin(y)\")\n"
   ]
  },
  {
   "cell_type": "code",
   "execution_count": 18,
   "metadata": {},
   "outputs": [],
   "source": [
    "def to_signed_str(number):\n",
    "    if number < 0:\n",
    "        return f\"{number:.4f}\"\n",
    "    else:\n",
    "        return f\"{number:+.4f}\"\n",
    "    \n",
    "def linearna_regresija(X, y, meja=1e-2):\n",
    "    names = list(X.columns.values)\n",
    "    X = X.to_numpy()\n",
    "    A = np.dot(X.transpose(), X)\n",
    "    lhs = np.dot(X.transpose(), y)\n",
    "    b = np.linalg.solve(A, lhs)\n",
    "    b = map(to_signed_str, b)\n",
    "\n",
    "    eq = np.array(list(zip(b, names))).flatten()\n",
    "    return ''.join(eq)\n"
   ]
  },
  {
   "attachments": {},
   "cell_type": "markdown",
   "metadata": {},
   "source": [
    "1.2 Preizkusi svojo funkcijo za linearno regresijo na primeru odkrivanja energijskega zakona $E = mgh + \\frac{1}{2}mv^2$. Za generiranje podatkov lahko uporabiš funkcijo **generiraj_energijski_zakon** iz datoteke **vajeED_1_podatki.py**. Podaš željeno število primerov (recimo 100) ter željeno stopnjo multiplikativnega šuma.\n",
    "\n",
    "Zgenerirati bo potrebno tudi dodatne člene. To lahko sprogramiraš ročno, lahko pa uporabiš kakšno od funkcij iz scikit-learn. Za generiranje polinomskih členov je uporabna **sklearn.preprocessing.PolynomialFeatures**.\n",
    "\n",
    "Kako dobro deluje navadna linearna regresija? Preizkusi vsaj tri nivoje šuma - smiselne vrednosti so recimo 0, 0.001, 0.01 in 0.1."
   ]
  },
  {
   "cell_type": "code",
   "execution_count": 25,
   "metadata": {},
   "outputs": [
    {
     "data": {
      "text/plain": [
       "'-0.0000m-0.0000h+0.0000v+9.8100mh+0.0000mv+0.5000mvv'"
      ]
     },
     "execution_count": 25,
     "metadata": {},
     "output_type": "execute_result"
    }
   ],
   "source": [
    "podatki_energija = generiraj_energijski_zakon(100, sum=0.)\n",
    "def add_mult(table, a, b):\n",
    "    table[a+b] = table[a].to_numpy()*table[b].to_numpy()\n",
    "    return table\n",
    "\n",
    "podatki_energija = add_mult(podatki_energija, \"m\", \"h\")\n",
    "podatki_energija = add_mult(podatki_energija, \"m\", \"v\")\n",
    "podatki_energija = add_mult(podatki_energija, \"mv\", \"v\")\n",
    "\n",
    "\n",
    "linearna_regresija(podatki_energija.drop([\"E\"], axis=1), podatki_energija[\"E\"])"
   ]
  },
  {
   "cell_type": "code",
   "execution_count": 29,
   "metadata": {},
   "outputs": [
    {
     "data": {
      "text/plain": [
       "'-0.0052m+0.0012h-0.0012v+9.8122mh+0.0178mv+0.4878mvv'"
      ]
     },
     "execution_count": 29,
     "metadata": {},
     "output_type": "execute_result"
    }
   ],
   "source": [
    "podatki_energija2 = generiraj_energijski_zakon(100, sum=0.001)\n",
    "podatki_energija2 = add_mult(podatki_energija2, \"m\", \"h\")\n",
    "podatki_energija2 = add_mult(podatki_energija2, \"m\", \"v\")\n",
    "podatki_energija2 = add_mult(podatki_energija2, \"mv\", \"v\")\n",
    "\n",
    "\n",
    "linearna_regresija(podatki_energija2.drop([\"E\"], axis=1), podatki_energija2[\"E\"])"
   ]
  },
  {
   "attachments": {},
   "cell_type": "markdown",
   "metadata": {},
   "source": [
    "1.3 Delovanje pri zašumljenih podatkih lahko včasih izboljšamo z regularizacijo. \n",
    "Pri redki (ang. sparse) regresiji želimo obržati vrednosti koeficientov nizke. Visoke vrednosti kaznujemo tako, da v funkcijo napake dodamo regularizacijski člen (ang. ridge regression):  $\\sum_i (\\hat{y}_i - y_i)^2 + \\lambda \\sum_k \\beta_k^2$, kjer parameter $\\lambda$ določa nivo regularizacije. Optimizacijski problem se da še vedno rešiti analitično:\n",
    "\n",
    "$$ \\vec{\\beta} = (X^TX + \\lambda I)^{-1}X^T \\vec{y} $$ \n",
    "\n",
    "Napiši funkcijo za ridge regresijo. Sprejme naj:\n",
    "- X: tabela z N vrsticami, ki ustrezajo N učnim primerom, ter K stolpci, ki ustrezajo K spremenljivkam (v splošnem bodo to originalne spremenljivke plus neko število dodatnih členov), imena stolpcev pa povejo, za kateri člen gre (np. \"log(x-y)\")\n",
    "- y: vektor z N vrednostmi, ki ustrezajo levi strani enačbe.\n",
    "- lambda: regularizacijski parameter, dobro vrednost za dani problem je treba določiti empirično (s poskušanjem)\n",
    "- meja: opcijski argument, ki pove, pod katero vrednostjo koeficienta člen odstranimo iz enačbe\n",
    "\n",
    "\n",
    "Funkcija naj vrne:\n",
    "- najdeno enačbo v obliki stringa (npr. \"0.32 x + 0.10 x**2 - 2.02 sin(y)\")\n",
    "\n",
    "Funkcijo za ridge regresijo preveri na podatkih za energijski zakon."
   ]
  },
  {
   "cell_type": "code",
   "execution_count": 33,
   "metadata": {},
   "outputs": [],
   "source": [
    "def ridge_regresija(X, y, lam=1, meja=1e-2):\n",
    "    names = list(X.columns.values)\n",
    "    X = X.to_numpy()\n",
    "    A = np.dot(X.transpose(), X)\n",
    "    A += lam*np.identity(len(A))\n",
    "    lhs = np.dot(X.transpose(), y)\n",
    "    b = np.linalg.solve(A, lhs)\n",
    "    b = map(to_signed_str, b)\n",
    "\n",
    "    eq = np.array(list(zip(b, names))).flatten()\n",
    "    return ''.join(eq)\n"
   ]
  },
  {
   "cell_type": "code",
   "execution_count": 35,
   "metadata": {},
   "outputs": [
    {
     "data": {
      "text/plain": [
       "'-0.0032m+0.0072h-0.0063v+9.8001mh+0.0265mv+0.4862mvv'"
      ]
     },
     "execution_count": 35,
     "metadata": {},
     "output_type": "execute_result"
    }
   ],
   "source": [
    "ridge_regresija(podatki_energija2.drop([\"E\"], axis=1), podatki_energija2[\"E\"], lam=0.001)"
   ]
  },
  {
   "attachments": {},
   "cell_type": "markdown",
   "metadata": {},
   "source": [
    "1.4 Ridge regresija za ta problem očitno ne deluje najboljše. V resnici je za odkrivnaje enačb bolj primerna regularizacija z normo L1:\n",
    "$\\sum_i (\\hat{y}_i - y_i)^2 + \\lambda \\sum_k |\\beta_k|$.\n",
    "Taki linearni regresiji rečemo Lasso in žal nima analitične rešitve, zato moramo optimalne vrednosti parametrov $\\beta_k$ iskati z numerično minimizacijo (recimo **scipy.optimize.minimize**).\n",
    "\n",
    "Napiši funkijo za Lasso regresijo z istimi vhodi in izhodi kot v 1.3 ter jo preizkusi na podatkih za energijski zakon. Ali deluje bo\n"
   ]
  },
  {
   "cell_type": "code",
   "execution_count": 62,
   "metadata": {},
   "outputs": [],
   "source": [
    "from scipy.optimize import minimize\n",
    "\n",
    "def f(X, y, lam, x):\n",
    "    inner = np.dot(X, x) - y\n",
    "    v = inner * inner\n",
    "    return np.linalg.norm(v, 1) + lam* np.linalg.norm(x, 1)\n",
    "\n",
    "def lasso_regresija(X, y, lam=1, meja=1e-2):\n",
    "    names = list(X.columns.values)\n",
    "    X = X.to_numpy()\n",
    "    y = y.to_numpy()\n",
    "    partial = lambda x : f(X, y, lam, x)\n",
    "    x0 = np.zeros(np.shape(X)[1])\n",
    "    b = minimize(partial, x0)\n",
    "    b = b[\"x\"]\n",
    "    b = map(to_signed_str, b)\n",
    "\n",
    "    eq = np.array(list(zip(b, names))).flatten()\n",
    "    return ''.join(eq)"
   ]
  },
  {
   "cell_type": "code",
   "execution_count": 66,
   "metadata": {},
   "outputs": [
    {
     "data": {
      "text/plain": [
       "'-0.0000m+0.0021h+0.0021v+9.8029mh+0.0260mv+0.4629mvv'"
      ]
     },
     "execution_count": 66,
     "metadata": {},
     "output_type": "execute_result"
    }
   ],
   "source": [
    "lasso_regresija(podatki_energija2.drop([\"E\"], axis=1), podatki_energija2[\"E\"], lam=0.1)"
   ]
  },
  {
   "attachments": {},
   "cell_type": "markdown",
   "metadata": {},
   "source": [
    "DODATNO: Odkrivanje enačb z linearno regresijo lahko preizkusiš tudi na drugih podatkih v datoteki **vajeED_1_podatki.py**."
   ]
  },
  {
   "attachments": {},
   "cell_type": "markdown",
   "metadata": {},
   "source": [
    "DODATNO-2: Na vajah smo spoznali osnovno implementacijo redke regresije za odkrivanje enačb. Za bolj resne implementacijo si lahko pogledaš knjižnico SINDy, ki je namenjena predvsem odkrivanju sistemov diferencialnih enačb, ki opisujejo dinamične sisteme: https://github.com/dynamicslab/pysindy."
   ]
  },
  {
   "attachments": {},
   "cell_type": "markdown",
   "metadata": {},
   "source": [
    "## 2. del - BACON\n",
    "Na predavanjih smo spoznali enega prvih algoritmov za odkrivanje enačb - BACON. Ta algoritem je koristen za odkrivanje enačb, ki vključujejo samo množenje in deljenje. \n",
    "\n",
    "![algoritem BACON](bacon.png)\n",
    "\n",
    "Zapiši funkcijo, ki sprejme tabelo T s stolpci $x_i$, $1 \\le i \\le m$ in najde zvezo $c = E(x_1, \\dots , x_m)$ po Baconovi metodi (alg. 1). Premisli, kako poimenovati nove spremenljivke in ali se da pogoja iz druge in tretje veje if-stavka malo razrahljati.\n",
    "\n",
    "Metodo preizkusi na Newtonovem zakonu $F = ma$ (**generiraj_newton**) in Stefanovem zakonu $j = \\sigma T^4$ (**generiraj_stefan**)."
   ]
  },
  {
   "cell_type": "code",
   "execution_count": null,
   "metadata": {},
   "outputs": [],
   "source": [
    "def bacon(df, max_iter=20):\n",
    "    stolpci = list(df.columns)\n",
    "    for i in range(max_iter):\n",
    "        df_array = np.array(df)\n",
    "        \"\"\"ocenimo, ali obstaja konstanta\"\"\"\n",
    "        sig = np.std(df_array, axis=0)\n",
    "        # DOPOLNI\n",
    "        \"\"\"izracunajmo vrstne rede, najdemo korelacije med njimi\"\"\"\n",
    "        vrstni_redi = df.rank(axis=0)\n",
    "        korelacije = np.corrcoef(df_array, df_array)\n",
    "        # DOPOLNI\n",
    "        \"\"\"oglej si np.max(korelacije) in np.min(korelacije)\"\"\"\n",
    "        # DOPOLNI\n",
    "        \"\"\"pametno poimenuj novi stolpec, da bomo lahko iz njega razbrali enacbo\"\"\"\n",
    "        # DOPOLNI\n",
    "\n",
    "\n",
    "\n"
   ]
  },
  {
   "cell_type": "code",
   "execution_count": null,
   "metadata": {},
   "outputs": [],
   "source": [
    "podatki = generiraj_newton(100, sum=0)\n",
    "bacon(podatki)"
   ]
  },
  {
   "attachments": {},
   "cell_type": "markdown",
   "metadata": {},
   "source": [
    "DODATNO: Če te odkrivanje enačb zanima, si lahko pogledaš še modernejše algoritme. \n",
    "\n",
    "**pySR** je enostavna za instalacijo, temelji pa na genetskih algoritmih: https://github.com/MilesCranmer/PySR\n",
    "\n",
    "**DSO** je trenutno ena od najmočnejših metod za odkrivanje enačb, združuje pa globoko učenje ter genetske algoritme: https://github.com/brendenpetersen/deep-symbolic-optimization"
   ]
  },
  {
   "cell_type": "markdown",
   "metadata": {},
   "source": []
  }
 ],
 "metadata": {
  "kernelspec": {
   "display_name": "base2",
   "language": "python",
   "name": "python3"
  },
  "language_info": {
   "codemirror_mode": {
    "name": "ipython",
    "version": 3
   },
   "file_extension": ".py",
   "mimetype": "text/x-python",
   "name": "python",
   "nbconvert_exporter": "python",
   "pygments_lexer": "ipython3",
   "version": "3.10.10"
  },
  "orig_nbformat": 4
 },
 "nbformat": 4,
 "nbformat_minor": 2
}
