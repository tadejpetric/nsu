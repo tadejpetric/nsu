{
 "cells": [
  {
   "attachments": {},
   "cell_type": "markdown",
   "metadata": {},
   "source": [
    "# Node2vec\n",
    "\n",
    "Danes bomo\n",
    "\n",
    "1. podatke predstavili kot graf,\n",
    "2. izračunali vpetje vseh vozlišč,\n",
    "3. uporabili vpetja vozlišč, ki pripadajo poslovnim obratom, za napovedovanje vrste obrata.\n",
    "\n",
    "## 0. Priprava delovnega okolja\n",
    "\n",
    "Virtualno okolje s prvih vaj iz večtabelnih podatkov (ki vključuje pandas, scikit ...), bomo razširili\n",
    "z `networkx` in `node2vec`. To storite tako, da pokličete `pip install networkx node2vec`.\n",
    "\n",
    "Če vam iz neznanega razloga nekaj sesuva globoko v nameščenih paketih, si lahko pomagate tako:\n",
    "\n",
    "V mapo za današnje vaje (kjer ta zveščič) shranite še `mojiPaketi.txt`, ki je dostopen na učilnici.\n",
    "V njej se nahajajo potrebne knjižnice in njihove verzije, ki dokazano delujejo.\n",
    "Preverite, da dolge vrstice za `re3py` ni v njej (če ste datoteko prenseli med vajami, je).\n",
    "\n",
    "\n",
    "Nato odprite _Ukazni poziv_ (ang. _command prompt_), ki je morda videti na začetku nekako tako\n",
    "\n",
    "![začetni CMD](slike/zacetni_cmd.PNG)\n",
    "\n",
    "Premaknite se v mapo za današnje vaje (ukaz `cd ...`):\n",
    "\n",
    "![prava lokacija CMD](slike/prava_lokacija_cmd.PNG)\n",
    "\n",
    "Naredite novo virtualno okolje: `python -m venv venv` in ga aktivirajte (`venv\\Scripts\\activate`).\n",
    "Pred lokacijo se mora pojaviti ime okolja  (`venv`):\n",
    "\n",
    "![aktivacija okolja](slike/aktiviran_venv.PNG)\n",
    "\n",
    "Za vsak slučaj posodobite pip z ukazom [python -m pip install --upgrade pip](https://stackoverflow.com/questions/15221473/how-do-i-update-upgrade-pip-itself-from-inside-my-virtual-environment) \n",
    "(predvsem če imate kakšno starejšo različico pythona), nato pa z njim namestite vse potrebne pakete:\n",
    "\n",
    "`pip install -r mojiPaketi.txt`\n",
    "\n",
    "Čez nekaj časa bo vse nameščeno. Nato desno zgoraj (kot kaže slika) izberite pravi Python:\n",
    "\n",
    "![izbira kernela](slike/izberi_kernel.PNG)\n",
    "\n",
    "\n",
    "\n",
    "## 1. Pretvorba v graf\n",
    "\n",
    "Uporabili bomo knjižnico `networkx` (ki jo naložimo z ukazom `pip install networkx`).\n",
    "Pri pretvorbi v graf moramo ugotviti, kaj so vozlišča in povezave grafa.\n",
    "\n",
    "Odgovoriti moramo na kar nekaj vprašanj, npr.\n",
    "\n",
    "- Kako predstavimo vrstice iz tabele `business` (stolpci `business_id`, `stars`, `review_count`, `category`)?\n",
    "  - Ali sploh smemo v graf vnesti informacijo o `category` (glede na dogajanje pri točki 2)?\n",
    "  - Kako predstaviti vrednosti za `review_count`?\n",
    "- Kako predstavimo vrstice iz tabele `attributes` (stolpci `business_id`, `name`, `value`)?\n",
    "  - Tukaj je namreč pripadajoča relacija trojiška.\n",
    "- Kako predstaviti vrstice iz tabele `hours` (stolpci `business_id`, `day`, `open time`, `close time`)?\n",
    "   - Dve trojiški relaciji, urejenost po času\n",
    "\n",
    "Če odgovorimo na vse to, bomo vedeli tudi, kako pretvoriti vrstice tabel `review` in `users`."
   ]
  },
  {
   "cell_type": "code",
   "execution_count": 13,
   "metadata": {},
   "outputs": [],
   "source": [
    "import os\n",
    "from typing import List\n",
    "import numpy as np\n",
    "import pandas as pd\n",
    "import networkx as nx\n",
    "from node2vec import Node2Vec\n",
    "from gensim.models import Word2Vec\n",
    "from sklearn.ensemble import RandomForestClassifier\n",
    "from sklearn.model_selection import train_test_split\n",
    "from sklearn.metrics import accuracy_score\n",
    "from sklearn.preprocessing import KBinsDiscretizer\n",
    "\n",
    "\n",
    "def pripona_datoteke(dim, dolzina, stevilo, p, q):\n",
    "    return f\"dim{dim}_dolzina{dolzina}_stevilo{stevilo}_p{p}_q{q}\""
   ]
  },
  {
   "cell_type": "markdown",
   "metadata": {},
   "source": [
    "### Igranje z networkx"
   ]
  },
  {
   "cell_type": "code",
   "execution_count": 14,
   "metadata": {},
   "outputs": [],
   "source": [
    "g = nx.Graph()\n",
    "g.add_node(\"oseba Maja\")\n",
    "g.add_edge(\"oseba Maja\", \"mož Karel\")\n"
   ]
  },
  {
   "cell_type": "code",
   "execution_count": 15,
   "metadata": {},
   "outputs": [
    {
     "data": {
      "text/plain": [
       "EdgeView([('oseba Maja', 'mož Karel')])"
      ]
     },
     "execution_count": 15,
     "metadata": {},
     "output_type": "execute_result"
    }
   ],
   "source": [
    "# g.nodes\n",
    "g.edges"
   ]
  },
  {
   "attachments": {},
   "cell_type": "markdown",
   "metadata": {},
   "source": [
    "# 1. Pretvorba v graf"
   ]
  },
  {
   "cell_type": "code",
   "execution_count": 16,
   "metadata": {},
   "outputs": [],
   "source": [
    "def diskretiziraj(podatki: pd.DataFrame, atributi: List[str]):\n",
    "    \"\"\"Diskretizira izbrane atribute, ki se nahajajo v podatkih.\"\"\"\n",
    "    pretvornik = KBinsDiscretizer(\n",
    "        n_bins=5,\n",
    "        encode=\"ordinal\",\n",
    "        strategy=\"quantile\"\n",
    "    )\n",
    "    nove_vrednosti = pretvornik.fit_transform(podatki[atributi])\n",
    "    for i, a in enumerate(atributi):\n",
    "        podatki[a] = nove_vrednosti[:, i]"
   ]
  },
  {
   "attachments": {},
   "cell_type": "markdown",
   "metadata": {},
   "source": [
    "## 1. 1 Pretvorba tabele business\n",
    "\n",
    "Večina dela je že narejenega. Popravi kodo tako, da bomo lahko vključili še kakšen numeričen atribut, ki je morda koristen."
   ]
  },
  {
   "cell_type": "code",
   "execution_count": 17,
   "metadata": {},
   "outputs": [],
   "source": [
    "def posodobi_z_business(graf: nx.Graph):\n",
    "    business = pd.read_csv(\"yelp_business.txt\", sep=\"\\t\")\n",
    "    ok_atributi = [\n",
    "        # nekoristno: full_address, city, state, open\n",
    "        # zaenkrat neprimerno za graf: latitude, longitude, review_count\n",
    "        # prevovedano: category\n",
    "        \"stars\", \"review_count\"\n",
    "    ]\n",
    "    diskretiziraj(business, [\"review_count\"])\n",
    "    for _, vrsta in business.iterrows():\n",
    "        vozlisce_b = f\"biznis_{vrsta['business_id']}\"\n",
    "        vozlisca_a = [f\"biznis_atribut_{a}_{vrsta[a]}\" for a in ok_atributi]\n",
    "        povezave = [(vozlisce_b, voz_a) for voz_a in vozlisca_a]\n",
    "        for od, do in povezave:\n",
    "            graf.add_edge(od, do)"
   ]
  },
  {
   "attachments": {},
   "cell_type": "markdown",
   "metadata": {},
   "source": [
    "## 1.2 Pretvorba tabele attributes"
   ]
  },
  {
   "cell_type": "code",
   "execution_count": 18,
   "metadata": {},
   "outputs": [],
   "source": [
    "def posodobi_z_attributes(graf: nx.Graph):\n",
    "    \"\"\"Trojiške relacije zahtevajo ustanovitev 'posebnih vozlišč'\"\"\"\n",
    "    attributes = pd.read_csv(\"yelp_attributes.txt\", sep=\"\\t\")\n",
    "    # business_id\tname\tvalue\n",
    "    for _, vrsta in attributes.iterrows():\n",
    "        vozlisce_b = f\"biznis_{vrsta['business_id']}\"\n",
    "        vozlisce_ime_atributa = f\"atribut_{vrsta['name']}\"\n",
    "        vozlisce_ime_vrednost_atr = f\"atribut_vrednost_{vrsta['name']}_{vrsta['value']}\"\n",
    "        povezave = [\n",
    "            (vozlisce_b, vozlisce_ime_atributa),\n",
    "            (vozlisce_ime_atributa, vozlisce_ime_vrednost_atr),\n",
    "            (vozlisce_b, vozlisce_ime_vrednost_atr)\n",
    "        ]\n",
    "        for od, do in povezave:\n",
    "            graf.add_edge(od, do)"
   ]
  },
  {
   "attachments": {},
   "cell_type": "markdown",
   "metadata": {},
   "source": [
    "## 1.3 Pretvorba tabele hours"
   ]
  },
  {
   "cell_type": "code",
   "execution_count": 19,
   "metadata": {},
   "outputs": [],
   "source": [
    "def posodobi_z_hours(graf: nx.Graph):\n",
    "    hours = pd.read_csv(\"yelp_hours.txt\", sep=\"\\t\")\n",
    "    # business_id\tday\topen time\tclose time\n",
    "    for _, vrsta in hours.iterrows():\n",
    "        vozlisce_b = f\"biznis_{vrsta['business_id']}\"\n",
    "        vozlisce_d = f\"dan_{vrsta['day']}\"\n",
    "        vozlisce_d_odpri = f\"dan_odpri_{vrsta['day']}_{vrsta['open time']}\"\n",
    "        vozlisce_d_zapri = f\"dan_zapri_{vrsta['day']}_{vrsta['close time']}\"\n",
    "        povezave = [\n",
    "            (vozlisce_b, vozlisce_d),\n",
    "            (vozlisce_b, vozlisce_d_odpri),\n",
    "            (vozlisce_b, vozlisce_d_zapri),\n",
    "            (vozlisce_d, vozlisce_d_odpri),\n",
    "            (vozlisce_d, vozlisce_d_zapri)\n",
    "        ]\n",
    "        for od, do in povezave:\n",
    "            graf.add_edge(od, do)"
   ]
  },
  {
   "attachments": {},
   "cell_type": "markdown",
   "metadata": {},
   "source": [
    "## 1.4 Pretvorba tabele review"
   ]
  },
  {
   "cell_type": "code",
   "execution_count": 20,
   "metadata": {},
   "outputs": [],
   "source": [
    "def posodobi_z_review(graf: nx.Graph):\n",
    "    \"\"\"Povežemo biznis z recenzijo, recenzijo pa z njenimi lastnostmi\"\"\"\n",
    "    reviews = pd.read_csv(\"yelp_review.txt\", sep=\"\\t\")\n",
    "    for _, vrsta in reviews.iterrows():\n",
    "        # biznis <--> recenzija <--> uporabnik\n",
    "        vozlisce_b = f\"biznis_{vrsta['business_id']}\"\n",
    "        volzisce_r = f\"recenzija_{vrsta['review_id']}\"\n",
    "        vozlisce_u = f\"uporabnik_{vrsta['user_id']}\"\n",
    "        povezave = [\n",
    "            (vozlisce_b, volzisce_r),\n",
    "            (volzisce_r, vozlisce_u)\n",
    "        ]\n",
    "        # recenzija <--> atribut\n",
    "        atributi = [\"stars\", \"funny\", \"useful\"]\n",
    "        vozlisca_atributi = [f\"recentija_atr_{a}_{vrsta[a]}\" for a in atributi]\n",
    "        for v_a in vozlisca_atributi:\n",
    "            povezave.append((volzisce_r, v_a))\n",
    "        \n",
    "        for od, do in povezave:\n",
    "            graf.add_edge(od, do)"
   ]
  },
  {
   "cell_type": "code",
   "execution_count": 21,
   "metadata": {},
   "outputs": [
    {
     "data": {
      "text/plain": [
       "37"
      ]
     },
     "execution_count": 21,
     "metadata": {},
     "output_type": "execute_result"
    }
   ],
   "source": [
    "reviews = pd.read_csv(\"yelp_users.txt\", sep=\"\\t\")\n",
    "len(reviews[\"fans\"].unique())"
   ]
  },
  {
   "attachments": {},
   "cell_type": "markdown",
   "metadata": {},
   "source": [
    "## 1.5 Pretvoraba tabele users"
   ]
  },
  {
   "cell_type": "code",
   "execution_count": 22,
   "metadata": {},
   "outputs": [],
   "source": [
    "def posodobi_z_users(graf: nx.Graph):\n",
    "    \"\"\"Naredi povezave uporabnik <--> atribut. Večinoma so atributi diskretizirani.\"\"\"\n",
    "    users = pd.read_csv(\"yelp_users.txt\", sep=\"\\t\").fillna(-1.0)\n",
    "    za_diskretizirati = [\n",
    "        \"review_count\", \"fans\", \"cool\", \"cute\", \"funny\",\n",
    "        \"hot\", \"list\", \"more\", \"note\", \"photos\", \"plain\",\n",
    "        \"profile\", \"writer\", \"uv_cool\", \"uv_funny\", \"uv_useful\"\n",
    "    ]\n",
    "    # to bo povzročilo nekaj warningov ...\n",
    "    diskretiziraj(users, za_diskretizirati)\n",
    "    ok_atributi = [\"average_rate\"] + za_diskretizirati\n",
    "    for _, vrsta in users.iterrows():\n",
    "        vozlisce_u = f\"uporabnik_{vrsta['user_id']}\"\n",
    "        vozlisca_u_atr = [f\"u_atribut_{a}_{vrsta[a]}\" for a in ok_atributi]\n",
    "        for u_atr in vozlisca_u_atr:\n",
    "            graf.add_edge(vozlisce_u, u_atr)\n"
   ]
  },
  {
   "cell_type": "code",
   "execution_count": 23,
   "metadata": {},
   "outputs": [],
   "source": [
    "def yelp_to_graph():\n",
    "    graf = nx.Graph()\n",
    "    posodobi_z_business(graf)\n",
    "    posodobi_z_attributes(graf)\n",
    "    posodobi_z_review(graf)\n",
    "    posodobi_z_hours(graf)\n",
    "    posodobi_z_users(graf)\n",
    "    return graf"
   ]
  },
  {
   "attachments": {},
   "cell_type": "markdown",
   "metadata": {},
   "source": [
    "## 2. Izračun vpetij\n",
    "\n",
    "Uporabili bomo knjižnico `node2vec` (ki jo naložimo z ukazom `pip install node2vec`).\n",
    "Algoritem temelji na algoritmu `word2vec`, ki je implementiran v knjižnici `gensim`,\n",
    "ki se bo naložila v sklopu nameščanja knjižnice `node2vec`.\n",
    "\n",
    "Algoritem, kot je vidno spodaj, ima kar nekaj parametrov."
   ]
  },
  {
   "cell_type": "code",
   "execution_count": 24,
   "metadata": {},
   "outputs": [],
   "source": [
    "def pridobi_vlozitev(\n",
    "        graf: nx.Graph,\n",
    "        dim=32,\n",
    "        dolzina_sprehoda=10,\n",
    "        st_sprehodov=200,\n",
    "        p=2,\n",
    "        q=1\n",
    "):\n",
    "    podrobnosti = pripona_datoteke(dim, dolzina_sprehoda, st_sprehodov, p, q)\n",
    "    datoteka_model = f\"node2vec_{podrobnosti}.model\"\n",
    "    datoteka_vektorji = f\"node2vec_{podrobnosti}.csv\"\n",
    "    if not os.path.exists(datoteka_model):\n",
    "        # verjetnosti/sprehodi\n",
    "        node2vec = Node2Vec(\n",
    "            graf,\n",
    "            dimensions=dim,\n",
    "            walk_length=dolzina_sprehoda,\n",
    "            num_walks=st_sprehodov,\n",
    "            p=p,\n",
    "            q=q,\n",
    "            workers=4\n",
    "        )\n",
    "        # natreniraj model\n",
    "        model = node2vec.fit(window=2, min_count=1, batch_words=50)\n",
    "        # shrani za kasnejšo in ponovno rabo\n",
    "        model.wv.save_word2vec_format(datoteka_vektorji)\n",
    "        model.save(datoteka_model)\n",
    "    else:\n",
    "        model = Word2Vec.load(datoteka_model)\n",
    "    # preverimo, ali je vpetja/vložitev smiselno/a\n",
    "    vozlisca_za_analizo = [\n",
    "        'atribut_Alcohol',\n",
    "        'dan_Monday'\n",
    "    ]\n",
    "    for v in vozlisca_za_analizo:\n",
    "        print(f\"Vozlišču {v} so najbolj podobna\")\n",
    "        for sosed, podobnost in model.wv.most_similar(v):\n",
    "            print(f\"    {sosed} (podobnost: {podobnost:.3f})\")"
   ]
  },
  {
   "attachments": {},
   "cell_type": "markdown",
   "metadata": {},
   "source": [
    "# 3. Naredimo tabelo za učenje\n",
    "\n",
    "- Iz `.csv`-ja preberemo upodobitve\n",
    "- Iz tabele `business` poberemo vrednosti ciljne spremenljivke"
   ]
  },
  {
   "cell_type": "code",
   "execution_count": 25,
   "metadata": {},
   "outputs": [],
   "source": [
    "def naredi_tabelo(\n",
    "        dim=32,\n",
    "        dolzina_sprehoda=10,\n",
    "        st_sprehodov=200,\n",
    "        p=2,\n",
    "        q=1\n",
    "):\n",
    "    businesses = pd.read_csv(\"yelp_business.txt\", sep=\"\\t\")\n",
    "    biznisi = {f\"biznis_{b}\": i for i, b in enumerate(businesses[\"business_id\"])}\n",
    "    category = np.array(businesses[\"category\"])\n",
    "    pripona = pripona_datoteke(dim, dolzina_sprehoda, st_sprehodov, p, q)\n",
    "    datoteka_vektorjev = f\"node2vec_{pripona}.csv\"\n",
    "    with open(datoteka_vektorjev) as f:\n",
    "        n_rows = len(biznisi)\n",
    "        _, n_col = map(int, f.readline().strip().split(\" \"))\n",
    "        matrix = np.zeros((n_rows, n_col))\n",
    "        for row in f:\n",
    "            row = row.split(\" \")\n",
    "            if row[0] in biznisi:\n",
    "                e = [float(x) for x in row[1:]]\n",
    "                matrix[biznisi[row[0]]] = np.array(e)\n",
    "    return matrix, category"
   ]
  },
  {
   "attachments": {},
   "cell_type": "markdown",
   "metadata": {},
   "source": [
    "### Naučimo se modelov"
   ]
  },
  {
   "cell_type": "code",
   "execution_count": 26,
   "metadata": {},
   "outputs": [
    {
     "name": "stderr",
     "output_type": "stream",
     "text": [
      "/home/user/programming/nsu/dn3/lib/python3.10/site-packages/sklearn/preprocessing/_discretization.py:279: UserWarning: Bins whose width are too small (i.e., <= 1e-8) in feature 1 are removed. Consider decreasing the number of bins.\n",
      "  warnings.warn(\n",
      "/home/user/programming/nsu/dn3/lib/python3.10/site-packages/sklearn/preprocessing/_discretization.py:279: UserWarning: Bins whose width are too small (i.e., <= 1e-8) in feature 2 are removed. Consider decreasing the number of bins.\n",
      "  warnings.warn(\n",
      "/home/user/programming/nsu/dn3/lib/python3.10/site-packages/sklearn/preprocessing/_discretization.py:279: UserWarning: Bins whose width are too small (i.e., <= 1e-8) in feature 3 are removed. Consider decreasing the number of bins.\n",
      "  warnings.warn(\n",
      "/home/user/programming/nsu/dn3/lib/python3.10/site-packages/sklearn/preprocessing/_discretization.py:279: UserWarning: Bins whose width are too small (i.e., <= 1e-8) in feature 4 are removed. Consider decreasing the number of bins.\n",
      "  warnings.warn(\n",
      "/home/user/programming/nsu/dn3/lib/python3.10/site-packages/sklearn/preprocessing/_discretization.py:279: UserWarning: Bins whose width are too small (i.e., <= 1e-8) in feature 5 are removed. Consider decreasing the number of bins.\n",
      "  warnings.warn(\n",
      "/home/user/programming/nsu/dn3/lib/python3.10/site-packages/sklearn/preprocessing/_discretization.py:279: UserWarning: Bins whose width are too small (i.e., <= 1e-8) in feature 6 are removed. Consider decreasing the number of bins.\n",
      "  warnings.warn(\n",
      "/home/user/programming/nsu/dn3/lib/python3.10/site-packages/sklearn/preprocessing/_discretization.py:279: UserWarning: Bins whose width are too small (i.e., <= 1e-8) in feature 7 are removed. Consider decreasing the number of bins.\n",
      "  warnings.warn(\n",
      "/home/user/programming/nsu/dn3/lib/python3.10/site-packages/sklearn/preprocessing/_discretization.py:279: UserWarning: Bins whose width are too small (i.e., <= 1e-8) in feature 8 are removed. Consider decreasing the number of bins.\n",
      "  warnings.warn(\n",
      "/home/user/programming/nsu/dn3/lib/python3.10/site-packages/sklearn/preprocessing/_discretization.py:279: UserWarning: Bins whose width are too small (i.e., <= 1e-8) in feature 9 are removed. Consider decreasing the number of bins.\n",
      "  warnings.warn(\n",
      "/home/user/programming/nsu/dn3/lib/python3.10/site-packages/sklearn/preprocessing/_discretization.py:279: UserWarning: Bins whose width are too small (i.e., <= 1e-8) in feature 10 are removed. Consider decreasing the number of bins.\n",
      "  warnings.warn(\n",
      "/home/user/programming/nsu/dn3/lib/python3.10/site-packages/sklearn/preprocessing/_discretization.py:279: UserWarning: Bins whose width are too small (i.e., <= 1e-8) in feature 11 are removed. Consider decreasing the number of bins.\n",
      "  warnings.warn(\n",
      "/home/user/programming/nsu/dn3/lib/python3.10/site-packages/sklearn/preprocessing/_discretization.py:279: UserWarning: Bins whose width are too small (i.e., <= 1e-8) in feature 12 are removed. Consider decreasing the number of bins.\n",
      "  warnings.warn(\n",
      "/home/user/programming/nsu/dn3/lib/python3.10/site-packages/sklearn/preprocessing/_discretization.py:279: UserWarning: Bins whose width are too small (i.e., <= 1e-8) in feature 14 are removed. Consider decreasing the number of bins.\n",
      "  warnings.warn(\n"
     ]
    },
    {
     "name": "stdout",
     "output_type": "stream",
     "text": [
      "Končne statistike: 3731, 48818\n"
     ]
    },
    {
     "name": "stderr",
     "output_type": "stream",
     "text": [
      "Computing transition probabilities: 100%|██████████| 3731/3731 [00:24<00:00, 151.06it/s]\n",
      "Generating walks (CPU: 1): 100%|██████████| 50/50 [00:18<00:00,  2.71it/s]\n",
      "Generating walks (CPU: 2): 100%|██████████| 50/50 [00:18<00:00,  2.71it/s]\n",
      "Generating walks (CPU: 3): 100%|██████████| 50/50 [00:18<00:00,  2.68it/s]\n",
      "Generating walks (CPU: 4): 100%|██████████| 50/50 [00:18<00:00,  2.71it/s]\n"
     ]
    },
    {
     "name": "stdout",
     "output_type": "stream",
     "text": [
      "Vozlišču atribut_Alcohol so najbolj podobna\n",
      "    atribut_vrednost_divey_false (podobnost: 0.996)\n",
      "    atribut_vrednost_intimate_false (podobnost: 0.996)\n",
      "    atribut_hipster (podobnost: 0.995)\n",
      "    atribut_latenight (podobnost: 0.995)\n",
      "    atribut_Has TV (podobnost: 0.995)\n",
      "    atribut_lunch (podobnost: 0.995)\n",
      "    atribut_Good For Groups (podobnost: 0.995)\n",
      "    atribut_Waiter Service (podobnost: 0.995)\n",
      "    atribut_Take-out (podobnost: 0.994)\n",
      "    atribut_upscale (podobnost: 0.994)\n",
      "Vozlišču dan_Monday so najbolj podobna\n",
      "    dan_Wednesday (podobnost: 0.993)\n",
      "    dan_Thursday (podobnost: 0.992)\n",
      "    dan_Tuesday (podobnost: 0.991)\n",
      "    dan_Friday (podobnost: 0.977)\n",
      "    dan_Saturday (podobnost: 0.916)\n",
      "    dan_Sunday (podobnost: 0.854)\n",
      "    dan_zapri_Monday_13:00:00 (podobnost: 0.774)\n",
      "    dan_zapri_Wednesday_13:00:00 (podobnost: 0.753)\n",
      "    dan_zapri_Monday_12:30:00 (podobnost: 0.747)\n",
      "    dan_odpri_Tuesday_13:30:00 (podobnost: 0.741)\n",
      "Točnost: 0.8860759493670886\n"
     ]
    }
   ],
   "source": [
    "yelp_graf = yelp_to_graph()\n",
    "print(f\"Končne statistike: {len(yelp_graf.nodes)}, {len(yelp_graf.edges)}\")\n",
    "pridobi_vlozitev(yelp_graf)\n",
    "xs, y = naredi_tabelo()\n",
    "x0, x1, y0, y1 = train_test_split(\n",
    "    xs,\n",
    "    y,\n",
    "    test_size=0.25,\n",
    "    random_state=1234,\n",
    "    stratify=y\n",
    ")\n",
    "rf = RandomForestClassifier()  # n_estimators=300, max_features=1.0)\n",
    "rf.fit(x0, y0)\n",
    "y_hat = rf.predict(x1)\n",
    "print(\"Točnost:\", accuracy_score(y1, y_hat))"
   ]
  }
 ],
 "metadata": {
  "kernelspec": {
   "display_name": "venv",
   "language": "python",
   "name": "python3"
  },
  "language_info": {
   "codemirror_mode": {
    "name": "ipython",
    "version": 3
   },
   "file_extension": ".py",
   "mimetype": "text/x-python",
   "name": "python",
   "nbconvert_exporter": "python",
   "pygments_lexer": "ipython3",
   "version": "3.10.10"
  },
  "orig_nbformat": 4
 },
 "nbformat": 4,
 "nbformat_minor": 2
}
