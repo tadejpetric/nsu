{
 "cells": [
  {
   "attachments": {},
   "cell_type": "markdown",
   "metadata": {},
   "source": [
    "# Backpropagation"
   ]
  },
  {
   "cell_type": "code",
   "execution_count": 2,
   "metadata": {},
   "outputs": [],
   "source": [
    "import numpy as np\n",
    "import math\n",
    "import matplotlib.pyplot as plt"
   ]
  },
  {
   "cell_type": "code",
   "execution_count": null,
   "metadata": {},
   "outputs": [],
   "source": [
    "def relu(x):\n",
    "    return x if x > 0 else 0\n",
    "\n",
    "class mlp:\n",
    "    def __init__(self, layers, size):\n",
    "        self.inl = np.random.rand(1, size)\n",
    "        self.hidden = [np.random.rand(size) for _ in layers]\n",
    "        self.outl = np.random.rand(size, 1)\n",
    "        self.act = np.vectorize(relu)\n",
    "    \n",
    "    def forward(self, x):\n",
    "        y = np.matmul(self.inl, x)\n",
    "        y = self.act(y)\n",
    "\n",
    "        for layer in self.hidden:\n",
    "            y = np.matmul(layer, y)\n",
    "            y = self.act(y)\n",
    "        \n",
    "        y = np.matmul(self.outl, y)\n",
    "        return y"
   ]
  }
 ],
 "metadata": {
  "kernelspec": {
   "display_name": ".venv",
   "language": "python",
   "name": "python3"
  },
  "language_info": {
   "codemirror_mode": {
    "name": "ipython",
    "version": 3
   },
   "file_extension": ".py",
   "mimetype": "text/x-python",
   "name": "python",
   "nbconvert_exporter": "python",
   "pygments_lexer": "ipython3",
   "version": "3.11.3"
  },
  "orig_nbformat": 4
 },
 "nbformat": 4,
 "nbformat_minor": 2
}
