{
 "cells": [
  {
   "cell_type": "code",
   "execution_count": 189,
   "metadata": {},
   "outputs": [],
   "source": [
    "words = open(\"words.txt\", \"r\").read().splitlines()"
   ]
  },
  {
   "cell_type": "code",
   "execution_count": 190,
   "metadata": {},
   "outputs": [],
   "source": [
    "from collections import defaultdict"
   ]
  },
  {
   "cell_type": "code",
   "execution_count": 191,
   "metadata": {},
   "outputs": [],
   "source": [
    "bigrams = defaultdict(int)\n",
    "for word in words:\n",
    "    x = [\"<S>\"] + list(word) + [\"<E>\"]\n",
    "    for fst, snd in zip(x, x[1:]):\n",
    "        bigram = (fst, snd)\n",
    "        bigrams[bigram] += 1"
   ]
  },
  {
   "cell_type": "code",
   "execution_count": 192,
   "metadata": {},
   "outputs": [
    {
     "data": {
      "text/plain": [
       "68"
      ]
     },
     "execution_count": 192,
     "metadata": {},
     "output_type": "execute_result"
    }
   ],
   "source": [
    "bigrams[(\"m\",\"m\")]"
   ]
  },
  {
   "cell_type": "code",
   "execution_count": 193,
   "metadata": {},
   "outputs": [],
   "source": [
    "sorted(bigrams, key= lambda k: -bigrams[k])\n",
    "arr = sorted(bigrams.items(), key = lambda bg: -bg[1])"
   ]
  },
  {
   "cell_type": "code",
   "execution_count": 194,
   "metadata": {},
   "outputs": [],
   "source": [
    "import torch\n",
    "count_tensor = torch.zeros((27,27), dtype=torch.int32)"
   ]
  },
  {
   "cell_type": "code",
   "execution_count": 195,
   "metadata": {},
   "outputs": [],
   "source": [
    "letters = ['.'] + sorted(list(set(''.join(words)))) \n",
    "stoi = { s:i for i,s in enumerate(letters)}"
   ]
  },
  {
   "cell_type": "code",
   "execution_count": 196,
   "metadata": {},
   "outputs": [
    {
     "data": {
      "text/plain": [
       "{'.': 0,\n",
       " 'a': 1,\n",
       " 'b': 2,\n",
       " 'c': 3,\n",
       " 'd': 4,\n",
       " 'e': 5,\n",
       " 'f': 6,\n",
       " 'g': 7,\n",
       " 'h': 8,\n",
       " 'i': 9,\n",
       " 'j': 10,\n",
       " 'k': 11,\n",
       " 'l': 12,\n",
       " 'm': 13,\n",
       " 'n': 14,\n",
       " 'o': 15,\n",
       " 'p': 16,\n",
       " 'q': 17,\n",
       " 'r': 18,\n",
       " 's': 19,\n",
       " 't': 20,\n",
       " 'u': 21,\n",
       " 'v': 22,\n",
       " 'w': 23,\n",
       " 'x': 24,\n",
       " 'y': 25,\n",
       " 'z': 26}"
      ]
     },
     "execution_count": 196,
     "metadata": {},
     "output_type": "execute_result"
    }
   ],
   "source": [
    "stoi"
   ]
  },
  {
   "cell_type": "code",
   "execution_count": 197,
   "metadata": {},
   "outputs": [],
   "source": [
    "for word in words:\n",
    "    x = [\".\"] + list(word) + [\".\"]\n",
    "    for fst, snd in zip(x, x[1:]):\n",
    "        a = stoi[fst]\n",
    "        b = stoi[snd]\n",
    "        count_tensor[a, b] += 1"
   ]
  },
  {
   "cell_type": "code",
   "execution_count": 198,
   "metadata": {},
   "outputs": [
    {
     "data": {
      "text/plain": [
       "<matplotlib.image.AxesImage at 0x7f9cdc82e410>"
      ]
     },
     "execution_count": 198,
     "metadata": {},
     "output_type": "execute_result"
    },
    {
     "data": {
      "image/png": "[encoded data removed]",
      "text/plain": [
       "<Figure size 640x480 with 1 Axes>"
      ]
     },
     "metadata": {},
     "output_type": "display_data"
    }
   ],
   "source": [
    "import matplotlib.pyplot as plt\n",
    "%matplotlib inline\n",
    "\n",
    "plt.imshow(count_tensor)"
   ]
  },
  {
   "cell_type": "code",
   "execution_count": 199,
   "metadata": {},
   "outputs": [],
   "source": [
    "itos = { i:s for i,s in enumerate(letters)}"
   ]
  },
  {
   "cell_type": "code",
   "execution_count": 200,
   "metadata": {},
   "outputs": [
    {
     "data": {
      "text/plain": [
       "tensor([0.0000, 0.0719, 0.0536, 0.1015, 0.0558, 0.0465, 0.0431, 0.0286, 0.0332,\n",
       "        0.0386, 0.0127, 0.0098, 0.0374, 0.0557, 0.0230, 0.0227, 0.0792, 0.0046,\n",
       "        0.0582, 0.1007, 0.0549, 0.0127, 0.0191, 0.0289, 0.0012, 0.0042, 0.0022])"
      ]
     },
     "execution_count": 200,
     "metadata": {},
     "output_type": "execute_result"
    }
   ],
   "source": [
    "count_tensor[0, :] # == count_tensor[0]\n",
    "p = count_tensor[0].float()\n",
    "p /= p.sum()\n",
    "p"
   ]
  },
  {
   "cell_type": "code",
   "execution_count": 201,
   "metadata": {},
   "outputs": [
    {
     "data": {
      "text/plain": [
       "tensor([0.3312, 0.9637, 0.3629])"
      ]
     },
     "execution_count": 201,
     "metadata": {},
     "output_type": "execute_result"
    }
   ],
   "source": [
    "g = torch.Generator().manual_seed(2**31 +1)\n",
    "pt = torch.rand(3, generator=g)\n",
    "pt /= p.sum()\n",
    "pt"
   ]
  },
  {
   "cell_type": "code",
   "execution_count": 202,
   "metadata": {},
   "outputs": [
    {
     "data": {
      "text/plain": [
       "tensor([16, 20, 22, 22,  2,  3,  5,  4,  6, 14, 16, 12, 20,  7, 18, 23,  5,  3,\n",
       "        19, 12])"
      ]
     },
     "execution_count": 202,
     "metadata": {},
     "output_type": "execute_result"
    }
   ],
   "source": [
    "g = torch.Generator().manual_seed(2**31 +1)\n",
    "torch.multinomial(p, num_samples=20, replacement=True, generator=g)"
   ]
  },
  {
   "cell_type": "code",
   "execution_count": 220,
   "metadata": {},
   "outputs": [
    {
     "name": "stdout",
     "output_type": "stream",
     "text": [
      "\n",
      "pgxxwhfosvqbmigtml.\n",
      "dgdqv.\n",
      "dscprlzodquerrsfdg.\n"
     ]
    },
    {
     "data": {
      "text/plain": [
       "['munided.',\n",
       " 'ppagat.',\n",
       " 'p.',\n",
       " 'ctay.',\n",
       " 'ecin.',\n",
       " 'fuitritoleras.',\n",
       " 'tet.',\n",
       " 'bs.',\n",
       " 'antauranileveackibininrwimer.',\n",
       " 's.',\n",
       " 'juinay.',\n",
       " 'arterinveumestfontume.',\n",
       " 'ponts.',\n",
       " 'walestequcore.',\n",
       " 'y.',\n",
       " 'engrerapated.',\n",
       " 'wedimouim.',\n",
       " 'ynin.',\n",
       " 'ag.',\n",
       " 'asntss.',\n",
       " 'imousushtdgos.',\n",
       " 'mptingict.',\n",
       " 'r.',\n",
       " 'pinfothotir.',\n",
       " 'somed.',\n",
       " 'ine.',\n",
       " 'fy.',\n",
       " 'p.',\n",
       " 'mmeaumemaludewitepphectrarr.',\n",
       " 'wenhuangrta.']"
      ]
     },
     "execution_count": 220,
     "metadata": {},
     "output_type": "execute_result"
    }
   ],
   "source": [
    "g = torch.Generator().manual_seed(2**31 -1)\n",
    "ix = 0\n",
    "\n",
    "out = []\n",
    "for i in range(30):\n",
    "    word = []\n",
    "    while True:\n",
    "        p = count_tensor[ix].float()\n",
    "        p /= p.sum()\n",
    "        ix = torch.multinomial(p, num_samples=1, replacement=True, generator=g).item()\n",
    "        word.append(itos[ix])\n",
    "        if ix == 0:\n",
    "            break\n",
    "    out.append(\"\".join(word))\n",
    "\n",
    "print()\n",
    "for i in range(3):\n",
    "    while True:\n",
    "        p = torch.ones(27).float()\n",
    "        p /= p.sum()\n",
    "        ix = torch.multinomial(p, num_samples=1, replacement=True).item()\n",
    "        print(itos[ix],end=\"\")\n",
    "        if ix == 0:\n",
    "            break\n",
    "    print()\n",
    "\n",
    "out"
   ]
  },
  {
   "cell_type": "code",
   "execution_count": 209,
   "metadata": {},
   "outputs": [
    {
     "data": {
      "text/plain": [
       "['kiomoiclepan.',\n",
       " 'teacutada.',\n",
       " 'de.',\n",
       " 'ming.',\n",
       " 'pontymamanthti.',\n",
       " 'cendiamarthtst.',\n",
       " 'nusltiod.',\n",
       " 'retsod.',\n",
       " 't.',\n",
       " 'shi.',\n",
       " 'bl.',\n",
       " 'aveseerstemor.',\n",
       " 'fation.',\n",
       " 'gs.',\n",
       " 'con.',\n",
       " 'c.',\n",
       " 'pan.',\n",
       " 'comumarmalem.',\n",
       " 'cl.',\n",
       " 'moncered.',\n",
       " 'b.',\n",
       " 'cen.',\n",
       " 's.',\n",
       " 'pl.',\n",
       " 'vim.',\n",
       " 'coramapplye.',\n",
       " 'sse.',\n",
       " 'erery.',\n",
       " 'hy.',\n",
       " 'rs.']"
      ]
     },
     "execution_count": 209,
     "metadata": {},
     "output_type": "execute_result"
    }
   ],
   "source": [
    "out"
   ]
  },
  {
   "cell_type": "code",
   "execution_count": 221,
   "metadata": {},
   "outputs": [],
   "source": [
    "P = count_tensor.float()\n",
    "P /= P.sum(1, keepdim=True)"
   ]
  },
  {
   "cell_type": "code",
   "execution_count": 222,
   "metadata": {},
   "outputs": [
    {
     "data": {
      "text/plain": [
       "['munided.',\n",
       " 'ppagat.',\n",
       " 'p.',\n",
       " 'ctay.',\n",
       " 'ecin.',\n",
       " 'fuitritoleras.',\n",
       " 'tet.',\n",
       " 'bs.',\n",
       " 'antauranileveackibininrwimer.',\n",
       " 's.',\n",
       " 'juinay.',\n",
       " 'arterinveumestfontume.',\n",
       " 'ponts.',\n",
       " 'walestequcore.',\n",
       " 'y.',\n",
       " 'engrerapated.',\n",
       " 'wedimouim.',\n",
       " 'ynin.',\n",
       " 'ag.',\n",
       " 'asntss.',\n",
       " 'imousushtdgos.',\n",
       " 'mptingict.',\n",
       " 'r.',\n",
       " 'pinfothotir.',\n",
       " 'somed.',\n",
       " 'ine.',\n",
       " 'fy.',\n",
       " 'p.',\n",
       " 'mmeaumemaludewitepphectrarr.',\n",
       " 'wenhuangrta.']"
      ]
     },
     "execution_count": 222,
     "metadata": {},
     "output_type": "execute_result"
    }
   ],
   "source": [
    "g = torch.Generator().manual_seed(2**31 -1)\n",
    "ix = 0\n",
    "\n",
    "out = []\n",
    "for i in range(30):\n",
    "    word = []\n",
    "    while True:\n",
    "        p = P[ix]\n",
    "        ix = torch.multinomial(p, num_samples=1, replacement=True, generator=g).item()\n",
    "        word.append(itos[ix])\n",
    "        if ix == 0:\n",
    "            break\n",
    "    out.append(\"\".join(word))\n",
    "out"
   ]
  }
 ],
 "metadata": {
  "kernelspec": {
   "display_name": "Python 3",
   "language": "python",
   "name": "python3"
  },
  "language_info": {
   "codemirror_mode": {
    "name": "ipython",
    "version": 3
   },
   "file_extension": ".py",
   "mimetype": "text/x-python",
   "name": "python",
   "nbconvert_exporter": "python",
   "pygments_lexer": "ipython3",
   "version": "3.10.10"
  },
  "orig_nbformat": 4
 },
 "nbformat": 4,
 "nbformat_minor": 2
}
