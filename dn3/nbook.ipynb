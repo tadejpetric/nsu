{
 "cells": [
  {
   "cell_type": "code",
   "execution_count": 1,
   "metadata": {},
   "outputs": [
    {
     "name": "stdout",
     "output_type": "stream",
     "text": [
      "Dimenzije G = (V, E): (|V|, |E|) = (16563, 228428)\n",
      "Vrste vozlišč v grafu: [':axiom', ':constructor', ':data', ':external', ':external-library', ':external-module', ':function', ':library', ':module', ':primitive', ':record', ':sort']\n",
      "Vrste povezav v grafu:\n",
      "    ('REFERENCE_BODY', {'w'})\n",
      "    ('REFERENCE_TYPE', {'w'})\n",
      "    ('REFERENCE_BODY_TO_WITH', {'w'})\n",
      "    ('REFERENCE_TYPE_TO_WITH', {'w'})\n",
      "    ('REFERENCE_BODY_TO_REWRITE', {'w'})\n",
      "    ('CONTAINS', set())\n",
      "    ('DEFINES', set())\n",
      "Tako je videti definicija kot drevo:\n",
      "Vozlice(tip=':definition'; opis=''; otroci=[\n",
      "  Vozlice(tip=':name'; opis='13537827747504913145 6 Agda Builtin Nat Nat'; otroci=[]),\n",
      "  Vozlice(tip=':type'; opis=''; otroci=[\n",
      "    Vozlice(tip=':sort'; opis=''; otroci=[\n",
      "      Vozlice(tip=':sort-set'; opis=''; otroci=[\n",
      "        Vozlice(tip=':max'; opis='1'; otroci=[])\n",
      "      ])\n",
      "    ]),\n",
      "    Vozlice(tip=':sort'; opis=''; otroci=[\n",
      "      Vozlice(tip=':sort'; opis=''; otroci=[\n",
      "        Vozlice(tip=':sort-set'; opis=''; otroci=[\n",
      "          Vozlice(tip=':max'; opis='0'; otroci=[])\n",
      "        ])\n",
      "      ])\n",
      "    ])\n",
      "  ]),\n",
      "  Vozlice(tip=':data'; opis=''; otroci=[\n",
      "    Vozlice(tip=':sort'; opis=''; otroci=[\n",
      "      Vozlice(tip=':sort-set'; opis=''; otroci=[\n",
      "        Vozlice(tip=':max'; opis='0'; otroci=[])\n",
      "      ])\n",
      "    ]),\n",
      "    Vozlice(tip=':name'; opis='13537827747504913145 8 Agda Builtin Nat Nat zero'; otroci=[]),\n",
      "    Vozlice(tip=':name'; opis='13537827747504913145 12 Agda Builtin Nat Nat suc'; otroci=[])\n",
      "  ])\n",
      "])\n",
      "Vrste vozlišč:\n",
      "    koren: :definition\n",
      "    koren.otroci[0]: :name\n",
      "    koren.otroci[1]: :type\n",
      "    Vse vrste iz izbrane definicije: [':data', ':definition', ':max', ':name', ':sort', ':sort-set', ':type']\n",
      "Nekaj testnih povezav:\n",
      "    (('3997333771427995137', '700', 'Data.Nat.DivMod.Core.divₕ-restart'), ('13537827747504913145', '12', 'Agda.Builtin.Nat.Nat.suc'), 'REFERENCE_BODY', 1)\n",
      "    (('3997333771427995137', '700', 'Data.Nat.DivMod.Core.divₕ-restart'), ('13537827747504913145', '6', 'Agda.Builtin.Nat.Nat'), 'REFERENCE_BODY', 1)\n",
      "    (('3997333771427995137', '700', 'Data.Nat.DivMod.Core.divₕ-restart'), ('13537827747504913145', '60', 'Agda.Builtin.Nat.div-helper'), 'REFERENCE_BODY', 1)\n",
      "    (('13903132187660731111', '300', 'Function.Properties.Inverse.↔⇒↣'), ('4960602078267699918', '128', 'Relation.Binary.Properties.TotalOrder.PosetProperties._<_'), 'REFERENCE_BODY', 0)\n",
      "    (('13903132187660731111', '300', 'Function.Properties.Inverse.↔⇒↣'), ('6486258310496689873', '4000', 'Data.Nat.Properties.-rewrite3998'), 'REFERENCE_BODY', 0)\n",
      "    (('13903132187660731111', '300', 'Function.Properties.Inverse.↔⇒↣'), ('5967047086362578321', '330', 'Reflection.AST.Term.var-injective₁'), 'REFERENCE_BODY', 0)\n",
      "Nekaj besedišča:\n",
      "    ! [0.0002, 0.0627, 0.042, 0.0399, -0.0105, ...]\n",
      "    ∄ [-0.0060999999999999995, 0.08085, 0.17925000000000002, -0.011049999999999999, 0.017599999999999998, ...]\n",
      "    \" [-0.6116, 0.0953, -0.043, -0.0733, 0.0979, ...]\n",
      "    # [-0.0073, 0.0522, -0.2329, -0.1201, 0.1763, ...]\n",
      "    $ [0.0715, 0.0331, 0.0414, 0.0034, -0.1387, ...]\n"
     ]
    }
   ],
   "source": [
    "from skripta_za_pomoc import *"
   ]
  },
  {
   "cell_type": "code",
   "execution_count": 4,
   "metadata": {},
   "outputs": [],
   "source": [
    "import os\n",
    "import numpy as np \n",
    "import pandas as pd \n",
    "from node2vec import Node2Vec\n",
    "from gensim.models import Word2Vec\n",
    "import networkx"
   ]
  },
  {
   "cell_type": "code",
   "execution_count": 12,
   "metadata": {},
   "outputs": [],
   "source": [
    "def details(*x):\n",
    "    return '_'.join(map(str, x))\n",
    "\n",
    "def get_embedding(graph, dimensions, walk_length, num_walks, p, q):\n",
    "    name = details(dimensions, walk_length, num_walks, p, q)\n",
    "    filename_model = f'node2vec_{name}.model'\n",
    "    filename_vector = f'node2vec_{name}.csv'\n",
    "\n",
    "    if not os.path.exists(filename_model):\n",
    "        n2v = Node2Vec(graph, dimensions, walk_length, num_walks, p, q, workers=10)\n",
    "        model = n2v.fit(window=2, min_count=1, batch_words=50)\n",
    "        model.wv.save_word2vec_format(filename_vector)\n",
    "        model.save(filename_model)\n",
    "    else:\n",
    "        model = Word2Vec.load(filename_model)\n",
    "    return model\n"
   ]
  },
  {
   "cell_type": "code",
   "execution_count": 13,
   "metadata": {},
   "outputs": [],
   "source": [
    "graph = G\n",
    "dimensions = 32\n",
    "walk_length = 10\n",
    "num_walks = 200\n",
    "p = 2\n",
    "q = 1"
   ]
  },
  {
   "cell_type": "code",
   "execution_count": 15,
   "metadata": {},
   "outputs": [],
   "source": [
    "model = get_embedding(graph, dimensions, walk_length, num_walks, p, q)"
   ]
  },
  {
   "cell_type": "code",
   "execution_count": 18,
   "metadata": {},
   "outputs": [
    {
     "ename": "TypeError",
     "evalue": "'Word2Vec' object is not subscriptable",
     "output_type": "error",
     "traceback": [
      "\u001b[0;31m---------------------------------------------------------------------------\u001b[0m",
      "\u001b[0;31mTypeError\u001b[0m                                 Traceback (most recent call last)",
      "Cell \u001b[0;32mIn[18], line 1\u001b[0m\n\u001b[0;32m----> 1\u001b[0m model[(\u001b[39m'\u001b[39;49m\u001b[39m13537827747504913145\u001b[39;49m\u001b[39m'\u001b[39;49m, \u001b[39m'\u001b[39;49m\u001b[39m6\u001b[39;49m\u001b[39m'\u001b[39;49m, \u001b[39m'\u001b[39;49m\u001b[39mAgda.Builtin.Nat.Nat\u001b[39;49m\u001b[39m'\u001b[39;49m)]\n",
      "\u001b[0;31mTypeError\u001b[0m: 'Word2Vec' object is not subscriptable"
     ]
    }
   ],
   "source": [
    "model[('13537827747504913145', '6', 'Agda.Builtin.Nat.Nat')]"
   ]
  }
 ],
 "metadata": {
  "kernelspec": {
   "display_name": "dn3",
   "language": "python",
   "name": "python3"
  },
  "language_info": {
   "codemirror_mode": {
    "name": "ipython",
    "version": 3
   },
   "file_extension": ".py",
   "mimetype": "text/x-python",
   "name": "python",
   "nbconvert_exporter": "python",
   "pygments_lexer": "ipython3",
   "version": "3.10.10"
  },
  "orig_nbformat": 4
 },
 "nbformat": 4,
 "nbformat_minor": 2
}
