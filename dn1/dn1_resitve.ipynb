{
 "cells": [
  {
   "cell_type": "code",
   "execution_count": 4,
   "metadata": {},
   "outputs": [],
   "source": [
    "import numpy as np\n",
    "import pandas as pd"
   ]
  },
  {
   "cell_type": "code",
   "execution_count": 5,
   "metadata": {},
   "outputs": [
    {
     "data": {
      "text/html": [
       "<div>\n",
       "<style scoped>\n",
       "    .dataframe tbody tr th:only-of-type {\n",
       "        vertical-align: middle;\n",
       "    }\n",
       "\n",
       "    .dataframe tbody tr th {\n",
       "        vertical-align: top;\n",
       "    }\n",
       "\n",
       "    .dataframe thead th {\n",
       "        text-align: right;\n",
       "    }\n",
       "</style>\n",
       "<table border=\"1\" class=\"dataframe\">\n",
       "  <thead>\n",
       "    <tr style=\"text-align: right;\">\n",
       "      <th></th>\n",
       "      <th>x1</th>\n",
       "      <th>x2</th>\n",
       "      <th>x3</th>\n",
       "      <th>x4</th>\n",
       "      <th>x5</th>\n",
       "      <th>x6</th>\n",
       "      <th>x7</th>\n",
       "      <th>x8</th>\n",
       "      <th>x9</th>\n",
       "      <th>x10</th>\n",
       "      <th>...</th>\n",
       "      <th>x22</th>\n",
       "      <th>x23</th>\n",
       "      <th>x24</th>\n",
       "      <th>x25</th>\n",
       "      <th>x26</th>\n",
       "      <th>x27</th>\n",
       "      <th>x28</th>\n",
       "      <th>x29</th>\n",
       "      <th>x30</th>\n",
       "      <th>y</th>\n",
       "    </tr>\n",
       "  </thead>\n",
       "  <tbody>\n",
       "    <tr>\n",
       "      <th>308</th>\n",
       "      <td>2.0</td>\n",
       "      <td>2.14</td>\n",
       "      <td>5.0</td>\n",
       "      <td>9.0</td>\n",
       "      <td>9.69</td>\n",
       "      <td>32.33</td>\n",
       "      <td>18.0</td>\n",
       "      <td>50.0</td>\n",
       "      <td>18.0</td>\n",
       "      <td>19.78</td>\n",
       "      <td>...</td>\n",
       "      <td>108.0</td>\n",
       "      <td>9589.04</td>\n",
       "      <td>541.27</td>\n",
       "      <td>534.61</td>\n",
       "      <td>2.20</td>\n",
       "      <td>4.0</td>\n",
       "      <td>4.0</td>\n",
       "      <td>4.0</td>\n",
       "      <td>7.0</td>\n",
       "      <td>teamEdward</td>\n",
       "    </tr>\n",
       "    <tr>\n",
       "      <th>545</th>\n",
       "      <td>2.0</td>\n",
       "      <td>2.50</td>\n",
       "      <td>2.0</td>\n",
       "      <td>3.0</td>\n",
       "      <td>2.00</td>\n",
       "      <td>19.43</td>\n",
       "      <td>6.0</td>\n",
       "      <td>7.0</td>\n",
       "      <td>5.0</td>\n",
       "      <td>4.00</td>\n",
       "      <td>...</td>\n",
       "      <td>13.0</td>\n",
       "      <td>71.74</td>\n",
       "      <td>36.87</td>\n",
       "      <td>5.87</td>\n",
       "      <td>3.00</td>\n",
       "      <td>2.0</td>\n",
       "      <td>2.0</td>\n",
       "      <td>2.0</td>\n",
       "      <td>3.0</td>\n",
       "      <td>teamEdward</td>\n",
       "    </tr>\n",
       "    <tr>\n",
       "      <th>902</th>\n",
       "      <td>2.0</td>\n",
       "      <td>2.23</td>\n",
       "      <td>7.0</td>\n",
       "      <td>13.0</td>\n",
       "      <td>20.52</td>\n",
       "      <td>19.69</td>\n",
       "      <td>22.0</td>\n",
       "      <td>46.0</td>\n",
       "      <td>20.0</td>\n",
       "      <td>35.08</td>\n",
       "      <td>...</td>\n",
       "      <td>118.0</td>\n",
       "      <td>19356.95</td>\n",
       "      <td>587.15</td>\n",
       "      <td>1077.28</td>\n",
       "      <td>2.20</td>\n",
       "      <td>10.0</td>\n",
       "      <td>4.0</td>\n",
       "      <td>10.0</td>\n",
       "      <td>3.0</td>\n",
       "      <td>teamEdward</td>\n",
       "    </tr>\n",
       "    <tr>\n",
       "      <th>52</th>\n",
       "      <td>2.0</td>\n",
       "      <td>3.00</td>\n",
       "      <td>2.0</td>\n",
       "      <td>2.0</td>\n",
       "      <td>2.00</td>\n",
       "      <td>8.20</td>\n",
       "      <td>7.0</td>\n",
       "      <td>3.0</td>\n",
       "      <td>3.0</td>\n",
       "      <td>4.50</td>\n",
       "      <td>...</td>\n",
       "      <td>8.0</td>\n",
       "      <td>40.77</td>\n",
       "      <td>17.51</td>\n",
       "      <td>4.15</td>\n",
       "      <td>3.00</td>\n",
       "      <td>2.0</td>\n",
       "      <td>2.0</td>\n",
       "      <td>2.0</td>\n",
       "      <td>3.0</td>\n",
       "      <td>teamEdward</td>\n",
       "    </tr>\n",
       "    <tr>\n",
       "      <th>186</th>\n",
       "      <td>2.0</td>\n",
       "      <td>2.29</td>\n",
       "      <td>2.0</td>\n",
       "      <td>4.0</td>\n",
       "      <td>2.00</td>\n",
       "      <td>25.76</td>\n",
       "      <td>17.0</td>\n",
       "      <td>19.0</td>\n",
       "      <td>18.0</td>\n",
       "      <td>21.00</td>\n",
       "      <td>...</td>\n",
       "      <td>94.0</td>\n",
       "      <td>8579.24</td>\n",
       "      <td>453.43</td>\n",
       "      <td>478.51</td>\n",
       "      <td>2.25</td>\n",
       "      <td>2.0</td>\n",
       "      <td>2.0</td>\n",
       "      <td>2.0</td>\n",
       "      <td>3.0</td>\n",
       "      <td>teamEdward</td>\n",
       "    </tr>\n",
       "    <tr>\n",
       "      <th>...</th>\n",
       "      <td>...</td>\n",
       "      <td>...</td>\n",
       "      <td>...</td>\n",
       "      <td>...</td>\n",
       "      <td>...</td>\n",
       "      <td>...</td>\n",
       "      <td>...</td>\n",
       "      <td>...</td>\n",
       "      <td>...</td>\n",
       "      <td>...</td>\n",
       "      <td>...</td>\n",
       "      <td>...</td>\n",
       "      <td>...</td>\n",
       "      <td>...</td>\n",
       "      <td>...</td>\n",
       "      <td>...</td>\n",
       "      <td>...</td>\n",
       "      <td>...</td>\n",
       "      <td>...</td>\n",
       "      <td>...</td>\n",
       "      <td>...</td>\n",
       "    </tr>\n",
       "    <tr>\n",
       "      <th>1033</th>\n",
       "      <td>4.0</td>\n",
       "      <td>2.10</td>\n",
       "      <td>4.0</td>\n",
       "      <td>7.0</td>\n",
       "      <td>14.90</td>\n",
       "      <td>33.25</td>\n",
       "      <td>16.0</td>\n",
       "      <td>40.0</td>\n",
       "      <td>13.0</td>\n",
       "      <td>18.00</td>\n",
       "      <td>...</td>\n",
       "      <td>106.0</td>\n",
       "      <td>8001.44</td>\n",
       "      <td>501.96</td>\n",
       "      <td>446.41</td>\n",
       "      <td>2.33</td>\n",
       "      <td>6.0</td>\n",
       "      <td>4.0</td>\n",
       "      <td>6.0</td>\n",
       "      <td>3.0</td>\n",
       "      <td>teamJacob</td>\n",
       "    </tr>\n",
       "    <tr>\n",
       "      <th>763</th>\n",
       "      <td>2.0</td>\n",
       "      <td>2.50</td>\n",
       "      <td>3.0</td>\n",
       "      <td>2.0</td>\n",
       "      <td>35.33</td>\n",
       "      <td>10.00</td>\n",
       "      <td>8.0</td>\n",
       "      <td>7.0</td>\n",
       "      <td>3.0</td>\n",
       "      <td>5.00</td>\n",
       "      <td>...</td>\n",
       "      <td>10.0</td>\n",
       "      <td>74.00</td>\n",
       "      <td>26.00</td>\n",
       "      <td>6.00</td>\n",
       "      <td>3.00</td>\n",
       "      <td>2.0</td>\n",
       "      <td>2.0</td>\n",
       "      <td>2.0</td>\n",
       "      <td>3.0</td>\n",
       "      <td>teamEdward</td>\n",
       "    </tr>\n",
       "    <tr>\n",
       "      <th>835</th>\n",
       "      <td>2.0</td>\n",
       "      <td>2.50</td>\n",
       "      <td>2.0</td>\n",
       "      <td>3.0</td>\n",
       "      <td>2.00</td>\n",
       "      <td>17.63</td>\n",
       "      <td>12.0</td>\n",
       "      <td>13.0</td>\n",
       "      <td>8.0</td>\n",
       "      <td>7.00</td>\n",
       "      <td>...</td>\n",
       "      <td>22.0</td>\n",
       "      <td>392.69</td>\n",
       "      <td>80.14</td>\n",
       "      <td>23.70</td>\n",
       "      <td>2.50</td>\n",
       "      <td>2.0</td>\n",
       "      <td>2.0</td>\n",
       "      <td>2.0</td>\n",
       "      <td>3.0</td>\n",
       "      <td>teamEdward</td>\n",
       "    </tr>\n",
       "    <tr>\n",
       "      <th>559</th>\n",
       "      <td>2.0</td>\n",
       "      <td>2.40</td>\n",
       "      <td>2.0</td>\n",
       "      <td>3.0</td>\n",
       "      <td>2.00</td>\n",
       "      <td>19.72</td>\n",
       "      <td>12.0</td>\n",
       "      <td>15.0</td>\n",
       "      <td>18.0</td>\n",
       "      <td>12.83</td>\n",
       "      <td>...</td>\n",
       "      <td>50.0</td>\n",
       "      <td>2082.00</td>\n",
       "      <td>194.00</td>\n",
       "      <td>117.56</td>\n",
       "      <td>2.25</td>\n",
       "      <td>2.0</td>\n",
       "      <td>2.0</td>\n",
       "      <td>2.0</td>\n",
       "      <td>5.0</td>\n",
       "      <td>teamEdward</td>\n",
       "    </tr>\n",
       "    <tr>\n",
       "      <th>684</th>\n",
       "      <td>6.0</td>\n",
       "      <td>2.18</td>\n",
       "      <td>2.0</td>\n",
       "      <td>3.0</td>\n",
       "      <td>38.36</td>\n",
       "      <td>25.19</td>\n",
       "      <td>12.0</td>\n",
       "      <td>20.0</td>\n",
       "      <td>8.0</td>\n",
       "      <td>11.09</td>\n",
       "      <td>...</td>\n",
       "      <td>50.0</td>\n",
       "      <td>1918.65</td>\n",
       "      <td>212.83</td>\n",
       "      <td>108.48</td>\n",
       "      <td>2.50</td>\n",
       "      <td>4.0</td>\n",
       "      <td>4.0</td>\n",
       "      <td>4.0</td>\n",
       "      <td>3.0</td>\n",
       "      <td>teamEdward</td>\n",
       "    </tr>\n",
       "  </tbody>\n",
       "</table>\n",
       "<p>1203 rows × 31 columns</p>\n",
       "</div>"
      ],
      "text/plain": [
       "       x1    x2   x3    x4     x5     x6    x7    x8    x9    x10  ...    x22  \\\n",
       "308   2.0  2.14  5.0   9.0   9.69  32.33  18.0  50.0  18.0  19.78  ...  108.0   \n",
       "545   2.0  2.50  2.0   3.0   2.00  19.43   6.0   7.0   5.0   4.00  ...   13.0   \n",
       "902   2.0  2.23  7.0  13.0  20.52  19.69  22.0  46.0  20.0  35.08  ...  118.0   \n",
       "52    2.0  3.00  2.0   2.0   2.00   8.20   7.0   3.0   3.0   4.50  ...    8.0   \n",
       "186   2.0  2.29  2.0   4.0   2.00  25.76  17.0  19.0  18.0  21.00  ...   94.0   \n",
       "...   ...   ...  ...   ...    ...    ...   ...   ...   ...    ...  ...    ...   \n",
       "1033  4.0  2.10  4.0   7.0  14.90  33.25  16.0  40.0  13.0  18.00  ...  106.0   \n",
       "763   2.0  2.50  3.0   2.0  35.33  10.00   8.0   7.0   3.0   5.00  ...   10.0   \n",
       "835   2.0  2.50  2.0   3.0   2.00  17.63  12.0  13.0   8.0   7.00  ...   22.0   \n",
       "559   2.0  2.40  2.0   3.0   2.00  19.72  12.0  15.0  18.0  12.83  ...   50.0   \n",
       "684   6.0  2.18  2.0   3.0  38.36  25.19  12.0  20.0   8.0  11.09  ...   50.0   \n",
       "\n",
       "           x23     x24      x25   x26   x27  x28   x29  x30           y  \n",
       "308    9589.04  541.27   534.61  2.20   4.0  4.0   4.0  7.0  teamEdward  \n",
       "545      71.74   36.87     5.87  3.00   2.0  2.0   2.0  3.0  teamEdward  \n",
       "902   19356.95  587.15  1077.28  2.20  10.0  4.0  10.0  3.0  teamEdward  \n",
       "52       40.77   17.51     4.15  3.00   2.0  2.0   2.0  3.0  teamEdward  \n",
       "186    8579.24  453.43   478.51  2.25   2.0  2.0   2.0  3.0  teamEdward  \n",
       "...        ...     ...      ...   ...   ...  ...   ...  ...         ...  \n",
       "1033   8001.44  501.96   446.41  2.33   6.0  4.0   6.0  3.0   teamJacob  \n",
       "763      74.00   26.00     6.00  3.00   2.0  2.0   2.0  3.0  teamEdward  \n",
       "835     392.69   80.14    23.70  2.50   2.0  2.0   2.0  3.0  teamEdward  \n",
       "559    2082.00  194.00   117.56  2.25   2.0  2.0   2.0  5.0  teamEdward  \n",
       "684    1918.65  212.83   108.48  2.50   4.0  4.0   4.0  3.0  teamEdward  \n",
       "\n",
       "[1203 rows x 31 columns]"
      ]
     },
     "metadata": {},
     "output_type": "display_data"
    }
   ],
   "source": [
    "df = pd.read_csv(\"podatki.csv\")\n",
    "np.random.seed(0)\n",
    "df = df.reindex(np.random.permutation(df.index))\n",
    "display(df)\n",
    "xs = df.drop([\"y\"], axis=1)\n",
    "ys = df[\"y\"]"
   ]
  },
  {
   "cell_type": "code",
   "execution_count": 6,
   "metadata": {},
   "outputs": [],
   "source": [
    "from sklearn.model_selection import train_test_split\n",
    "xtrain, xtest, ytrain, ytest = train_test_split(xs, ys, train_size=0.8)"
   ]
  },
  {
   "attachments": {},
   "cell_type": "markdown",
   "metadata": {},
   "source": [
    "# 1.1 Ročno\n",
    "We perform a train-test split and tune the parameters on the training dataset. We attempt using kNN method, neural networks, naive Bayes model, SVC and the random forest. We attempt to tune each manually to achieve the best cross validation score"
   ]
  },
  {
   "cell_type": "code",
   "execution_count": 7,
   "metadata": {},
   "outputs": [],
   "source": [
    "from sklearn.model_selection import cross_validate"
   ]
  },
  {
   "cell_type": "code",
   "execution_count": 8,
   "metadata": {},
   "outputs": [
    {
     "data": {
      "text/plain": [
       "0.8544689119170984"
      ]
     },
     "execution_count": 8,
     "metadata": {},
     "output_type": "execute_result"
    }
   ],
   "source": [
    "from sklearn.neighbors import KNeighborsClassifier\n",
    "knn = KNeighborsClassifier(n_neighbors=70)\n",
    "cross_validate(knn, xtrain, ytrain, cv=5)[\"test_score\"].mean()"
   ]
  },
  {
   "cell_type": "code",
   "execution_count": 9,
   "metadata": {},
   "outputs": [
    {
     "data": {
      "text/plain": [
       "0.8534272452504318"
      ]
     },
     "execution_count": 9,
     "metadata": {},
     "output_type": "execute_result"
    }
   ],
   "source": [
    "from sklearn.neural_network import MLPClassifier\n",
    "nn = MLPClassifier(hidden_layer_sizes=(50, 50), solver=\"sgd\", random_state=1)\n",
    "cross_validate(nn, xtrain, ytrain, cv=5)[\"test_score\"].mean()"
   ]
  },
  {
   "cell_type": "code",
   "execution_count": 10,
   "metadata": {},
   "outputs": [
    {
     "name": "stdout",
     "output_type": "stream",
     "text": [
      "0.8336949481865286\n",
      "0.8045768566493955\n"
     ]
    }
   ],
   "source": [
    "from sklearn.naive_bayes import GaussianNB, MultinomialNB\n",
    "\n",
    "nb = GaussianNB()\n",
    "mnb = MultinomialNB()\n",
    "print(cross_validate(nb, xtrain, ytrain, cv=5)[\"test_score\"].mean())\n",
    "print(cross_validate(mnb, xtrain, ytrain, cv=5)[\"test_score\"].mean())"
   ]
  },
  {
   "cell_type": "code",
   "execution_count": 11,
   "metadata": {},
   "outputs": [
    {
     "data": {
      "text/plain": [
       "0.85551597582038"
      ]
     },
     "execution_count": 11,
     "metadata": {},
     "output_type": "execute_result"
    }
   ],
   "source": [
    "from sklearn.svm import SVC\n",
    "svc = SVC(C=5)\n",
    "cross_validate(svc, xtrain, ytrain, cv=5)[\"test_score\"].mean()"
   ]
  },
  {
   "cell_type": "code",
   "execution_count": 12,
   "metadata": {},
   "outputs": [
    {
     "data": {
      "text/plain": [
       "0.8856973229706391"
      ]
     },
     "execution_count": 12,
     "metadata": {},
     "output_type": "execute_result"
    }
   ],
   "source": [
    "from sklearn.ensemble import RandomForestClassifier\n",
    "rfc = RandomForestClassifier(n_estimators=80,random_state=1)\n",
    "cross_validate(rfc, xtrain, ytrain, cv=5)[\"test_score\"].mean()"
   ]
  },
  {
   "attachments": {},
   "cell_type": "markdown",
   "metadata": {},
   "source": [
    "All results are relatively close, with the correct choice of hyperparameters. We observe the best results with RandomForestClassifier, SVC and kNN, however, the results are often within margin of error."
   ]
  },
  {
   "attachments": {},
   "cell_type": "markdown",
   "metadata": {},
   "source": [
    "# 1.2 Avtomatizirano"
   ]
  },
  {
   "cell_type": "code",
   "execution_count": 44,
   "metadata": {},
   "outputs": [],
   "source": [
    "from hyperopt import hp, tpe, fmin, Trials, space_eval\n",
    "\n",
    "gnezdeni_prostor = {\n",
    "    \"algo\": hp.choice(\"algo\", [\n",
    "    {\n",
    "        \"ime\": \"rfc\",\n",
    "        \"n_estimators\": hp.choice(\"n_estimators\", [16, 32, 64, 128, 256]),\n",
    "        'max_depth': hp.choice('max_depth', [2, 4, 8, 16, 32]),\n",
    "        \"criterion\": hp.choice(\"criterion\", [\"gini\", \"entropy\", \"log_loss\"]),\n",
    "        \"min_samples_split\": hp.qloguniform(\"min_samples_split\", 1, 8, 1)\n",
    "    },\n",
    "    {\n",
    "        \"ime\": \"svc\",\n",
    "        \"C\": hp.lognormal(\"C\", 0, 1),\n",
    "        \"shrinking\": hp.choice(\"shrinking\", [True, False]),\n",
    "        \"kernel\": hp.choice(\"kernel\", [\n",
    "#            {\n",
    "#                \"type\": \"poly\",\n",
    "#                \"gamma\": hp.lognormal(\"gamma1\", 1/30, 1),\n",
    "#                \"degree\": hp.choice(\"degree\", [2,3,4,5,6,8,12])\n",
    "#            },\n",
    "            {\n",
    "                \"type\": \"rbf\",\n",
    "                \"gamma\": hp.lognormal(\"gamma2\", 1/30, 1)\n",
    "            },\n",
    "            {\n",
    "                \"type\": \"sigmoid\",\n",
    "                \"gamma\": hp.lognormal(\"gamma3\", 1/30, 1)\n",
    "            },\n",
    "        ])\n",
    "    },\n",
    "    {\n",
    "        \"ime\": \"knn\",\n",
    "        \"n_neighbors\": hp.choice(\"n_neighbors\", [2,4,8,16,32,64, 128, 196, 256]),\n",
    "        \"weights\": hp.choice(\"weights\", [\"uniform\", \"distance\"]),\n",
    "        \"p\": hp.choice(\"p\", [1, 2, 3, 4]),\n",
    "    }])\n",
    "}"
   ]
  },
  {
   "cell_type": "code",
   "execution_count": 45,
   "metadata": {},
   "outputs": [],
   "source": [
    "def search_rfc(params):\n",
    "    return RandomForestClassifier(\n",
    "        n_estimators=int(params[\"n_estimators\"]),\n",
    "        criterion=params[\"criterion\"],\n",
    "        max_depth=params[\"max_depth\"],\n",
    "        min_samples_split=int(params[\"min_samples_split\"]+1),\n",
    "        random_state=1\n",
    "    )\n",
    "\n",
    "def search_svc(params):\n",
    "    C = params[\"C\"]\n",
    "    shrinking = params[\"shrinking\"]\n",
    "    if params[\"kernel\"][\"type\"] == \"poly\":\n",
    "        return SVC(C=C, kernel=\"poly\", gamma=params[\"kernel\"][\"gamma\"],\n",
    "                    degree=int(params[\"kernel\"][\"degree\"]), shrinking=shrinking)\n",
    "    if params[\"kernel\"][\"type\"] == \"rbf\":\n",
    "        return SVC(C=C, kernel=\"rbf\", gamma=params[\"kernel\"][\"gamma\"], shrinking=shrinking)\n",
    "    return SVC(C=C, shrinking=shrinking, kernel=\"sigmoid\", gamma=params[\"kernel\"][\"gamma\"])\n",
    "\n",
    "def search_knn(params):\n",
    "    return KNeighborsClassifier(n_neighbors=int(params[\"n_neighbors\"]), weights=params[\"weights\"], p=params[\"p\"])\n",
    "\n",
    "def algorithms(params):\n",
    "    x = params[\"algo\"]\n",
    "    name = x[\"ime\"]\n",
    "    model = None # Not needed due to python's scoping, polite.\n",
    "    if name == \"rfc\":\n",
    "        model = search_rfc(x)\n",
    "    elif name == \"knn\":\n",
    "        model = search_knn(x)\n",
    "    else:\n",
    "        model = search_svc(x)\n",
    "\n",
    "    return 1-cross_validate(model, xtrain, ytrain, cv=5)[\"test_score\"].mean()"
   ]
  },
  {
   "cell_type": "code",
   "execution_count": 46,
   "metadata": {},
   "outputs": [
    {
     "name": "stdout",
     "output_type": "stream",
     "text": [
      "100%|██████████| 500/500 [02:09<00:00,  3.86trial/s, best loss: 0.10078799654576864]\n"
     ]
    },
    {
     "data": {
      "text/plain": [
       "{'algo': {'criterion': 'gini',\n",
       "  'ime': 'rfc',\n",
       "  'max_depth': 8,\n",
       "  'min_samples_split': 12.0,\n",
       "  'n_estimators': 32}}"
      ]
     },
     "metadata": {},
     "output_type": "display_data"
    },
    {
     "data": {
      "text/plain": [
       "0.8992120034542314"
      ]
     },
     "metadata": {},
     "output_type": "display_data"
    }
   ],
   "source": [
    "trials = Trials()\n",
    "best = fmin(fn=algorithms,\n",
    "            space=gnezdeni_prostor,\n",
    "            algo=tpe.suggest,\n",
    "            max_evals=250,\n",
    "            trials=trials)\n",
    "best = space_eval(gnezdeni_prostor, best)\n",
    "best_value = algorithms(best)\n",
    "display(best, 1-best_value)"
   ]
  },
  {
   "attachments": {},
   "cell_type": "markdown",
   "metadata": {},
   "source": [
    "roc krivulja"
   ]
  }
 ],
 "metadata": {
  "kernelspec": {
   "display_name": "Python 3",
   "language": "python",
   "name": "python3"
  },
  "language_info": {
   "codemirror_mode": {
    "name": "ipython",
    "version": 3
   },
   "file_extension": ".py",
   "mimetype": "text/x-python",
   "name": "python",
   "nbconvert_exporter": "python",
   "pygments_lexer": "ipython3",
   "version": "3.10.10"
  },
  "orig_nbformat": 4
 },
 "nbformat": 4,
 "nbformat_minor": 2
}
