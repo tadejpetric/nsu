{
 "cells": [
  {
   "attachments": {},
   "cell_type": "markdown",
   "metadata": {},
   "source": [
    "# Odkrivanje enačb, 2. del: uporaba predznanja\n",
    "\n",
    "## 1. Verjetnostne gramatike in knjižnica ProGED\n",
    "1.1 Za odkrivanje enačb z verjetnostnimi gramatikami bomo uporabili knjižnico ProGED: https://github.com/brencej/ProGED.\n",
    "Instaliramo jo z ukazom \"pip install git+https://github.com/brencej/ProGED\". Če se pojavijo težave, ustvari sveže Pythonovo okolje in poskusi instalirati tja.\n",
    "\n",
    "Poglej si enostaven primer uporabe spodaj. Lahko se poigraš z različnimi nastavitvami in možnostmi. Celoten nabor modelov si lahko ogledaš v \"ED.models\". "
   ]
  },
  {
   "cell_type": "code",
   "execution_count": 2,
   "metadata": {},
   "outputs": [],
   "source": [
    "import numpy as np\n",
    "import pandas as pd\n",
    "\n",
    "import ProGED as pg\n",
    "\n",
    "from vajeED_2_podatki import *"
   ]
  },
  {
   "cell_type": "code",
   "execution_count": 3,
   "metadata": {},
   "outputs": [
    {
     "data": {
      "text/plain": [
       "ModelBox: 1 models\n",
       "-> [0.999999997446936*a*m], p = 0.00023040000000000002, parse trees = 1, valid = True, error = 9.851219776892273e-10, time = 0.18878436088562012"
      ]
     },
     "execution_count": 3,
     "metadata": {},
     "output_type": "execute_result"
    }
   ],
   "source": [
    "podatki = generiraj_newton(100)\n",
    "\n",
    "np.random.seed(1)\n",
    "ED = pg.EqDisco(data=podatki, \n",
    "                lhs_vars=[\"F\"],\n",
    "                rhs_vars=[\"m\", \"a\"],\n",
    "                sample_size=10)\n",
    "\n",
    "ED.generate_models()\n",
    "ED.fit_models()\n",
    "ED.get_results()"
   ]
  },
  {
   "attachments": {},
   "cell_type": "markdown",
   "metadata": {},
   "source": [
    "1.2 Prostor možnih enačb, ki ga želimo preiskovati, definiramo z verjetnostno kontekstno-neodvisno gramatiko. ProGED-u jo podamo v obliki stringa, zapisanega po pravilih knjižnice NLTK:\n",
    "\n",
    "- produkcijska pravila so oblike \"A -> B1 ... Bn [p]\", kjer je A neterminal, B1 ... Bn so terminali ali neterminali, p pa je verjetnost pravila\n",
    "- verjetnosti pravil z istim neterminalom na levi strani se morajo sešteti v 1\n",
    "- krajši zapis pravil z istim neterminalom na levi strani je \"A -> B1 ... Bn [p] | D1 ... Dn [q] | ... \" \n",
    "- terminalni simboli se označijo z enojnimi narekovaji, npr. \"A -> B 'x'\"\n",
    "- v ProGED-u je terminalni simbol \"C\" poseben - označuje numerične konstante, katerih vrednosti iščemo z optimizacijo\n",
    "\n",
    "Gramatika za linearne izraze dveh spremenljivk je\n",
    "\n",
    "E -> E + V | V  \n",
    "V -> 'x' | 'y'\n",
    "\n",
    "Uporabi to gramatiko za odkrivanje enačbe $y = x_1 + 3x_2$. Podatke lahko generiraš z \"generiraj_linearno\". Koraki:\n",
    "1. zapiši linearno gramatiko v formalizmu NLTK (ne pozabi da so tudi aritmetični operatorji terminalni simboli)\n",
    "2. naredi ProGED-ov objekt GeneratorGrammar, ki kot argument sprejme string iz točke 1\n",
    "3. gramatiko iz točke 2 podaj ProGED-ovemu EqDisco kot argument generator\n",
    "4. generiraj 15 naključnih izrazov z ED.generate_models in si jih oglej\n",
    "5. kliči še fit\\_models in get\\_results ter si oglej rezultate"
   ]
  },
  {
   "cell_type": "code",
   "execution_count": 21,
   "metadata": {},
   "outputs": [
    {
     "data": {
      "text/plain": [
       "ModelBox: 1 models\n",
       "-> [x1 + 3*x2], p = 0.00390625, parse trees = 35, valid = True, error = 0.0, time = 0"
      ]
     },
     "execution_count": 21,
     "metadata": {},
     "output_type": "execute_result"
    }
   ],
   "source": [
    "data = generiraj_linearno(100)\n",
    "gramatika = \"E -> E '+' V [0.5] | V [0.5]\\nV -> 'x1' [0.5]| 'x2' [0.5]\"\n",
    "generator = pg.GeneratorGrammar(gramatika)\n",
    "ED = pg.EqDisco(data=data, \n",
    "                lhs_vars=[\"y\"],\n",
    "                rhs_vars=[\"x1\", \"x2\"],\n",
    "                generator=generator,\n",
    "                sample_size=200)\n",
    "ED.generate_models()\n",
    "ED.fit_models()\n",
    "ED.get_results()\n",
    "# ED.models # izpise modele"
   ]
  },
  {
   "attachments": {},
   "cell_type": "markdown",
   "metadata": {},
   "source": [
    "Zdaj linearni gramatiki dodaj še numerično konstanto. Kako se spremenijo generirani modeli in rezultati?"
   ]
  },
  {
   "cell_type": "code",
   "execution_count": 24,
   "metadata": {},
   "outputs": [
    {
     "data": {
      "text/plain": [
       "ModelBox: 1 models\n",
       "-> [1.00000000688865*x1 + 2.99999999281037*x2], p = 0.0269317626953125, parse trees = 50, valid = True, error = 2.5529912472182994e-09, time = 0.667144775390625"
      ]
     },
     "execution_count": 24,
     "metadata": {},
     "output_type": "execute_result"
    }
   ],
   "source": [
    "gramatika2 = \"E -> E '+' V [0.5] | V [0.5]\\nV -> 'C' '*' 'x1' [0.5]| 'C' '*' 'x2' [0.5]\"\n",
    "generator2 = pg.GeneratorGrammar(gramatika2)\n",
    "ED = pg.EqDisco(data=data, \n",
    "                lhs_vars=[\"y\"],\n",
    "                rhs_vars=[\"x1\", \"x2\"],\n",
    "                generator=generator2,\n",
    "                sample_size=200)\n",
    "ED.generate_models()\n",
    "ED.fit_models()\n",
    "ED.get_results()"
   ]
  },
  {
   "attachments": {},
   "cell_type": "markdown",
   "metadata": {},
   "source": [
    "1.3. Napiši gramatiko, ki generira polinome, in jo uporabi za odkrivanje energijskega zakona. Verjetno bo potrebno zgenerirati nekaj sto modelov. Če bo imel ProGED težave z generiranjem toliko unikatnih izrazov, mu lahko daš več poskusov za generiranje z nastavitvijo \"strategy_settings = {\"max_repeat\":1000}.\" \n",
    "\n",
    "Na prejšnjih vajah smo videli, da je šum velik trn v peti odkrivanja enačb. Kako vpliva šum na odkrivanje enačb z verjetnostnimi gramatikami?"
   ]
  },
  {
   "cell_type": "code",
   "execution_count": 43,
   "metadata": {},
   "outputs": [
    {
     "ename": "KeyboardInterrupt",
     "evalue": "",
     "output_type": "error",
     "traceback": [
      "\u001b[0;31m---------------------------------------------------------------------------\u001b[0m",
      "\u001b[0;31mKeyError\u001b[0m                                  Traceback (most recent call last)",
      "File \u001b[0;32m~/programming/nsu/vaje10/.venv/lib/python3.10/site-packages/sympy/core/assumptions.py:499\u001b[0m, in \u001b[0;36mmake_property.<locals>.getit\u001b[0;34m(self)\u001b[0m\n\u001b[1;32m    498\u001b[0m \u001b[39mtry\u001b[39;00m:\n\u001b[0;32m--> 499\u001b[0m     \u001b[39mreturn\u001b[39;00m \u001b[39mself\u001b[39;49m\u001b[39m.\u001b[39;49m_assumptions[fact]\n\u001b[1;32m    500\u001b[0m \u001b[39mexcept\u001b[39;00m \u001b[39mKeyError\u001b[39;00m:\n",
      "\u001b[0;31mKeyError\u001b[0m: 'zero'",
      "\nDuring handling of the above exception, another exception occurred:\n",
      "\u001b[0;31mKeyboardInterrupt\u001b[0m                         Traceback (most recent call last)",
      "Cell \u001b[0;32mIn[43], line 11\u001b[0m\n\u001b[1;32m      4\u001b[0m ED \u001b[39m=\u001b[39m pg\u001b[39m.\u001b[39mEqDisco(data\u001b[39m=\u001b[39mdataez, \n\u001b[1;32m      5\u001b[0m                 lhs_vars\u001b[39m=\u001b[39m[\u001b[39m\"\u001b[39m\u001b[39mE\u001b[39m\u001b[39m\"\u001b[39m],\n\u001b[1;32m      6\u001b[0m                 rhs_vars\u001b[39m=\u001b[39m[\u001b[39m\"\u001b[39m\u001b[39mh\u001b[39m\u001b[39m\"\u001b[39m, \u001b[39m\"\u001b[39m\u001b[39mm\u001b[39m\u001b[39m\"\u001b[39m, \u001b[39m\"\u001b[39m\u001b[39mv\u001b[39m\u001b[39m\"\u001b[39m],\n\u001b[1;32m      7\u001b[0m                 generator\u001b[39m=\u001b[39mgenpoly,\n\u001b[1;32m      8\u001b[0m                 strategy_settings \u001b[39m=\u001b[39m {\u001b[39m\"\u001b[39m\u001b[39mmax_repeat\u001b[39m\u001b[39m\"\u001b[39m:\u001b[39m1000\u001b[39m},\n\u001b[1;32m      9\u001b[0m                 sample_size\u001b[39m=\u001b[39m\u001b[39m200\u001b[39m)\n\u001b[1;32m     10\u001b[0m ED\u001b[39m.\u001b[39mgenerate_models()\n\u001b[0;32m---> 11\u001b[0m ED\u001b[39m.\u001b[39;49mfit_models()\n\u001b[1;32m     12\u001b[0m ED\u001b[39m.\u001b[39mget_results()\n",
      "File \u001b[0;32m~/programming/nsu/vaje10/.venv/lib/python3.10/site-packages/ProGED/equation_discoverer.py:202\u001b[0m, in \u001b[0;36mEqDisco.fit_models\u001b[0;34m(self, settings, pool_map)\u001b[0m\n\u001b[1;32m    199\u001b[0m estimation_settings_preset \u001b[39m=\u001b[39m deepcopy(\u001b[39mself\u001b[39m\u001b[39m.\u001b[39mestimation_settings)\n\u001b[1;32m    200\u001b[0m estimation_settings_preset\u001b[39m.\u001b[39mupdate(settings)\n\u001b[0;32m--> 202\u001b[0m \u001b[39mself\u001b[39m\u001b[39m.\u001b[39mmodels \u001b[39m=\u001b[39m fit_models(\u001b[39mself\u001b[39;49m\u001b[39m.\u001b[39;49mmodels, \u001b[39mself\u001b[39;49m\u001b[39m.\u001b[39;49mtask\u001b[39m.\u001b[39;49mdata,\n\u001b[1;32m    203\u001b[0m                          pool_map\u001b[39m=\u001b[39;49mpool_map,\n\u001b[1;32m    204\u001b[0m                          settings\u001b[39m=\u001b[39;49mestimation_settings_preset)\n\u001b[1;32m    205\u001b[0m \u001b[39mreturn\u001b[39;00m \u001b[39mself\u001b[39m\u001b[39m.\u001b[39mmodels\n",
      "File \u001b[0;32m~/programming/nsu/vaje10/.venv/lib/python3.10/site-packages/ProGED/parameter_estimation.py:43\u001b[0m, in \u001b[0;36mfit_models\u001b[0;34m(models, data, settings, pool_map)\u001b[0m\n\u001b[1;32m     41\u001b[0m check_inputs(settings)\n\u001b[1;32m     42\u001b[0m estimator \u001b[39m=\u001b[39m Estimator(data\u001b[39m=\u001b[39mdata, settings\u001b[39m=\u001b[39msettings)\n\u001b[0;32m---> 43\u001b[0m fitted \u001b[39m=\u001b[39m \u001b[39mlist\u001b[39;49m(pool_map(estimator\u001b[39m.\u001b[39;49mfit_one, models\u001b[39m.\u001b[39;49mvalues()))\n\u001b[1;32m     44\u001b[0m \u001b[39mreturn\u001b[39;00m pg\u001b[39m.\u001b[39mModelBox(\u001b[39mdict\u001b[39m(\u001b[39mzip\u001b[39m(models\u001b[39m.\u001b[39mkeys(), fitted)))\n",
      "File \u001b[0;32m~/programming/nsu/vaje10/.venv/lib/python3.10/site-packages/ProGED/parameter_estimation.py:131\u001b[0m, in \u001b[0;36mEstimator.fit_one\u001b[0;34m(self, model)\u001b[0m\n\u001b[1;32m    129\u001b[0m         result[\u001b[39m'\u001b[39m\u001b[39mfun\u001b[39m\u001b[39m'\u001b[39m] \u001b[39m+\u001b[39m\u001b[39m=\u001b[39m result_split[\u001b[39m'\u001b[39m\u001b[39mfun\u001b[39m\u001b[39m'\u001b[39m]\n\u001b[1;32m    130\u001b[0m \u001b[39melse\u001b[39;00m:\n\u001b[0;32m--> 131\u001b[0m     result \u001b[39m=\u001b[39m optimizer(\u001b[39mself\u001b[39;49m, model)\n\u001b[1;32m    133\u001b[0m result[\u001b[39m\"\u001b[39m\u001b[39mduration\u001b[39m\u001b[39m\"\u001b[39m] \u001b[39m=\u001b[39m time\u001b[39m.\u001b[39mtime() \u001b[39m-\u001b[39m t1\n\u001b[1;32m    134\u001b[0m model\u001b[39m.\u001b[39mset_estimated(result)\n",
      "File \u001b[0;32m~/programming/nsu/vaje10/.venv/lib/python3.10/site-packages/ProGED/parameter_estimation.py:278\u001b[0m, in \u001b[0;36mlocal_fit\u001b[0;34m(estimator, model)\u001b[0m\n\u001b[1;32m    276\u001b[0m     \u001b[39mreturn\u001b[39;00m estimator\u001b[39m.\u001b[39msettings[\u001b[39m\"\u001b[39m\u001b[39mparameter_estimation\u001b[39m\u001b[39m\"\u001b[39m][\u001b[39m\"\u001b[39m\u001b[39mobjective_function\u001b[39m\u001b[39m\"\u001b[39m](params, model, estimator)\n\u001b[1;32m    277\u001b[0m bounds \u001b[39m=\u001b[39m estimator\u001b[39m.\u001b[39msettings[\u001b[39m\"\u001b[39m\u001b[39mparameter_estimation\u001b[39m\u001b[39m\"\u001b[39m][\u001b[39m\"\u001b[39m\u001b[39mparam_bounds\u001b[39m\u001b[39m\"\u001b[39m][\u001b[39m0\u001b[39m]\n\u001b[0;32m--> 278\u001b[0m output \u001b[39m=\u001b[39m sp_minimize(f, np\u001b[39m.\u001b[39;49mrandom\u001b[39m.\u001b[39;49muniform(bounds[\u001b[39m0\u001b[39;49m], bounds[\u001b[39m1\u001b[39;49m], size\u001b[39m=\u001b[39;49m\u001b[39mlen\u001b[39;49m(model\u001b[39m.\u001b[39;49mparams)))\n\u001b[1;32m    280\u001b[0m model\u001b[39m.\u001b[39mset_params(output\u001b[39m.\u001b[39mx, extra_params\u001b[39m=\u001b[39m\u001b[39mTrue\u001b[39;00m)\n\u001b[1;32m    281\u001b[0m model\u001b[39m.\u001b[39mset_initials(output\u001b[39m.\u001b[39mx, \u001b[39mdict\u001b[39m(estimator\u001b[39m.\u001b[39mdata\u001b[39m.\u001b[39miloc[\u001b[39m0\u001b[39m, :]))\n",
      "File \u001b[0;32m~/programming/nsu/vaje10/.venv/lib/python3.10/site-packages/scipy/optimize/_minimize.py:691\u001b[0m, in \u001b[0;36mminimize\u001b[0;34m(fun, x0, args, method, jac, hess, hessp, bounds, constraints, tol, callback, options)\u001b[0m\n\u001b[1;32m    689\u001b[0m     res \u001b[39m=\u001b[39m _minimize_cg(fun, x0, args, jac, callback, \u001b[39m*\u001b[39m\u001b[39m*\u001b[39moptions)\n\u001b[1;32m    690\u001b[0m \u001b[39melif\u001b[39;00m meth \u001b[39m==\u001b[39m \u001b[39m'\u001b[39m\u001b[39mbfgs\u001b[39m\u001b[39m'\u001b[39m:\n\u001b[0;32m--> 691\u001b[0m     res \u001b[39m=\u001b[39m _minimize_bfgs(fun, x0, args, jac, callback, \u001b[39m*\u001b[39;49m\u001b[39m*\u001b[39;49moptions)\n\u001b[1;32m    692\u001b[0m \u001b[39melif\u001b[39;00m meth \u001b[39m==\u001b[39m \u001b[39m'\u001b[39m\u001b[39mnewton-cg\u001b[39m\u001b[39m'\u001b[39m:\n\u001b[1;32m    693\u001b[0m     res \u001b[39m=\u001b[39m _minimize_newtoncg(fun, x0, args, jac, hess, hessp, callback,\n\u001b[1;32m    694\u001b[0m                              \u001b[39m*\u001b[39m\u001b[39m*\u001b[39moptions)\n",
      "File \u001b[0;32m~/programming/nsu/vaje10/.venv/lib/python3.10/site-packages/scipy/optimize/_optimize.py:1388\u001b[0m, in \u001b[0;36m_minimize_bfgs\u001b[0;34m(fun, x0, args, jac, callback, gtol, norm, eps, maxiter, disp, return_all, finite_diff_rel_step, xrtol, **unknown_options)\u001b[0m\n\u001b[1;32m   1385\u001b[0m pk \u001b[39m=\u001b[39m \u001b[39m-\u001b[39mnp\u001b[39m.\u001b[39mdot(Hk, gfk)\n\u001b[1;32m   1386\u001b[0m \u001b[39mtry\u001b[39;00m:\n\u001b[1;32m   1387\u001b[0m     alpha_k, fc, gc, old_fval, old_old_fval, gfkp1 \u001b[39m=\u001b[39m \\\n\u001b[0;32m-> 1388\u001b[0m              _line_search_wolfe12(f, myfprime, xk, pk, gfk,\n\u001b[1;32m   1389\u001b[0m                                   old_fval, old_old_fval, amin\u001b[39m=\u001b[39;49m\u001b[39m1e-100\u001b[39;49m, amax\u001b[39m=\u001b[39;49m\u001b[39m1e100\u001b[39;49m)\n\u001b[1;32m   1390\u001b[0m \u001b[39mexcept\u001b[39;00m _LineSearchError:\n\u001b[1;32m   1391\u001b[0m     \u001b[39m# Line search failed to find a better solution.\u001b[39;00m\n\u001b[1;32m   1392\u001b[0m     warnflag \u001b[39m=\u001b[39m \u001b[39m2\u001b[39m\n",
      "File \u001b[0;32m~/programming/nsu/vaje10/.venv/lib/python3.10/site-packages/scipy/optimize/_optimize.py:1160\u001b[0m, in \u001b[0;36m_line_search_wolfe12\u001b[0;34m(f, fprime, xk, pk, gfk, old_fval, old_old_fval, **kwargs)\u001b[0m\n\u001b[1;32m   1146\u001b[0m \u001b[39m\u001b[39m\u001b[39m\"\"\"\u001b[39;00m\n\u001b[1;32m   1147\u001b[0m \u001b[39mSame as line_search_wolfe1, but fall back to line_search_wolfe2 if\u001b[39;00m\n\u001b[1;32m   1148\u001b[0m \u001b[39msuitable step length is not found, and raise an exception if a\u001b[39;00m\n\u001b[0;32m   (...)\u001b[0m\n\u001b[1;32m   1155\u001b[0m \n\u001b[1;32m   1156\u001b[0m \u001b[39m\"\"\"\u001b[39;00m\n\u001b[1;32m   1158\u001b[0m extra_condition \u001b[39m=\u001b[39m kwargs\u001b[39m.\u001b[39mpop(\u001b[39m'\u001b[39m\u001b[39mextra_condition\u001b[39m\u001b[39m'\u001b[39m, \u001b[39mNone\u001b[39;00m)\n\u001b[0;32m-> 1160\u001b[0m ret \u001b[39m=\u001b[39m line_search_wolfe1(f, fprime, xk, pk, gfk,\n\u001b[1;32m   1161\u001b[0m                          old_fval, old_old_fval,\n\u001b[1;32m   1162\u001b[0m                          \u001b[39m*\u001b[39;49m\u001b[39m*\u001b[39;49mkwargs)\n\u001b[1;32m   1164\u001b[0m \u001b[39mif\u001b[39;00m ret[\u001b[39m0\u001b[39m] \u001b[39mis\u001b[39;00m \u001b[39mnot\u001b[39;00m \u001b[39mNone\u001b[39;00m \u001b[39mand\u001b[39;00m extra_condition \u001b[39mis\u001b[39;00m \u001b[39mnot\u001b[39;00m \u001b[39mNone\u001b[39;00m:\n\u001b[1;32m   1165\u001b[0m     xp1 \u001b[39m=\u001b[39m xk \u001b[39m+\u001b[39m ret[\u001b[39m0\u001b[39m] \u001b[39m*\u001b[39m pk\n",
      "File \u001b[0;32m~/programming/nsu/vaje10/.venv/lib/python3.10/site-packages/scipy/optimize/_linesearch.py:84\u001b[0m, in \u001b[0;36mline_search_wolfe1\u001b[0;34m(f, fprime, xk, pk, gfk, old_fval, old_old_fval, args, c1, c2, amax, amin, xtol)\u001b[0m\n\u001b[1;32m     80\u001b[0m     \u001b[39mreturn\u001b[39;00m np\u001b[39m.\u001b[39mdot(gval[\u001b[39m0\u001b[39m], pk)\n\u001b[1;32m     82\u001b[0m derphi0 \u001b[39m=\u001b[39m np\u001b[39m.\u001b[39mdot(gfk, pk)\n\u001b[0;32m---> 84\u001b[0m stp, fval, old_fval \u001b[39m=\u001b[39m scalar_search_wolfe1(\n\u001b[1;32m     85\u001b[0m         phi, derphi, old_fval, old_old_fval, derphi0,\n\u001b[1;32m     86\u001b[0m         c1\u001b[39m=\u001b[39;49mc1, c2\u001b[39m=\u001b[39;49mc2, amax\u001b[39m=\u001b[39;49mamax, amin\u001b[39m=\u001b[39;49mamin, xtol\u001b[39m=\u001b[39;49mxtol)\n\u001b[1;32m     88\u001b[0m \u001b[39mreturn\u001b[39;00m stp, fc[\u001b[39m0\u001b[39m], gc[\u001b[39m0\u001b[39m], fval, old_fval, gval[\u001b[39m0\u001b[39m]\n",
      "File \u001b[0;32m~/programming/nsu/vaje10/.venv/lib/python3.10/site-packages/scipy/optimize/_linesearch.py:160\u001b[0m, in \u001b[0;36mscalar_search_wolfe1\u001b[0;34m(phi, derphi, phi0, old_phi0, derphi0, c1, c2, amax, amin, xtol)\u001b[0m\n\u001b[1;32m    158\u001b[0m \u001b[39mif\u001b[39;00m task[:\u001b[39m2\u001b[39m] \u001b[39m==\u001b[39m \u001b[39mb\u001b[39m\u001b[39m'\u001b[39m\u001b[39mFG\u001b[39m\u001b[39m'\u001b[39m:\n\u001b[1;32m    159\u001b[0m     alpha1 \u001b[39m=\u001b[39m stp\n\u001b[0;32m--> 160\u001b[0m     phi1 \u001b[39m=\u001b[39m phi(stp)\n\u001b[1;32m    161\u001b[0m     derphi1 \u001b[39m=\u001b[39m derphi(stp)\n\u001b[1;32m    162\u001b[0m \u001b[39melse\u001b[39;00m:\n",
      "File \u001b[0;32m~/programming/nsu/vaje10/.venv/lib/python3.10/site-packages/scipy/optimize/_linesearch.py:75\u001b[0m, in \u001b[0;36mline_search_wolfe1.<locals>.phi\u001b[0;34m(s)\u001b[0m\n\u001b[1;32m     73\u001b[0m \u001b[39mdef\u001b[39;00m \u001b[39mphi\u001b[39m(s):\n\u001b[1;32m     74\u001b[0m     fc[\u001b[39m0\u001b[39m] \u001b[39m+\u001b[39m\u001b[39m=\u001b[39m \u001b[39m1\u001b[39m\n\u001b[0;32m---> 75\u001b[0m     \u001b[39mreturn\u001b[39;00m f(xk \u001b[39m+\u001b[39;49m s\u001b[39m*\u001b[39;49mpk, \u001b[39m*\u001b[39;49margs)\n",
      "File \u001b[0;32m~/programming/nsu/vaje10/.venv/lib/python3.10/site-packages/scipy/optimize/_differentiable_functions.py:267\u001b[0m, in \u001b[0;36mScalarFunction.fun\u001b[0;34m(self, x)\u001b[0m\n\u001b[1;32m    265\u001b[0m \u001b[39mif\u001b[39;00m \u001b[39mnot\u001b[39;00m np\u001b[39m.\u001b[39marray_equal(x, \u001b[39mself\u001b[39m\u001b[39m.\u001b[39mx):\n\u001b[1;32m    266\u001b[0m     \u001b[39mself\u001b[39m\u001b[39m.\u001b[39m_update_x_impl(x)\n\u001b[0;32m--> 267\u001b[0m \u001b[39mself\u001b[39;49m\u001b[39m.\u001b[39;49m_update_fun()\n\u001b[1;32m    268\u001b[0m \u001b[39mreturn\u001b[39;00m \u001b[39mself\u001b[39m\u001b[39m.\u001b[39mf\n",
      "File \u001b[0;32m~/programming/nsu/vaje10/.venv/lib/python3.10/site-packages/scipy/optimize/_differentiable_functions.py:251\u001b[0m, in \u001b[0;36mScalarFunction._update_fun\u001b[0;34m(self)\u001b[0m\n\u001b[1;32m    249\u001b[0m \u001b[39mdef\u001b[39;00m \u001b[39m_update_fun\u001b[39m(\u001b[39mself\u001b[39m):\n\u001b[1;32m    250\u001b[0m     \u001b[39mif\u001b[39;00m \u001b[39mnot\u001b[39;00m \u001b[39mself\u001b[39m\u001b[39m.\u001b[39mf_updated:\n\u001b[0;32m--> 251\u001b[0m         \u001b[39mself\u001b[39;49m\u001b[39m.\u001b[39;49m_update_fun_impl()\n\u001b[1;32m    252\u001b[0m         \u001b[39mself\u001b[39m\u001b[39m.\u001b[39mf_updated \u001b[39m=\u001b[39m \u001b[39mTrue\u001b[39;00m\n",
      "File \u001b[0;32m~/programming/nsu/vaje10/.venv/lib/python3.10/site-packages/scipy/optimize/_differentiable_functions.py:155\u001b[0m, in \u001b[0;36mScalarFunction.__init__.<locals>.update_fun\u001b[0;34m()\u001b[0m\n\u001b[1;32m    154\u001b[0m \u001b[39mdef\u001b[39;00m \u001b[39mupdate_fun\u001b[39m():\n\u001b[0;32m--> 155\u001b[0m     \u001b[39mself\u001b[39m\u001b[39m.\u001b[39mf \u001b[39m=\u001b[39m fun_wrapped(\u001b[39mself\u001b[39;49m\u001b[39m.\u001b[39;49mx)\n",
      "File \u001b[0;32m~/programming/nsu/vaje10/.venv/lib/python3.10/site-packages/scipy/optimize/_differentiable_functions.py:137\u001b[0m, in \u001b[0;36mScalarFunction.__init__.<locals>.fun_wrapped\u001b[0;34m(x)\u001b[0m\n\u001b[1;32m    133\u001b[0m \u001b[39mself\u001b[39m\u001b[39m.\u001b[39mnfev \u001b[39m+\u001b[39m\u001b[39m=\u001b[39m \u001b[39m1\u001b[39m\n\u001b[1;32m    134\u001b[0m \u001b[39m# Send a copy because the user may overwrite it.\u001b[39;00m\n\u001b[1;32m    135\u001b[0m \u001b[39m# Overwriting results in undefined behaviour because\u001b[39;00m\n\u001b[1;32m    136\u001b[0m \u001b[39m# fun(self.x) will change self.x, with the two no longer linked.\u001b[39;00m\n\u001b[0;32m--> 137\u001b[0m fx \u001b[39m=\u001b[39m fun(np\u001b[39m.\u001b[39;49mcopy(x), \u001b[39m*\u001b[39;49margs)\n\u001b[1;32m    138\u001b[0m \u001b[39m# Make sure the function returns a true scalar\u001b[39;00m\n\u001b[1;32m    139\u001b[0m \u001b[39mif\u001b[39;00m \u001b[39mnot\u001b[39;00m np\u001b[39m.\u001b[39misscalar(fx):\n",
      "File \u001b[0;32m~/programming/nsu/vaje10/.venv/lib/python3.10/site-packages/ProGED/parameter_estimation.py:276\u001b[0m, in \u001b[0;36mlocal_fit.<locals>.f\u001b[0;34m(params)\u001b[0m\n\u001b[1;32m    275\u001b[0m \u001b[39mdef\u001b[39;00m \u001b[39mf\u001b[39m(params):\n\u001b[0;32m--> 276\u001b[0m     \u001b[39mreturn\u001b[39;00m estimator\u001b[39m.\u001b[39;49msettings[\u001b[39m\"\u001b[39;49m\u001b[39mparameter_estimation\u001b[39;49m\u001b[39m\"\u001b[39;49m][\u001b[39m\"\u001b[39;49m\u001b[39mobjective_function\u001b[39;49m\u001b[39m\"\u001b[39;49m](params, model, estimator)\n",
      "File \u001b[0;32m~/programming/nsu/vaje10/.venv/lib/python3.10/site-packages/ProGED/parameter_estimation.py:308\u001b[0m, in \u001b[0;36mobjective_algebraic\u001b[0;34m(params, model, estimator)\u001b[0m\n\u001b[1;32m    305\u001b[0m Y \u001b[39m=\u001b[39m np\u001b[39m.\u001b[39marray(estimator\u001b[39m.\u001b[39mdata[model\u001b[39m.\u001b[39mlhs_vars])\n\u001b[1;32m    307\u001b[0m \u001b[39m# estimate the model and calculate the error\u001b[39;00m\n\u001b[0;32m--> 308\u001b[0m Y_hat \u001b[39m=\u001b[39m model\u001b[39m.\u001b[39;49mevaluate(X)\n\u001b[1;32m    309\u001b[0m error \u001b[39m=\u001b[39m np\u001b[39m.\u001b[39msqrt(np\u001b[39m.\u001b[39mmean((Y \u001b[39m-\u001b[39m Y_hat) \u001b[39m*\u001b[39m\u001b[39m*\u001b[39m \u001b[39m2\u001b[39m))\n\u001b[1;32m    311\u001b[0m \u001b[39mif\u001b[39;00m np\u001b[39m.\u001b[39misnan(error) \u001b[39mor\u001b[39;00m np\u001b[39m.\u001b[39misinf(error) \u001b[39mor\u001b[39;00m \u001b[39mnot\u001b[39;00m np\u001b[39m.\u001b[39misreal(error):\n",
      "File \u001b[0;32m~/programming/nsu/vaje10/.venv/lib/python3.10/site-packages/ProGED/model.py:256\u001b[0m, in \u001b[0;36mModel.evaluate\u001b[0;34m(self, data_points, params)\u001b[0m\n\u001b[1;32m    253\u001b[0m \u001b[39mif\u001b[39;00m \u001b[39mnot\u001b[39;00m params:\n\u001b[1;32m    254\u001b[0m     params \u001b[39m=\u001b[39m \u001b[39mself\u001b[39m\u001b[39m.\u001b[39mparams\n\u001b[0;32m--> 256\u001b[0m lamb_expr \u001b[39m=\u001b[39m \u001b[39mself\u001b[39;49m\u001b[39m.\u001b[39;49mlambdify(params)\n\u001b[1;32m    258\u001b[0m \u001b[39m# tranform data_points to numpy array if it is in dataframe\u001b[39;00m\n\u001b[1;32m    259\u001b[0m \u001b[39mif\u001b[39;00m \u001b[39misinstance\u001b[39m(data_points, pd\u001b[39m.\u001b[39mDataFrame):\n",
      "File \u001b[0;32m~/programming/nsu/vaje10/.venv/lib/python3.10/site-packages/ProGED/model.py:222\u001b[0m, in \u001b[0;36mModel.lambdify\u001b[0;34m(self, params, arg, add_time, list)\u001b[0m\n\u001b[1;32m    220\u001b[0m \u001b[39mif\u001b[39;00m \u001b[39mnot\u001b[39;00m params:\n\u001b[1;32m    221\u001b[0m     params \u001b[39m=\u001b[39m \u001b[39mself\u001b[39m\u001b[39m.\u001b[39mparams\n\u001b[0;32m--> 222\u001b[0m fullexprs \u001b[39m=\u001b[39m \u001b[39mself\u001b[39;49m\u001b[39m.\u001b[39;49mfull_expr(params)\n\u001b[1;32m    224\u001b[0m \u001b[39mif\u001b[39;00m add_time:\n\u001b[1;32m    225\u001b[0m     \u001b[39m# lambdas = [sp.lambdify([sp.symbols(\"t\")] + self.rhs_vars, full_expr, arg) for full_expr in fullexprs]  # currently testing with sym_vars\u001b[39;00m\n\u001b[1;32m    226\u001b[0m     \u001b[39m# lambdas = [sp.lambdify([sp.symbols(\"t\")] + self.sym_vars, full_expr, arg) for full_expr in fullexprs]\u001b[39;00m\n\u001b[1;32m    227\u001b[0m     lambdas \u001b[39m=\u001b[39m [sp\u001b[39m.\u001b[39mlambdify([\u001b[39m\"\u001b[39m\u001b[39mt\u001b[39m\u001b[39m\"\u001b[39m] \u001b[39m+\u001b[39m \u001b[39mself\u001b[39m\u001b[39m.\u001b[39mlhs_vars \u001b[39m+\u001b[39m \u001b[39mself\u001b[39m\u001b[39m.\u001b[39mextra_vars, full_expr, arg) \u001b[39mfor\u001b[39;00m full_expr \u001b[39min\u001b[39;00m fullexprs]\n",
      "File \u001b[0;32m~/programming/nsu/vaje10/.venv/lib/python3.10/site-packages/ProGED/model.py:280\u001b[0m, in \u001b[0;36mModel.full_expr\u001b[0;34m(self, params)\u001b[0m\n\u001b[1;32m    278\u001b[0m fullexprs \u001b[39m=\u001b[39m []\n\u001b[1;32m    279\u001b[0m \u001b[39mfor\u001b[39;00m i, ex \u001b[39min\u001b[39;00m \u001b[39menumerate\u001b[39m(\u001b[39mself\u001b[39m\u001b[39m.\u001b[39mexpr):\n\u001b[0;32m--> 280\u001b[0m     fullexprs \u001b[39m+\u001b[39m\u001b[39m=\u001b[39m [ex\u001b[39m.\u001b[39;49msubs(\u001b[39mlist\u001b[39;49m(\u001b[39mzip\u001b[39;49m(params\u001b[39m.\u001b[39;49mkeys(), params\u001b[39m.\u001b[39;49mvalues())))]\n\u001b[1;32m    282\u001b[0m \u001b[39mreturn\u001b[39;00m fullexprs\n",
      "File \u001b[0;32m~/programming/nsu/vaje10/.venv/lib/python3.10/site-packages/sympy/core/basic.py:1040\u001b[0m, in \u001b[0;36mBasic.subs\u001b[0;34m(self, *args, **kwargs)\u001b[0m\n\u001b[1;32m   1038\u001b[0m rv \u001b[39m=\u001b[39m \u001b[39mself\u001b[39m\n\u001b[1;32m   1039\u001b[0m \u001b[39mfor\u001b[39;00m old, new \u001b[39min\u001b[39;00m sequence:\n\u001b[0;32m-> 1040\u001b[0m     rv \u001b[39m=\u001b[39m rv\u001b[39m.\u001b[39;49m_subs(old, new, \u001b[39m*\u001b[39;49m\u001b[39m*\u001b[39;49mkwargs)\n\u001b[1;32m   1041\u001b[0m     \u001b[39mif\u001b[39;00m \u001b[39mnot\u001b[39;00m \u001b[39misinstance\u001b[39m(rv, Basic):\n\u001b[1;32m   1042\u001b[0m         \u001b[39mbreak\u001b[39;00m\n",
      "File \u001b[0;32m~/programming/nsu/vaje10/.venv/lib/python3.10/site-packages/sympy/core/cache.py:72\u001b[0m, in \u001b[0;36m__cacheit.<locals>.func_wrapper.<locals>.wrapper\u001b[0;34m(*args, **kwargs)\u001b[0m\n\u001b[1;32m     69\u001b[0m \u001b[39m@wraps\u001b[39m(func)\n\u001b[1;32m     70\u001b[0m \u001b[39mdef\u001b[39;00m \u001b[39mwrapper\u001b[39m(\u001b[39m*\u001b[39margs, \u001b[39m*\u001b[39m\u001b[39m*\u001b[39mkwargs):\n\u001b[1;32m     71\u001b[0m     \u001b[39mtry\u001b[39;00m:\n\u001b[0;32m---> 72\u001b[0m         retval \u001b[39m=\u001b[39m cfunc(\u001b[39m*\u001b[39;49margs, \u001b[39m*\u001b[39;49m\u001b[39m*\u001b[39;49mkwargs)\n\u001b[1;32m     73\u001b[0m     \u001b[39mexcept\u001b[39;00m \u001b[39mTypeError\u001b[39;00m \u001b[39mas\u001b[39;00m e:\n\u001b[1;32m     74\u001b[0m         \u001b[39mif\u001b[39;00m \u001b[39mnot\u001b[39;00m e\u001b[39m.\u001b[39margs \u001b[39mor\u001b[39;00m \u001b[39mnot\u001b[39;00m e\u001b[39m.\u001b[39margs[\u001b[39m0\u001b[39m]\u001b[39m.\u001b[39mstartswith(\u001b[39m'\u001b[39m\u001b[39munhashable type:\u001b[39m\u001b[39m'\u001b[39m):\n",
      "File \u001b[0;32m~/programming/nsu/vaje10/.venv/lib/python3.10/site-packages/sympy/core/basic.py:1154\u001b[0m, in \u001b[0;36mBasic._subs\u001b[0;34m(self, old, new, **hints)\u001b[0m\n\u001b[1;32m   1152\u001b[0m rv \u001b[39m=\u001b[39m \u001b[39mself\u001b[39m\u001b[39m.\u001b[39m_eval_subs(old, new)\n\u001b[1;32m   1153\u001b[0m \u001b[39mif\u001b[39;00m rv \u001b[39mis\u001b[39;00m \u001b[39mNone\u001b[39;00m:\n\u001b[0;32m-> 1154\u001b[0m     rv \u001b[39m=\u001b[39m fallback(\u001b[39mself\u001b[39;49m, old, new)\n\u001b[1;32m   1155\u001b[0m \u001b[39mreturn\u001b[39;00m rv\n",
      "File \u001b[0;32m~/programming/nsu/vaje10/.venv/lib/python3.10/site-packages/sympy/core/basic.py:1126\u001b[0m, in \u001b[0;36mBasic._subs.<locals>.fallback\u001b[0;34m(self, old, new)\u001b[0m\n\u001b[1;32m   1124\u001b[0m \u001b[39mif\u001b[39;00m \u001b[39mnot\u001b[39;00m \u001b[39mhasattr\u001b[39m(arg, \u001b[39m'\u001b[39m\u001b[39m_eval_subs\u001b[39m\u001b[39m'\u001b[39m):\n\u001b[1;32m   1125\u001b[0m     \u001b[39mcontinue\u001b[39;00m\n\u001b[0;32m-> 1126\u001b[0m arg \u001b[39m=\u001b[39m arg\u001b[39m.\u001b[39;49m_subs(old, new, \u001b[39m*\u001b[39;49m\u001b[39m*\u001b[39;49mhints)\n\u001b[1;32m   1127\u001b[0m \u001b[39mif\u001b[39;00m \u001b[39mnot\u001b[39;00m _aresame(arg, args[i]):\n\u001b[1;32m   1128\u001b[0m     hit \u001b[39m=\u001b[39m \u001b[39mTrue\u001b[39;00m\n",
      "File \u001b[0;32m~/programming/nsu/vaje10/.venv/lib/python3.10/site-packages/sympy/core/cache.py:72\u001b[0m, in \u001b[0;36m__cacheit.<locals>.func_wrapper.<locals>.wrapper\u001b[0;34m(*args, **kwargs)\u001b[0m\n\u001b[1;32m     69\u001b[0m \u001b[39m@wraps\u001b[39m(func)\n\u001b[1;32m     70\u001b[0m \u001b[39mdef\u001b[39;00m \u001b[39mwrapper\u001b[39m(\u001b[39m*\u001b[39margs, \u001b[39m*\u001b[39m\u001b[39m*\u001b[39mkwargs):\n\u001b[1;32m     71\u001b[0m     \u001b[39mtry\u001b[39;00m:\n\u001b[0;32m---> 72\u001b[0m         retval \u001b[39m=\u001b[39m cfunc(\u001b[39m*\u001b[39;49margs, \u001b[39m*\u001b[39;49m\u001b[39m*\u001b[39;49mkwargs)\n\u001b[1;32m     73\u001b[0m     \u001b[39mexcept\u001b[39;00m \u001b[39mTypeError\u001b[39;00m \u001b[39mas\u001b[39;00m e:\n\u001b[1;32m     74\u001b[0m         \u001b[39mif\u001b[39;00m \u001b[39mnot\u001b[39;00m e\u001b[39m.\u001b[39margs \u001b[39mor\u001b[39;00m \u001b[39mnot\u001b[39;00m e\u001b[39m.\u001b[39margs[\u001b[39m0\u001b[39m]\u001b[39m.\u001b[39mstartswith(\u001b[39m'\u001b[39m\u001b[39munhashable type:\u001b[39m\u001b[39m'\u001b[39m):\n",
      "File \u001b[0;32m~/programming/nsu/vaje10/.venv/lib/python3.10/site-packages/sympy/core/basic.py:1154\u001b[0m, in \u001b[0;36mBasic._subs\u001b[0;34m(self, old, new, **hints)\u001b[0m\n\u001b[1;32m   1152\u001b[0m rv \u001b[39m=\u001b[39m \u001b[39mself\u001b[39m\u001b[39m.\u001b[39m_eval_subs(old, new)\n\u001b[1;32m   1153\u001b[0m \u001b[39mif\u001b[39;00m rv \u001b[39mis\u001b[39;00m \u001b[39mNone\u001b[39;00m:\n\u001b[0;32m-> 1154\u001b[0m     rv \u001b[39m=\u001b[39m fallback(\u001b[39mself\u001b[39;49m, old, new)\n\u001b[1;32m   1155\u001b[0m \u001b[39mreturn\u001b[39;00m rv\n",
      "File \u001b[0;32m~/programming/nsu/vaje10/.venv/lib/python3.10/site-packages/sympy/core/basic.py:1131\u001b[0m, in \u001b[0;36mBasic._subs.<locals>.fallback\u001b[0;34m(self, old, new)\u001b[0m\n\u001b[1;32m   1129\u001b[0m         args[i] \u001b[39m=\u001b[39m arg\n\u001b[1;32m   1130\u001b[0m \u001b[39mif\u001b[39;00m hit:\n\u001b[0;32m-> 1131\u001b[0m     rv \u001b[39m=\u001b[39m \u001b[39mself\u001b[39;49m\u001b[39m.\u001b[39;49mfunc(\u001b[39m*\u001b[39;49margs)\n\u001b[1;32m   1132\u001b[0m     hack2 \u001b[39m=\u001b[39m hints\u001b[39m.\u001b[39mget(\u001b[39m'\u001b[39m\u001b[39mhack2\u001b[39m\u001b[39m'\u001b[39m, \u001b[39mFalse\u001b[39;00m)\n\u001b[1;32m   1133\u001b[0m     \u001b[39mif\u001b[39;00m hack2 \u001b[39mand\u001b[39;00m \u001b[39mself\u001b[39m\u001b[39m.\u001b[39mis_Mul \u001b[39mand\u001b[39;00m \u001b[39mnot\u001b[39;00m rv\u001b[39m.\u001b[39mis_Mul:  \u001b[39m# 2-arg hack\u001b[39;00m\n",
      "File \u001b[0;32m~/programming/nsu/vaje10/.venv/lib/python3.10/site-packages/sympy/core/cache.py:72\u001b[0m, in \u001b[0;36m__cacheit.<locals>.func_wrapper.<locals>.wrapper\u001b[0;34m(*args, **kwargs)\u001b[0m\n\u001b[1;32m     69\u001b[0m \u001b[39m@wraps\u001b[39m(func)\n\u001b[1;32m     70\u001b[0m \u001b[39mdef\u001b[39;00m \u001b[39mwrapper\u001b[39m(\u001b[39m*\u001b[39margs, \u001b[39m*\u001b[39m\u001b[39m*\u001b[39mkwargs):\n\u001b[1;32m     71\u001b[0m     \u001b[39mtry\u001b[39;00m:\n\u001b[0;32m---> 72\u001b[0m         retval \u001b[39m=\u001b[39m cfunc(\u001b[39m*\u001b[39;49margs, \u001b[39m*\u001b[39;49m\u001b[39m*\u001b[39;49mkwargs)\n\u001b[1;32m     73\u001b[0m     \u001b[39mexcept\u001b[39;00m \u001b[39mTypeError\u001b[39;00m \u001b[39mas\u001b[39;00m e:\n\u001b[1;32m     74\u001b[0m         \u001b[39mif\u001b[39;00m \u001b[39mnot\u001b[39;00m e\u001b[39m.\u001b[39margs \u001b[39mor\u001b[39;00m \u001b[39mnot\u001b[39;00m e\u001b[39m.\u001b[39margs[\u001b[39m0\u001b[39m]\u001b[39m.\u001b[39mstartswith(\u001b[39m'\u001b[39m\u001b[39munhashable type:\u001b[39m\u001b[39m'\u001b[39m):\n",
      "File \u001b[0;32m~/programming/nsu/vaje10/.venv/lib/python3.10/site-packages/sympy/core/operations.py:98\u001b[0m, in \u001b[0;36mAssocOp.__new__\u001b[0;34m(cls, evaluate, _sympify, *args)\u001b[0m\n\u001b[1;32m     95\u001b[0m \u001b[39mif\u001b[39;00m \u001b[39mlen\u001b[39m(args) \u001b[39m==\u001b[39m \u001b[39m1\u001b[39m:\n\u001b[1;32m     96\u001b[0m     \u001b[39mreturn\u001b[39;00m args[\u001b[39m0\u001b[39m]\n\u001b[0;32m---> 98\u001b[0m c_part, nc_part, order_symbols \u001b[39m=\u001b[39m \u001b[39mcls\u001b[39;49m\u001b[39m.\u001b[39;49mflatten(args)\n\u001b[1;32m     99\u001b[0m is_commutative \u001b[39m=\u001b[39m \u001b[39mnot\u001b[39;00m nc_part\n\u001b[1;32m    100\u001b[0m obj \u001b[39m=\u001b[39m \u001b[39mcls\u001b[39m\u001b[39m.\u001b[39m_from_args(c_part \u001b[39m+\u001b[39m nc_part, is_commutative)\n",
      "File \u001b[0;32m~/programming/nsu/vaje10/.venv/lib/python3.10/site-packages/sympy/core/mul.py:285\u001b[0m, in \u001b[0;36mMul.flatten\u001b[0;34m(cls, seq)\u001b[0m\n\u001b[1;32m    283\u001b[0m     seq \u001b[39m=\u001b[39m [a, b]\n\u001b[1;32m    284\u001b[0m \u001b[39massert\u001b[39;00m a \u001b[39mis\u001b[39;00m \u001b[39mnot\u001b[39;00m S\u001b[39m.\u001b[39mOne\n\u001b[0;32m--> 285\u001b[0m \u001b[39mif\u001b[39;00m \u001b[39mnot\u001b[39;00m a\u001b[39m.\u001b[39;49mis_zero \u001b[39mand\u001b[39;00m a\u001b[39m.\u001b[39mis_Rational:\n\u001b[1;32m    286\u001b[0m     r, b \u001b[39m=\u001b[39m b\u001b[39m.\u001b[39mas_coeff_Mul()\n\u001b[1;32m    287\u001b[0m     \u001b[39mif\u001b[39;00m b\u001b[39m.\u001b[39mis_Add:\n",
      "File \u001b[0;32m~/programming/nsu/vaje10/.venv/lib/python3.10/site-packages/sympy/core/assumptions.py:502\u001b[0m, in \u001b[0;36mmake_property.<locals>.getit\u001b[0;34m(self)\u001b[0m\n\u001b[1;32m    500\u001b[0m \u001b[39mexcept\u001b[39;00m \u001b[39mKeyError\u001b[39;00m:\n\u001b[1;32m    501\u001b[0m     \u001b[39mif\u001b[39;00m \u001b[39mself\u001b[39m\u001b[39m.\u001b[39m_assumptions \u001b[39mis\u001b[39;00m \u001b[39mself\u001b[39m\u001b[39m.\u001b[39mdefault_assumptions:\n\u001b[0;32m--> 502\u001b[0m         \u001b[39mself\u001b[39m\u001b[39m.\u001b[39m_assumptions \u001b[39m=\u001b[39m \u001b[39mself\u001b[39;49m\u001b[39m.\u001b[39;49mdefault_assumptions\u001b[39m.\u001b[39;49mcopy()\n\u001b[1;32m    503\u001b[0m     \u001b[39mreturn\u001b[39;00m _ask(fact, \u001b[39mself\u001b[39m)\n",
      "File \u001b[0;32m~/programming/nsu/vaje10/.venv/lib/python3.10/site-packages/sympy/core/assumptions.py:482\u001b[0m, in \u001b[0;36mStdFactKB.copy\u001b[0;34m(self)\u001b[0m\n\u001b[1;32m    481\u001b[0m \u001b[39mdef\u001b[39;00m \u001b[39mcopy\u001b[39m(\u001b[39mself\u001b[39m):\n\u001b[0;32m--> 482\u001b[0m     \u001b[39mreturn\u001b[39;00m \u001b[39mself\u001b[39;49m\u001b[39m.\u001b[39;49m\u001b[39m__class__\u001b[39;49m(\u001b[39mself\u001b[39;49m)\n",
      "File \u001b[0;32m~/programming/nsu/vaje10/.venv/lib/python3.10/site-packages/sympy/core/assumptions.py:479\u001b[0m, in \u001b[0;36mStdFactKB.__init__\u001b[0;34m(self, facts)\u001b[0m\n\u001b[1;32m    477\u001b[0m     \u001b[39mself\u001b[39m\u001b[39m.\u001b[39m_generator \u001b[39m=\u001b[39m facts\u001b[39m.\u001b[39mgenerator\n\u001b[1;32m    478\u001b[0m \u001b[39mif\u001b[39;00m facts:\n\u001b[0;32m--> 479\u001b[0m     \u001b[39mself\u001b[39;49m\u001b[39m.\u001b[39;49mdeduce_all_facts(facts)\n",
      "File \u001b[0;32m~/programming/nsu/vaje10/.venv/lib/python3.10/site-packages/sympy/core/facts.py:633\u001b[0m, in \u001b[0;36mFactKB.deduce_all_facts\u001b[0;34m(self, facts)\u001b[0m\n\u001b[1;32m    631\u001b[0m \u001b[39mfor\u001b[39;00m bidx \u001b[39min\u001b[39;00m beta_maytrigger:\n\u001b[1;32m    632\u001b[0m     bcond, bimpl \u001b[39m=\u001b[39m beta_rules[bidx]\n\u001b[0;32m--> 633\u001b[0m     \u001b[39mif\u001b[39;00m \u001b[39mall\u001b[39m(\u001b[39mself\u001b[39m\u001b[39m.\u001b[39mget(k) \u001b[39mis\u001b[39;00m v \u001b[39mfor\u001b[39;00m k, v \u001b[39min\u001b[39;00m bcond):\n\u001b[1;32m    634\u001b[0m         facts\u001b[39m.\u001b[39mappend(bimpl)\n",
      "\u001b[0;31mKeyboardInterrupt\u001b[0m: "
     ]
    }
   ],
   "source": [
    "dataez = generiraj_energijski_zakon(500, sum=0)\n",
    "polygra = \"E -> E '+' V [0.3] | E '*' V [0.2] | 'C' '*' V [0.5]\\nV -> 'm' [0.3]| 'h' [0.3] | 'v' [0.3] | 'C' [0.1]\"\n",
    "genpoly = pg.GeneratorGrammar(polygra)\n",
    "ED = pg.EqDisco(data=dataez, \n",
    "                lhs_vars=[\"E\"],\n",
    "                rhs_vars=[\"h\", \"m\", \"v\"],\n",
    "                generator=genpoly,\n",
    "                strategy_settings = {\"max_repeat\":1000},\n",
    "                sample_size=200)\n",
    "ED.generate_models()\n",
    "ED.fit_models()\n",
    "ED.get_results()"
   ]
  },
  {
   "attachments": {},
   "cell_type": "markdown",
   "metadata": {},
   "source": [
    "1.4. Loti se še naslednjih enačb:\n",
    "1. projekcija na y os pri kroženju $y = r\\sin(\\omega t)$, kjer je konstanta (*generiraj_krozenje*).  \n",
    "2. Lorenzov popravek $\\gamma = \\sqrt{1 - v^2/c^2}$, kjer je c hitrost svetlobe, približno $3\\cdot10^8 m/s$ (*generiraj_lorenz*)\n",
    "\n",
    "Za vsako od enačb napiši gramatiko, ki jo lahko odkrije. Premisli tudi, kakšne verjetnosti produkcij bi bile smiselne. Poskusi čim bolj omejiti prostor enačb, pri čemer naj ima gramatika še vedno vsaj eno rekurzivno pravilo. Gramatike lahko preizkusiš tudi na podatkih.\n"
   ]
  },
  {
   "cell_type": "code",
   "execution_count": 44,
   "metadata": {},
   "outputs": [
    {
     "data": {
      "text/plain": [
       "ModelBox: 16 models\n",
       "-> [C0*r*sin(C1*t)], p = 0.5, parse trees = 196, valid = False\n",
       "-> [C0*r*sin(C1*t) + 2*cos(C2*t)], p = 0.015625, parse trees = 196, valid = False\n",
       "-> [C0*r*sin(C1*t) + cos(C2*t)], p = 0.125, parse trees = 196, valid = False\n",
       "-> [C0*cos(C1*t)], p = 0.5, parse trees = 196, valid = False\n",
       "-> [C0*cos(C1*t) + cos(C2*t)], p = 0.125, parse trees = 196, valid = False\n",
       "-> [C0*cos(C1*t) + 2*r*sin(C2*t) + 2*cos(C3*t)], p = 0.0029296875, parse trees = 196, valid = False\n",
       "-> [C0*cos(C1*t) + r*sin(C2*t) + 2*cos(C3*t)], p = 0.00390625, parse trees = 196, valid = False\n",
       "-> [C0*cos(C1*t) + r*sin(C2*t) + cos(C3*t)], p = 0.03125, parse trees = 196, valid = False\n",
       "-> [C0*r*sin(C1*t) + 5*r*sin(C2*t)], p = 0.000244140625, parse trees = 196, valid = False\n",
       "-> [C0*cos(C1*t) + 2*r*sin(C2*t) + 4*cos(C3*t)], p = 6.103515625e-05, parse trees = 196, valid = False\n",
       "-> [C0*cos(C1*t) + 5*r*sin(C2*t) + 2*cos(C3*t)], p = 1.52587890625e-05, parse trees = 196, valid = False\n",
       "-> [C0*cos(C1*t) + 2*cos(C2*t)], p = 0.015625, parse trees = 196, valid = False\n",
       "-> [C0*cos(C1*t) + 3*r*sin(C2*t) + cos(C3*t)], p = 0.0009765625, parse trees = 196, valid = False\n",
       "-> [C0*r*sin(C1*t) + 2*r*sin(C2*t) + cos(C3*t)], p = 0.0078125, parse trees = 196, valid = False\n",
       "-> [C0*r*sin(C1*t) + r*sin(C2*t) + cos(C3*t)], p = 0.015625, parse trees = 196, valid = False\n",
       "-> [C0*r*sin(C1*t) + 3*r*sin(C2*t) + cos(C3*t)], p = 0.0009765625, parse trees = 196, valid = False"
      ]
     },
     "execution_count": 44,
     "metadata": {},
     "output_type": "execute_result"
    }
   ],
   "source": [
    "gramatika1 = \"E -> E '+' V [0.5]| 'C' '*' V [0.5]\\nV -> 'r' '*' 'sin(' K ')' [0.5] | 'cos(' K ')' [0.5]\\n K -> 'C' '*' 't'[1]\"\n",
    "\n",
    "gramatika1 = pg.GeneratorGrammar(gramatika1)\n",
    "podatki = generiraj_krozenje(100)\n",
    "ED = pg.EqDisco(data=podatki, \n",
    "                sample_size=50,\n",
    "                lhs_vars=[\"y\"],\n",
    "                rhs_vars=[\"r\", \"t\"],\n",
    "                generator = gramatika1)\n",
    "ED.generate_models()"
   ]
  },
  {
   "cell_type": "code",
   "execution_count": 53,
   "metadata": {},
   "outputs": [
    {
     "data": {
      "text/plain": [
       "ModelBox: 39 models\n",
       "-> [sqrt(C0*v**2 + C1*v + C2)], p = 0.001111963878662109, parse trees = 303, valid = False\n",
       "-> [sqrt(C0*v)], p = 0.18346562500000002, parse trees = 303, valid = False\n",
       "-> [sqrt(C0*v**3 + C1*v)], p = 0.002744965524902343, parse trees = 303, valid = False\n",
       "-> [sqrt(2)*sqrt(C0*v)], p = 0.015159375, parse trees = 303, valid = False\n",
       "-> [sqrt(C0*v**2 + C1*v)], p = 0.02968553293353576, parse trees = 303, valid = False\n",
       "-> [sqrt(C0*v + C1)], p = 0.03064271463561805, parse trees = 303, valid = False\n",
       "-> [sqrt(C0*v**2)], p = 0.08375937499999997, parse trees = 303, valid = False\n",
       "-> [sqrt(C0*v**3 + C1*v**2 + C2*v)], p = 4.037743717675025e-08, parse trees = 303, valid = False\n",
       "-> [sqrt(C0*v**2 + C1)], p = 0.009192468032958982, parse trees = 303, valid = False\n",
       "-> [sqrt(C0*v**5 + C1*v**4 + C2*v**2 + C3*v + C4)], p = 1.2850317474541446e-20, parse trees = 303, valid = False\n",
       "-> [sqrt(C0*v**3 + C1*v**2 + C2)], p = 3.3236499023437475e-07, parse trees = 303, valid = False\n",
       "-> [sqrt(C0*v**3 + C1*v + C2)], p = 1.5035559082031245e-06, parse trees = 303, valid = False\n",
       "-> [sqrt(5)*sqrt(C0*v)], p = 3.6929443359374993e-06, parse trees = 303, valid = False\n",
       "-> [sqrt(C0*v**3 + C1*v**2 + C2*v + C3)], p = 4.5422350031314823e-10, parse trees = 303, valid = False\n",
       "-> [sqrt(2)*sqrt(C0*v**2)], p = 0.004411368554687499, parse trees = 303, valid = False\n",
       "-> [sqrt(C0*v**3)], p = 0.05027256541015624, parse trees = 303, valid = False\n",
       "-> [sqrt(C0*v**7 + C1*v + C2)], p = 2.454810816299913e-12, parse trees = 303, valid = False\n",
       "-> [sqrt(C0*v**4 + C1*v)], p = 0.001377062066449695, parse trees = 303, valid = False\n",
       "-> [sqrt(C0*v**4)], p = 0.0022762605468749993, parse trees = 303, valid = False\n",
       "-> [sqrt(C0*v**3 + C1)], p = 0.003595470703124999, parse trees = 303, valid = False\n",
       "-> [sqrt(C0*v**5 + C1*v**2 + C2*v)], p = 1.6625173782348618e-08, parse trees = 303, valid = False\n",
       "-> [sqrt(3)*sqrt(C0*v)], p = 0.0062838671874999984, parse trees = 303, valid = False\n",
       "-> [sqrt(C0*v**4 + C1*v**2)], p = 0.0004595664062499998, parse trees = 303, valid = False\n",
       "-> [sqrt(C0*v**4 + C1*v**3 + C2*v)], p = 4.2222663574218724e-06, parse trees = 303, valid = False\n",
       "-> [2*sqrt(C0*v)], p = 0.00014068359374999997, parse trees = 303, valid = False\n",
       "-> [sqrt(C0*v**5 + C1*v**2 + C2*v + C3)], p = 9.468556005728239e-14, parse trees = 303, valid = False\n",
       "-> [sqrt(C0*v**5)], p = 0.0030790949218749987, parse trees = 303, valid = False\n",
       "-> [sqrt(C0*v**4 + C1*v + C2)], p = 3.5492296564578996e-14, parse trees = 303, valid = False\n",
       "-> [sqrt(C0*v**5 + C1*v**2)], p = 5.428628173828122e-07, parse trees = 303, valid = False\n",
       "-> [sqrt(C0*v**7 + C1*v**2 + C2*v)], p = 5.172276287841793e-07, parse trees = 303, valid = False\n",
       "-> [sqrt(C0*v**6 + C1*v**3)], p = 6.65006951293945e-08, parse trees = 303, valid = False\n",
       "-> [sqrt(C0*v**3 + C1*v**2)], p = 0.00022650058593749988, parse trees = 303, valid = False\n",
       "-> [sqrt(C0*v**6)], p = 0.0009191328124999996, parse trees = 303, valid = False\n",
       "-> [sqrt(C0*v**4 + C1*v**2 + C2*v + C3)], p = 7.273513529777523e-10, parse trees = 303, valid = False\n",
       "-> [sqrt(C0*v**4 + C1)], p = 1.2661523437499995e-05, parse trees = 303, valid = False\n",
       "-> [sqrt(C0*v**4 + C1*v**2 + C2*v)], p = 1.2063618164062496e-05, parse trees = 303, valid = False\n",
       "-> [sqrt(C0*v**5 + C1*v**3)], p = 5.6296884765624966e-05, parse trees = 303, valid = False\n",
       "-> [sqrt(C0*v**4 + C1*v**2 + C2)], p = 7.755183105468747e-07, parse trees = 303, valid = False\n",
       "-> [sqrt(C0*v**9 + C1)], p = 5.049896536388395e-12, parse trees = 303, valid = False"
      ]
     },
     "execution_count": 53,
     "metadata": {},
     "output_type": "execute_result"
    }
   ],
   "source": [
    "gramatika2 = \"E -> 'sqrt(' K ')'[1]\\n K -> K '+' V [0.5] | V [0.5]\\n V -> V '*' M [0.5]| M [0.5]\\nM -> 'C' '*' 'v'[0.7] | 'C' [0.3]\"\n",
    "\n",
    "gramatika2 = pg.GeneratorGrammar(gramatika2)\n",
    "podatki = generiraj_lorenz(100)\n",
    "ED = pg.EqDisco(data=podatki, \n",
    "                sample_size=300,\n",
    "                lhs_vars=[\"gamma\"],\n",
    "                rhs_vars=[\"v\"],\n",
    "                generator = gramatika2)\n",
    "ED.generate_models()"
   ]
  },
  {
   "attachments": {},
   "cell_type": "markdown",
   "metadata": {},
   "source": [
    "## 2. Preštevanje dreves in verjetnosti\n",
    "\n",
    "Za linearno gramatiko iz 1.2 ter vsako od gramatik iz 1.4. nariši:\n",
    "1. graf števila dreves z dano višino\n",
    "2. graf verjetnosti vseh dreves do vključno dane višine\n",
    "\n",
    "Če želiš, lahko sam implementiraš rekurzivne enačbe s predavanj. Alternativno lahko uporabiš ProGED-ovi metodi \"grammar.count_trees\" in \"grammar.count_coverage\". Obema je treba podati začetni neterminalni simbol, ki mora biti objekt nltk.Nonterminal.\n",
    "\n"
   ]
  },
  {
   "cell_type": "code",
   "execution_count": 68,
   "metadata": {},
   "outputs": [
    {
     "data": {
      "text/plain": [
       "[<matplotlib.lines.Line2D at 0x7fe8be415960>]"
      ]
     },
     "execution_count": 68,
     "metadata": {},
     "output_type": "execute_result"
    },
    {
     "data": {
      "image/png": "[encoded data removed]",
      "text/plain": [
       "<Figure size 640x480 with 1 Axes>"
      ]
     },
     "metadata": {},
     "output_type": "display_data"
    }
   ],
   "source": [
    "from nltk import Nonterminal\n",
    "import matplotlib.pyplot as plt\n",
    "from math import log\n",
    "ys = [log(gramatika2.count_trees(Nonterminal(\"E\"), height=i)+1) for i in range(10)]\n",
    "plt.plot(ys)"
   ]
  },
  {
   "cell_type": "code",
   "execution_count": 70,
   "metadata": {},
   "outputs": [
    {
     "data": {
      "text/plain": [
       "[<matplotlib.lines.Line2D at 0x7fe8be4cb970>]"
      ]
     },
     "execution_count": 70,
     "metadata": {},
     "output_type": "execute_result"
    },
    {
     "data": {
      "image/png": "[encoded data removed]",
      "text/plain": [
       "<Figure size 640x480 with 1 Axes>"
      ]
     },
     "metadata": {},
     "output_type": "display_data"
    }
   ],
   "source": [
    "y2s =[gramatika2.count_coverage(Nonterminal(\"E\"), height=i) for i in range(50)]\n",
    "plt.plot(y2s)"
   ]
  },
  {
   "attachments": {},
   "cell_type": "markdown",
   "metadata": {},
   "source": [
    "## 3. Merske enote\n",
    "\n",
    "Upoštevanje predznanja o merskih enotah spremenljivk nam pogosto lahko močno zmanjša prostor enačb. \n",
    "ProGED nam to omogoča preko formalizma atributnih gramatik, ki jih pretvorimo v navadne konteksno-neodvisne gramatike. Za pogoste tipe gramatik ProGED že implementira njihove dimenzijsko-pravilne različice.\n",
    "Enote predstavimo z vektorji v izbrani bazi osnovnih enot (recimo SI). \n",
    "\n",
    "3.1 Poglej si spodnji primer za Newtonov zakon ter dopolni manjkajoče!\n",
    "\n",
    "Plonkec iz osnovne šole:\n",
    "- Newtonov zakon $ F=m a$\n",
    "- F je sila, z enoto kg*m/s^2\n",
    "- m je masa, z enoto kg\n",
    "- a je pospešek, z enoto m/s^2"
   ]
  },
  {
   "cell_type": "code",
   "execution_count": 74,
   "metadata": {},
   "outputs": [
    {
     "data": {
      "text/plain": [
       "Grammar with 24 productions (start state = P_m1s-2kg1)\n",
       "    P_m1s-2kg1 -> P_m1s-2kg1 '+' M_m1s-2kg1 [0.4]\n",
       "    P_m1s-2kg1 -> M_m1s-2kg1 [0.6]\n",
       "    P_m1s-2kg0 -> P_m1s-2kg0 '+' M_m1s-2kg0 [0.4]\n",
       "    P_m1s-2kg0 -> M_m1s-2kg0 [0.6]\n",
       "    P_m0s0kg1 -> P_m0s0kg1 '+' M_m0s0kg1 [0.4]\n",
       "    P_m0s0kg1 -> M_m0s0kg1 [0.6]\n",
       "    P_m0s0kg0 -> P_m0s0kg0 '+' M_m0s0kg0 [0.4]\n",
       "    P_m0s0kg0 -> M_m0s0kg0 [0.6]\n",
       "    M_m1s-2kg1 -> M_m1s-2kg1 '*' V_m0s0kg0 [0.2]\n",
       "    M_m1s-2kg1 -> M_m0s0kg0 '*' V_m1s-2kg1 [0.2]\n",
       "    M_m1s-2kg1 -> M_m1s-2kg0 '*' V_m0s0kg1 [0.2]\n",
       "    M_m1s-2kg1 -> M_m0s0kg1 '*' V_m1s-2kg0 [0.2]\n",
       "    M_m1s-2kg1 -> V_m1s-2kg1 [0.2]\n",
       "    M_m1s-2kg0 -> M_m1s-2kg0 '*' V_m0s0kg0 [0.333333]\n",
       "    M_m1s-2kg0 -> M_m0s0kg0 '*' V_m1s-2kg0 [0.333333]\n",
       "    M_m1s-2kg0 -> V_m1s-2kg0 [0.333333]\n",
       "    M_m0s0kg1 -> M_m0s0kg1 '*' V_m0s0kg0 [0.333333]\n",
       "    M_m0s0kg1 -> M_m0s0kg0 '*' V_m0s0kg1 [0.333333]\n",
       "    M_m0s0kg1 -> V_m0s0kg1 [0.333333]\n",
       "    M_m0s0kg0 -> M_m0s0kg0 '*' V_m0s0kg0 [0.4]\n",
       "    M_m0s0kg0 -> V_m0s0kg0 [0.4]\n",
       "    M_m0s0kg0 -> 'C' [0.2]\n",
       "    V_m0s0kg1 -> 'm' [1.0]\n",
       "    V_m1s-2kg0 -> 'a' [1.0]"
      ]
     },
     "execution_count": 74,
     "metadata": {},
     "output_type": "execute_result"
    }
   ],
   "source": [
    "from ProGED.generators.dimensions import construct_dimensional_polynomial_grammar\n",
    "\n",
    "podatki = generiraj_newton(100)\n",
    "\n",
    "spremenljivke = [\"m\", \"a\"]\n",
    "simboli_enot = [\"m\", \"s\", \"kg\"]\n",
    "enote_na_desni = [[0,0,1], [1, -2, 0]]\n",
    "enota_na_levi = [1, -2, 1]\n",
    "\n",
    "grammar = construct_dimensional_polynomial_grammar(variables = spremenljivke,\n",
    "                                        units = enote_na_desni,\n",
    "                                        target_variable_unit = enota_na_levi,\n",
    "                                        unit_symbols = simboli_enot)\n",
    "\n",
    "grammar"
   ]
  },
  {
   "attachments": {},
   "cell_type": "markdown",
   "metadata": {},
   "source": [
    "Vidimo, da ima gramatika veliko več simbolov in produkcij, kot tiste, ki smo jih pisali na roko. Zdaj uporabimo EqDisco in zgenerirajmo množico enačb."
   ]
  },
  {
   "cell_type": "code",
   "execution_count": 75,
   "metadata": {},
   "outputs": [
    {
     "data": {
      "text/plain": [
       "ModelBox: 2 models\n",
       "-> [a*m], p = 0.12, parse trees = 305, valid = False\n",
       "-> [C0*a*m], p = 0.008, parse trees = 305, valid = False"
      ]
     },
     "execution_count": 75,
     "metadata": {},
     "output_type": "execute_result"
    }
   ],
   "source": [
    "ED = pg.EqDisco(data=podatki, \n",
    "                lhs_vars=[\"F\"],\n",
    "                rhs_vars=[\"m\", \"a\"],\n",
    "                sample_size=10,\n",
    "                generator = grammar)\n",
    "\n",
    "ED.generate_models()\n"
   ]
  },
  {
   "attachments": {},
   "cell_type": "markdown",
   "metadata": {},
   "source": [
    "3.2. Poglejmo še pod krov, torej atributno gramatiko, ki izraža pravila za računanje z merskimi enotami. Oglej si spodnjo atributno gramatiko za dimenzijsko-pravilne polinome ter premisli, kako bi napisal dimenzijsko-pravilno atributno verzijo gramatik, ki si jih sestavil v nalogi 1.4. "
   ]
  },
  {
   "cell_type": "code",
   "execution_count": 76,
   "metadata": {},
   "outputs": [
    {
     "data": {
      "text/plain": [
       "Grammar with 24 productions (start state = P_m1s-2kg1)\n",
       "    P_m1s-2kg1 -> P_m1s-2kg1 '+' M_m1s-2kg1 [0.4]\n",
       "    P_m1s-2kg1 -> M_m1s-2kg1 [0.6]\n",
       "    P_m1s-2kg0 -> P_m1s-2kg0 '+' M_m1s-2kg0 [0.4]\n",
       "    P_m1s-2kg0 -> M_m1s-2kg0 [0.6]\n",
       "    P_m0s0kg1 -> P_m0s0kg1 '+' M_m0s0kg1 [0.4]\n",
       "    P_m0s0kg1 -> M_m0s0kg1 [0.6]\n",
       "    P_m0s0kg0 -> P_m0s0kg0 '+' M_m0s0kg0 [0.4]\n",
       "    P_m0s0kg0 -> M_m0s0kg0 [0.6]\n",
       "    M_m1s-2kg1 -> M_m1s-2kg1 '*' V_m0s0kg0 [0.2]\n",
       "    M_m1s-2kg1 -> M_m0s0kg0 '*' V_m1s-2kg1 [0.2]\n",
       "    M_m1s-2kg1 -> M_m1s-2kg0 '*' V_m0s0kg1 [0.2]\n",
       "    M_m1s-2kg1 -> M_m0s0kg1 '*' V_m1s-2kg0 [0.2]\n",
       "    M_m1s-2kg1 -> V_m1s-2kg1 [0.2]\n",
       "    M_m1s-2kg0 -> M_m1s-2kg0 '*' V_m0s0kg0 [0.333333]\n",
       "    M_m1s-2kg0 -> M_m0s0kg0 '*' V_m1s-2kg0 [0.333333]\n",
       "    M_m1s-2kg0 -> V_m1s-2kg0 [0.333333]\n",
       "    M_m0s0kg1 -> M_m0s0kg1 '*' V_m0s0kg0 [0.333333]\n",
       "    M_m0s0kg1 -> M_m0s0kg0 '*' V_m0s0kg1 [0.333333]\n",
       "    M_m0s0kg1 -> V_m0s0kg1 [0.333333]\n",
       "    M_m0s0kg0 -> M_m0s0kg0 '*' V_m0s0kg0 [0.4]\n",
       "    M_m0s0kg0 -> V_m0s0kg0 [0.4]\n",
       "    M_m0s0kg0 -> 'C' [0.2]\n",
       "    V_m0s0kg1 -> 'm' [1.0]\n",
       "    V_m1s-2kg0 -> 'a' [1.0]"
      ]
     },
     "execution_count": 76,
     "metadata": {},
     "output_type": "execute_result"
    }
   ],
   "source": [
    "from ProGED.generators.dimensions import dimensional_attribute_grammar_to_pcfg\n",
    "from nltk import PCFG\n",
    "\n",
    "prods = []\n",
    "prods += [[\"P -> P '+' M\", 0.4, [\"uP1 - uP2\", \"uP1 - uM1\"]]]\n",
    "prods += [[\"P -> M\", 0.6, [\"uP1 - uM1\"]]]\n",
    "prods += [[\"M -> M '*' V\", 0.4, [\"-uM1 + uM2 + uV1\"]]]\n",
    "prods += [[\"M -> V\", 0.4, [\"uM1 - uV1\"]]]\n",
    "prods += [[\"M -> 'C'\", 0.2, [\"uM1\"]]]\n",
    "\n",
    "pcfg_start, pcfg_prods = dimensional_attribute_grammar_to_pcfg(prods, \n",
    "                                                               spremenljivke, \n",
    "                                                               enote_na_desni, \n",
    "                                                               enota_na_levi, \n",
    "                                                               append_vars = True, \n",
    "                                                               unit_symbols = simboli_enot)\n",
    "grammar = pg.GeneratorGrammar(PCFG(pcfg_start, pcfg_prods))\n",
    "grammar"
   ]
  },
  {
   "cell_type": "code",
   "execution_count": null,
   "metadata": {},
   "outputs": [],
   "source": []
  }
 ],
 "metadata": {
  "kernelspec": {
   "display_name": "NSUenv",
   "language": "python",
   "name": "python3"
  },
  "language_info": {
   "codemirror_mode": {
    "name": "ipython",
    "version": 3
   },
   "file_extension": ".py",
   "mimetype": "text/x-python",
   "name": "python",
   "nbconvert_exporter": "python",
   "pygments_lexer": "ipython3",
   "version": "3.10.10"
  },
  "orig_nbformat": 4
 },
 "nbformat": 4,
 "nbformat_minor": 2
}
